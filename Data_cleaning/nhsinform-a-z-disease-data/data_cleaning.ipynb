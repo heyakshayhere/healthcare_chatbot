{
 "cells": [
  {
   "cell_type": "code",
   "execution_count": 1,
   "id": "059438b6",
   "metadata": {
    "ExecuteTime": {
     "end_time": "2022-06-16T14:19:56.673843Z",
     "start_time": "2022-06-16T14:19:49.949400Z"
    }
   },
   "outputs": [
    {
     "data": {
      "application/javascript": [
       "IPython.notebook.set_autosave_interval(1000)"
      ]
     },
     "metadata": {},
     "output_type": "display_data"
    },
    {
     "name": "stdout",
     "output_type": "stream",
     "text": [
      "Autosaving every 1 seconds\n"
     ]
    }
   ],
   "source": [
    "import os \n",
    "os.environ['KMP_DUPLICATE_LIB_OK']='True'\n",
    "\n",
    "import pandas as pd,requests,bs4,re,time,io,pytesseract,easyocr,random,textstat,urllib.request\n",
    "from pdfminer.high_level import extract_text\n",
    "from PIL import Image\n",
    "from pathlib import Path\n",
    "from pdf2image import convert_from_path\n",
    "from selenium.webdriver.common.by import By\n",
    "from selenium.webdriver.common.keys import Keys\n",
    "from goose3 import Goose\n",
    "from datetime import datetime\n",
    "from bs4 import BeautifulSoup\n",
    "from selenium import webdriver\n",
    "from tqdm.auto import tqdm\n",
    "\n",
    "reader = easyocr.Reader(['en'])\n",
    "\n",
    "import warnings\n",
    "warnings.filterwarnings(\"ignore\")\n",
    "\n",
    "%autosave 1"
   ]
  },
  {
   "cell_type": "code",
   "execution_count": 2,
   "id": "737acdcb",
   "metadata": {
    "ExecuteTime": {
     "end_time": "2022-06-16T14:19:56.767593Z",
     "start_time": "2022-06-16T14:19:56.675840Z"
    }
   },
   "outputs": [
    {
     "data": {
      "text/html": [
       "<div>\n",
       "<style scoped>\n",
       "    .dataframe tbody tr th:only-of-type {\n",
       "        vertical-align: middle;\n",
       "    }\n",
       "\n",
       "    .dataframe tbody tr th {\n",
       "        vertical-align: top;\n",
       "    }\n",
       "\n",
       "    .dataframe thead th {\n",
       "        text-align: right;\n",
       "    }\n",
       "</style>\n",
       "<table border=\"1\" class=\"dataframe\">\n",
       "  <thead>\n",
       "    <tr style=\"text-align: right;\">\n",
       "      <th></th>\n",
       "      <th>disease</th>\n",
       "      <th>text</th>\n",
       "      <th>url</th>\n",
       "    </tr>\n",
       "  </thead>\n",
       "  <tbody>\n",
       "    <tr>\n",
       "      <th>0</th>\n",
       "      <td>Abdominal aortic aneurysm</td>\n",
       "      <td>About abdominal aortic aneurysms\\nAn abdominal...</td>\n",
       "      <td>https://www.nhsinform.scot/illnesses-and-condi...</td>\n",
       "    </tr>\n",
       "    <tr>\n",
       "      <th>1</th>\n",
       "      <td>Acne</td>\n",
       "      <td>About acne\\nAcne is a common skin condition th...</td>\n",
       "      <td>https://www.nhsinform.scot/illnesses-and-condi...</td>\n",
       "    </tr>\n",
       "    <tr>\n",
       "      <th>2</th>\n",
       "      <td>Acute cholecystitis</td>\n",
       "      <td>About acute cholecystitis\\nAcute cholecystitis...</td>\n",
       "      <td>https://www.nhsinform.scot/illnesses-and-condi...</td>\n",
       "    </tr>\n",
       "    <tr>\n",
       "      <th>3</th>\n",
       "      <td>Acute lymphoblastic leukaemia</td>\n",
       "      <td>About acute lymphoblastic leukaemia\\nLeukaemia...</td>\n",
       "      <td>https://www.nhsinform.scot/illnesses-and-condi...</td>\n",
       "    </tr>\n",
       "    <tr>\n",
       "      <th>4</th>\n",
       "      <td>Acute lymphoblastic leukaemia: Children</td>\n",
       "      <td>Introduction\\nAcute lymphoblastic leukaemia (A...</td>\n",
       "      <td>https://www.nhsinform.scot/illnesses-and-condi...</td>\n",
       "    </tr>\n",
       "    <tr>\n",
       "      <th>...</th>\n",
       "      <td>...</td>\n",
       "      <td>...</td>\n",
       "      <td>...</td>\n",
       "    </tr>\n",
       "    <tr>\n",
       "      <th>317</th>\n",
       "      <td>Warts and verrucas</td>\n",
       "      <td>About warts and verrucas\\nWarts are small lump...</td>\n",
       "      <td>https://www.nhsinform.scot/illnesses-and-condi...</td>\n",
       "    </tr>\n",
       "    <tr>\n",
       "      <th>318</th>\n",
       "      <td>Whooping cough</td>\n",
       "      <td>About whooping cough\\nWhooping cough, also cal...</td>\n",
       "      <td>https://www.nhsinform.scot/illnesses-and-condi...</td>\n",
       "    </tr>\n",
       "    <tr>\n",
       "      <th>319</th>\n",
       "      <td>Wilms’ tumour</td>\n",
       "      <td>Introduction\\nWilms’ tumour is a type of kidne...</td>\n",
       "      <td>https://www.nhsinform.scot/illnesses-and-condi...</td>\n",
       "    </tr>\n",
       "    <tr>\n",
       "      <th>320</th>\n",
       "      <td>Womb (uterus) cancer</td>\n",
       "      <td>About womb cancer\\nCancer of the womb (uterus)...</td>\n",
       "      <td>https://www.nhsinform.scot/illnesses-and-condi...</td>\n",
       "    </tr>\n",
       "    <tr>\n",
       "      <th>321</th>\n",
       "      <td>Yellow fever</td>\n",
       "      <td>Last updated:\\n02 June 2022</td>\n",
       "      <td>https://www.nhsinform.scot/illnesses-and-condi...</td>\n",
       "    </tr>\n",
       "  </tbody>\n",
       "</table>\n",
       "<p>322 rows × 3 columns</p>\n",
       "</div>"
      ],
      "text/plain": [
       "                                     disease  \\\n",
       "0                  Abdominal aortic aneurysm   \n",
       "1                                       Acne   \n",
       "2                        Acute cholecystitis   \n",
       "3              Acute lymphoblastic leukaemia   \n",
       "4    Acute lymphoblastic leukaemia: Children   \n",
       "..                                       ...   \n",
       "317                       Warts and verrucas   \n",
       "318                           Whooping cough   \n",
       "319                            Wilms’ tumour   \n",
       "320                     Womb (uterus) cancer   \n",
       "321                             Yellow fever   \n",
       "\n",
       "                                                  text  \\\n",
       "0    About abdominal aortic aneurysms\\nAn abdominal...   \n",
       "1    About acne\\nAcne is a common skin condition th...   \n",
       "2    About acute cholecystitis\\nAcute cholecystitis...   \n",
       "3    About acute lymphoblastic leukaemia\\nLeukaemia...   \n",
       "4    Introduction\\nAcute lymphoblastic leukaemia (A...   \n",
       "..                                                 ...   \n",
       "317  About warts and verrucas\\nWarts are small lump...   \n",
       "318  About whooping cough\\nWhooping cough, also cal...   \n",
       "319  Introduction\\nWilms’ tumour is a type of kidne...   \n",
       "320  About womb cancer\\nCancer of the womb (uterus)...   \n",
       "321                        Last updated:\\n02 June 2022   \n",
       "\n",
       "                                                   url  \n",
       "0    https://www.nhsinform.scot/illnesses-and-condi...  \n",
       "1    https://www.nhsinform.scot/illnesses-and-condi...  \n",
       "2    https://www.nhsinform.scot/illnesses-and-condi...  \n",
       "3    https://www.nhsinform.scot/illnesses-and-condi...  \n",
       "4    https://www.nhsinform.scot/illnesses-and-condi...  \n",
       "..                                                 ...  \n",
       "317  https://www.nhsinform.scot/illnesses-and-condi...  \n",
       "318  https://www.nhsinform.scot/illnesses-and-condi...  \n",
       "319  https://www.nhsinform.scot/illnesses-and-condi...  \n",
       "320  https://www.nhsinform.scot/illnesses-and-condi...  \n",
       "321  https://www.nhsinform.scot/illnesses-and-condi...  \n",
       "\n",
       "[322 rows x 3 columns]"
      ]
     },
     "execution_count": 2,
     "metadata": {},
     "output_type": "execute_result"
    }
   ],
   "source": [
    "df = pd.read_csv(\"NHSinform disease_data.csv\")\n",
    "df"
   ]
  },
  {
   "cell_type": "code",
   "execution_count": 3,
   "id": "e92d0235",
   "metadata": {
    "ExecuteTime": {
     "end_time": "2022-06-16T14:19:56.783555Z",
     "start_time": "2022-06-16T14:19:56.770585Z"
    }
   },
   "outputs": [
    {
     "data": {
      "text/plain": [
       "disease     0\n",
       "text       17\n",
       "url         0\n",
       "dtype: int64"
      ]
     },
     "execution_count": 3,
     "metadata": {},
     "output_type": "execute_result"
    }
   ],
   "source": [
    "df.isna().sum()"
   ]
  },
  {
   "cell_type": "code",
   "execution_count": 4,
   "id": "27d60501",
   "metadata": {
    "ExecuteTime": {
     "end_time": "2022-06-16T14:19:56.814468Z",
     "start_time": "2022-06-16T14:19:56.788549Z"
    }
   },
   "outputs": [
    {
     "data": {
      "text/html": [
       "<div>\n",
       "<style scoped>\n",
       "    .dataframe tbody tr th:only-of-type {\n",
       "        vertical-align: middle;\n",
       "    }\n",
       "\n",
       "    .dataframe tbody tr th {\n",
       "        vertical-align: top;\n",
       "    }\n",
       "\n",
       "    .dataframe thead th {\n",
       "        text-align: right;\n",
       "    }\n",
       "</style>\n",
       "<table border=\"1\" class=\"dataframe\">\n",
       "  <thead>\n",
       "    <tr style=\"text-align: right;\">\n",
       "      <th></th>\n",
       "      <th>disease</th>\n",
       "      <th>text</th>\n",
       "      <th>url</th>\n",
       "    </tr>\n",
       "  </thead>\n",
       "  <tbody>\n",
       "    <tr>\n",
       "      <th>0</th>\n",
       "      <td>Chronic fatigue syndrome</td>\n",
       "      <td>NaN</td>\n",
       "      <td>https://www.nhsinform.scot/illnesses-and-condi...</td>\n",
       "    </tr>\n",
       "    <tr>\n",
       "      <th>1</th>\n",
       "      <td>Coronavirus (COVID-19)</td>\n",
       "      <td>NaN</td>\n",
       "      <td>https://www.nhsinform.scot/illnesses-and-condi...</td>\n",
       "    </tr>\n",
       "    <tr>\n",
       "      <th>2</th>\n",
       "      <td>Dementia</td>\n",
       "      <td>NaN</td>\n",
       "      <td>https://www.nhsinform.scot/illnesses-and-condi...</td>\n",
       "    </tr>\n",
       "    <tr>\n",
       "      <th>3</th>\n",
       "      <td>Diabetes</td>\n",
       "      <td>NaN</td>\n",
       "      <td>https://www.nhsinform.scot/illnesses-and-condi...</td>\n",
       "    </tr>\n",
       "    <tr>\n",
       "      <th>4</th>\n",
       "      <td>Foetal alcohol syndrome</td>\n",
       "      <td>NaN</td>\n",
       "      <td>https://www.nhsinform.scot/illnesses-and-condi...</td>\n",
       "    </tr>\n",
       "    <tr>\n",
       "      <th>5</th>\n",
       "      <td>Langerhans cell histiocytosis</td>\n",
       "      <td>NaN</td>\n",
       "      <td>https://www.nhsinform.scot/illnesses-and-condi...</td>\n",
       "    </tr>\n",
       "    <tr>\n",
       "      <th>6</th>\n",
       "      <td>Malnutrition</td>\n",
       "      <td>NaN</td>\n",
       "      <td>https://www.nhsinform.scot/illnesses-and-condi...</td>\n",
       "    </tr>\n",
       "    <tr>\n",
       "      <th>7</th>\n",
       "      <td>Menopause</td>\n",
       "      <td>NaN</td>\n",
       "      <td>https://www.nhsinform.scot/illnesses-and-condi...</td>\n",
       "    </tr>\n",
       "    <tr>\n",
       "      <th>8</th>\n",
       "      <td>Norovirus</td>\n",
       "      <td>NaN</td>\n",
       "      <td>https://www.nhsinform.scot/illnesses-and-condi...</td>\n",
       "    </tr>\n",
       "    <tr>\n",
       "      <th>9</th>\n",
       "      <td>Pregnancy and baby</td>\n",
       "      <td>NaN</td>\n",
       "      <td>https://www.nhsinform.scot/illnesses-and-condi...</td>\n",
       "    </tr>\n",
       "    <tr>\n",
       "      <th>10</th>\n",
       "      <td>Stress, anxiety and low mood</td>\n",
       "      <td>NaN</td>\n",
       "      <td>https://www.nhsinform.scot/illnesses-and-condi...</td>\n",
       "    </tr>\n",
       "    <tr>\n",
       "      <th>11</th>\n",
       "      <td>Stroke</td>\n",
       "      <td>NaN</td>\n",
       "      <td>https://www.nhsinform.scot/illnesses-and-condi...</td>\n",
       "    </tr>\n",
       "    <tr>\n",
       "      <th>12</th>\n",
       "      <td>Sudden infant death syndrome (SIDS)</td>\n",
       "      <td>NaN</td>\n",
       "      <td>https://www.nhsinform.scot/illnesses-and-condi...</td>\n",
       "    </tr>\n",
       "    <tr>\n",
       "      <th>13</th>\n",
       "      <td>Suicide</td>\n",
       "      <td>NaN</td>\n",
       "      <td>https://www.nhsinform.scot/illnesses-and-condi...</td>\n",
       "    </tr>\n",
       "    <tr>\n",
       "      <th>14</th>\n",
       "      <td>Thrush in men</td>\n",
       "      <td>NaN</td>\n",
       "      <td>https://www.nhsinform.scot/illnesses-and-condi...</td>\n",
       "    </tr>\n",
       "    <tr>\n",
       "      <th>15</th>\n",
       "      <td>Transient ischaemic attack (TIA)</td>\n",
       "      <td>NaN</td>\n",
       "      <td>https://www.nhsinform.scot/illnesses-and-condi...</td>\n",
       "    </tr>\n",
       "    <tr>\n",
       "      <th>16</th>\n",
       "      <td>Vaginal thrush</td>\n",
       "      <td>NaN</td>\n",
       "      <td>https://www.nhsinform.scot/illnesses-and-condi...</td>\n",
       "    </tr>\n",
       "  </tbody>\n",
       "</table>\n",
       "</div>"
      ],
      "text/plain": [
       "                                disease text  \\\n",
       "0              Chronic fatigue syndrome  NaN   \n",
       "1                Coronavirus (COVID-19)  NaN   \n",
       "2                              Dementia  NaN   \n",
       "3                              Diabetes  NaN   \n",
       "4               Foetal alcohol syndrome  NaN   \n",
       "5         Langerhans cell histiocytosis  NaN   \n",
       "6                          Malnutrition  NaN   \n",
       "7                             Menopause  NaN   \n",
       "8                             Norovirus  NaN   \n",
       "9                    Pregnancy and baby  NaN   \n",
       "10         Stress, anxiety and low mood  NaN   \n",
       "11                               Stroke  NaN   \n",
       "12  Sudden infant death syndrome (SIDS)  NaN   \n",
       "13                              Suicide  NaN   \n",
       "14                        Thrush in men  NaN   \n",
       "15     Transient ischaemic attack (TIA)  NaN   \n",
       "16                       Vaginal thrush  NaN   \n",
       "\n",
       "                                                  url  \n",
       "0   https://www.nhsinform.scot/illnesses-and-condi...  \n",
       "1   https://www.nhsinform.scot/illnesses-and-condi...  \n",
       "2   https://www.nhsinform.scot/illnesses-and-condi...  \n",
       "3   https://www.nhsinform.scot/illnesses-and-condi...  \n",
       "4   https://www.nhsinform.scot/illnesses-and-condi...  \n",
       "5   https://www.nhsinform.scot/illnesses-and-condi...  \n",
       "6   https://www.nhsinform.scot/illnesses-and-condi...  \n",
       "7   https://www.nhsinform.scot/illnesses-and-condi...  \n",
       "8   https://www.nhsinform.scot/illnesses-and-condi...  \n",
       "9   https://www.nhsinform.scot/illnesses-and-condi...  \n",
       "10  https://www.nhsinform.scot/illnesses-and-condi...  \n",
       "11  https://www.nhsinform.scot/illnesses-and-condi...  \n",
       "12  https://www.nhsinform.scot/illnesses-and-condi...  \n",
       "13  https://www.nhsinform.scot/illnesses-and-condi...  \n",
       "14  https://www.nhsinform.scot/illnesses-and-condi...  \n",
       "15  https://www.nhsinform.scot/illnesses-and-condi...  \n",
       "16  https://www.nhsinform.scot/illnesses-and-condi...  "
      ]
     },
     "execution_count": 4,
     "metadata": {},
     "output_type": "execute_result"
    }
   ],
   "source": [
    "df_na = df[df['text'].isna()]\n",
    "df_na.reset_index(drop=True,inplace=True)\n",
    "df_na"
   ]
  },
  {
   "cell_type": "code",
   "execution_count": 5,
   "id": "bfa2ac01",
   "metadata": {
    "ExecuteTime": {
     "end_time": "2022-06-16T14:19:56.844388Z",
     "start_time": "2022-06-16T14:19:56.817460Z"
    },
    "scrolled": false
   },
   "outputs": [
    {
     "name": "stdout",
     "output_type": "stream",
     "text": [
      "Chronic fatigue syndrome https://www.nhsinform.scot/illnesses-and-conditions/a-to-z/c/chronic-fatigue-syndrome\n",
      "Coronavirus (COVID-19) https://www.nhsinform.scot/illnesses-and-conditions/a-to-z/c/coronavirus-covid-19\n",
      "Dementia https://www.nhsinform.scot/illnesses-and-conditions/a-to-z/d/dementia\n",
      "Diabetes https://www.nhsinform.scot/illnesses-and-conditions/a-to-z/d/diabetes\n",
      "Foetal alcohol syndrome https://www.nhsinform.scot/illnesses-and-conditions/a-to-z/f/foetal-alcohol-syndrome\n",
      "Langerhans cell histiocytosis https://www.nhsinform.scot/illnesses-and-conditions/a-to-z/l/langerhans-cell-histiocytosis\n",
      "Malnutrition https://www.nhsinform.scot/illnesses-and-conditions/a-to-z/m/malnutrition\n",
      "Menopause https://www.nhsinform.scot/illnesses-and-conditions/a-to-z/m/menopause\n",
      "Norovirus https://www.nhsinform.scot/illnesses-and-conditions/a-to-z/n/norovirus\n",
      "Pregnancy and baby https://www.nhsinform.scot/illnesses-and-conditions/a-to-z/p/pregnancy-and-baby\n",
      "Stress, anxiety and low mood https://www.nhsinform.scot/illnesses-and-conditions/a-to-z/s/stress-anxiety-and-low-mood\n",
      "Stroke https://www.nhsinform.scot/illnesses-and-conditions/a-to-z/s/stroke\n",
      "Sudden infant death syndrome (SIDS) https://www.nhsinform.scot/illnesses-and-conditions/a-to-z/s/sudden-infant-death-syndrome-sids\n",
      "Suicide https://www.nhsinform.scot/illnesses-and-conditions/a-to-z/s/suicide\n",
      "Thrush in men https://www.nhsinform.scot/illnesses-and-conditions/a-to-z/t/thrush-in-men\n",
      "Transient ischaemic attack (TIA) https://www.nhsinform.scot/illnesses-and-conditions/a-to-z/t/transient-ischaemic-attack-tia\n",
      "Vaginal thrush https://www.nhsinform.scot/illnesses-and-conditions/a-to-z/v/vaginal-thrush\n"
     ]
    }
   ],
   "source": [
    "import webbrowser\n",
    "\n",
    "#this will open all the link to verify manually\n",
    "for x in range(len(df_na)):    \n",
    "#     webbrowser.open(df_na.iloc[x]['url']) \n",
    "    print(df_na.iloc[x]['disease'],df_na.iloc[x]['url'])"
   ]
  },
  {
   "cell_type": "code",
   "execution_count": 6,
   "id": "db514585",
   "metadata": {
    "ExecuteTime": {
     "end_time": "2022-06-16T14:19:59.367210Z",
     "start_time": "2022-06-16T14:19:56.845385Z"
    }
   },
   "outputs": [
    {
     "name": "stderr",
     "output_type": "stream",
     "text": [
      "\n",
      "\n",
      "====== WebDriver manager ======\n",
      "Current google-chrome version is 102.0.5005\n",
      "Get LATEST chromedriver version for 102.0.5005 google-chrome\n",
      "Driver [C:\\Users\\AKSHAY SATPUTE\\.wdm\\drivers\\chromedriver\\win32\\102.0.5005.61\\chromedriver.exe] found in cache\n"
     ]
    }
   ],
   "source": [
    "#driver for operation\n",
    "from webdriver_manager.chrome import ChromeDriverManager\n",
    "option = webdriver.ChromeOptions()\n",
    "# option.add_argument('headless')\n",
    "driver = webdriver.Chrome(ChromeDriverManager().install(),options=option)"
   ]
  },
  {
   "cell_type": "code",
   "execution_count": 7,
   "id": "ff8cb465",
   "metadata": {
    "ExecuteTime": {
     "end_time": "2022-06-16T14:19:59.383230Z",
     "start_time": "2022-06-16T14:19:59.369204Z"
    }
   },
   "outputs": [
    {
     "data": {
      "text/html": [
       "<div>\n",
       "<style scoped>\n",
       "    .dataframe tbody tr th:only-of-type {\n",
       "        vertical-align: middle;\n",
       "    }\n",
       "\n",
       "    .dataframe tbody tr th {\n",
       "        vertical-align: top;\n",
       "    }\n",
       "\n",
       "    .dataframe thead th {\n",
       "        text-align: right;\n",
       "    }\n",
       "</style>\n",
       "<table border=\"1\" class=\"dataframe\">\n",
       "  <thead>\n",
       "    <tr style=\"text-align: right;\">\n",
       "      <th></th>\n",
       "      <th>disease</th>\n",
       "      <th>text</th>\n",
       "      <th>url</th>\n",
       "    </tr>\n",
       "  </thead>\n",
       "  <tbody>\n",
       "    <tr>\n",
       "      <th>0</th>\n",
       "      <td>Foetal alcohol syndrome</td>\n",
       "      <td>NaN</td>\n",
       "      <td>https://www.nhsinform.scot/illnesses-and-condi...</td>\n",
       "    </tr>\n",
       "    <tr>\n",
       "      <th>1</th>\n",
       "      <td>Sudden infant death syndrome (SIDS)</td>\n",
       "      <td>NaN</td>\n",
       "      <td>https://www.nhsinform.scot/illnesses-and-condi...</td>\n",
       "    </tr>\n",
       "  </tbody>\n",
       "</table>\n",
       "</div>"
      ],
      "text/plain": [
       "                               disease text  \\\n",
       "0              Foetal alcohol syndrome  NaN   \n",
       "1  Sudden infant death syndrome (SIDS)  NaN   \n",
       "\n",
       "                                                 url  \n",
       "0  https://www.nhsinform.scot/illnesses-and-condi...  \n",
       "1  https://www.nhsinform.scot/illnesses-and-condi...  "
      ]
     },
     "execution_count": 7,
     "metadata": {},
     "output_type": "execute_result"
    }
   ],
   "source": [
    "df_na1 = df_na[df_na['disease'].isin([\"Foetal alcohol syndrome\",\"Sudden infant death syndrome (SIDS)\"])]\n",
    "df_na1.reset_index(drop=True,inplace=True)\n",
    "df_na1"
   ]
  },
  {
   "cell_type": "code",
   "execution_count": 8,
   "id": "8e7d8bf7",
   "metadata": {
    "ExecuteTime": {
     "end_time": "2022-06-16T14:20:08.065763Z",
     "start_time": "2022-06-16T14:19:59.387157Z"
    }
   },
   "outputs": [
    {
     "data": {
      "application/vnd.jupyter.widget-view+json": {
       "model_id": "7daf1f97262f4ea3bc7b5a9c0564a0ae",
       "version_major": 2,
       "version_minor": 0
      },
      "text/plain": [
       "  0%|          | 0/2 [00:00<?, ?it/s]"
      ]
     },
     "metadata": {},
     "output_type": "display_data"
    }
   ],
   "source": [
    "for x in tqdm(range(len(df_na1))):    \n",
    "    link = df_na1.iloc[x]['url']\n",
    "    driver.get(link)\n",
    "    \n",
    "    #cookies\n",
    "    try:\n",
    "        driver.find_element_by_xpath('''//*[@id=\"ccc-notify-accept\"]''').click()\n",
    "    except:\n",
    "        pass\n",
    "\n",
    "    text = driver.find_element(By.XPATH,f'''//*[@id=\"maincontent\"]/div[4]/div[2]/div[1]/div[1]/div[2]''').text.strip()\n",
    "\n",
    "    df_na1.iloc[x]['text'] = text"
   ]
  },
  {
   "cell_type": "code",
   "execution_count": 9,
   "id": "6af866c6",
   "metadata": {
    "ExecuteTime": {
     "end_time": "2022-06-16T14:20:08.081685Z",
     "start_time": "2022-06-16T14:20:08.066736Z"
    }
   },
   "outputs": [
    {
     "data": {
      "text/html": [
       "<div>\n",
       "<style scoped>\n",
       "    .dataframe tbody tr th:only-of-type {\n",
       "        vertical-align: middle;\n",
       "    }\n",
       "\n",
       "    .dataframe tbody tr th {\n",
       "        vertical-align: top;\n",
       "    }\n",
       "\n",
       "    .dataframe thead th {\n",
       "        text-align: right;\n",
       "    }\n",
       "</style>\n",
       "<table border=\"1\" class=\"dataframe\">\n",
       "  <thead>\n",
       "    <tr style=\"text-align: right;\">\n",
       "      <th></th>\n",
       "      <th>disease</th>\n",
       "      <th>text</th>\n",
       "      <th>url</th>\n",
       "    </tr>\n",
       "  </thead>\n",
       "  <tbody>\n",
       "    <tr>\n",
       "      <th>0</th>\n",
       "      <td>Foetal alcohol syndrome</td>\n",
       "      <td>There's no known safe limit of drinking during...</td>\n",
       "      <td>https://www.nhsinform.scot/illnesses-and-condi...</td>\n",
       "    </tr>\n",
       "    <tr>\n",
       "      <th>1</th>\n",
       "      <td>Sudden infant death syndrome (SIDS)</td>\n",
       "      <td>For the first 6 months of your baby's life the...</td>\n",
       "      <td>https://www.nhsinform.scot/illnesses-and-condi...</td>\n",
       "    </tr>\n",
       "  </tbody>\n",
       "</table>\n",
       "</div>"
      ],
      "text/plain": [
       "                               disease  \\\n",
       "0              Foetal alcohol syndrome   \n",
       "1  Sudden infant death syndrome (SIDS)   \n",
       "\n",
       "                                                text  \\\n",
       "0  There's no known safe limit of drinking during...   \n",
       "1  For the first 6 months of your baby's life the...   \n",
       "\n",
       "                                                 url  \n",
       "0  https://www.nhsinform.scot/illnesses-and-condi...  \n",
       "1  https://www.nhsinform.scot/illnesses-and-condi...  "
      ]
     },
     "execution_count": 9,
     "metadata": {},
     "output_type": "execute_result"
    }
   ],
   "source": [
    "df_na1"
   ]
  },
  {
   "cell_type": "code",
   "execution_count": 10,
   "id": "b11cb0b8",
   "metadata": {
    "ExecuteTime": {
     "end_time": "2022-06-16T14:20:08.113622Z",
     "start_time": "2022-06-16T14:20:08.082683Z"
    }
   },
   "outputs": [
    {
     "data": {
      "application/vnd.jupyter.widget-view+json": {
       "model_id": "709de0b43e0944549fdc3c138b3f240c",
       "version_major": 2,
       "version_minor": 0
      },
      "text/plain": [
       "  0%|          | 0/2 [00:00<?, ?it/s]"
      ]
     },
     "metadata": {},
     "output_type": "display_data"
    }
   ],
   "source": [
    "for i in tqdm(range(len(df_na1))):\n",
    "    ii = (df[df['disease'] == df_na1.iloc[i]['disease']]).index[0]\n",
    "    df.iloc[ii]['text'] = df_na1.iloc[i]['text']"
   ]
  },
  {
   "cell_type": "code",
   "execution_count": 11,
   "id": "c5e41680",
   "metadata": {
    "ExecuteTime": {
     "end_time": "2022-06-16T14:20:08.129557Z",
     "start_time": "2022-06-16T14:20:08.114598Z"
    }
   },
   "outputs": [
    {
     "data": {
      "text/html": [
       "<div>\n",
       "<style scoped>\n",
       "    .dataframe tbody tr th:only-of-type {\n",
       "        vertical-align: middle;\n",
       "    }\n",
       "\n",
       "    .dataframe tbody tr th {\n",
       "        vertical-align: top;\n",
       "    }\n",
       "\n",
       "    .dataframe thead th {\n",
       "        text-align: right;\n",
       "    }\n",
       "</style>\n",
       "<table border=\"1\" class=\"dataframe\">\n",
       "  <thead>\n",
       "    <tr style=\"text-align: right;\">\n",
       "      <th></th>\n",
       "      <th>disease</th>\n",
       "      <th>text</th>\n",
       "      <th>url</th>\n",
       "    </tr>\n",
       "  </thead>\n",
       "  <tbody>\n",
       "    <tr>\n",
       "      <th>117</th>\n",
       "      <td>Foetal alcohol syndrome</td>\n",
       "      <td>There's no known safe limit of drinking during...</td>\n",
       "      <td>https://www.nhsinform.scot/illnesses-and-condi...</td>\n",
       "    </tr>\n",
       "    <tr>\n",
       "      <th>279</th>\n",
       "      <td>Sudden infant death syndrome (SIDS)</td>\n",
       "      <td>For the first 6 months of your baby's life the...</td>\n",
       "      <td>https://www.nhsinform.scot/illnesses-and-condi...</td>\n",
       "    </tr>\n",
       "  </tbody>\n",
       "</table>\n",
       "</div>"
      ],
      "text/plain": [
       "                                 disease  \\\n",
       "117              Foetal alcohol syndrome   \n",
       "279  Sudden infant death syndrome (SIDS)   \n",
       "\n",
       "                                                  text  \\\n",
       "117  There's no known safe limit of drinking during...   \n",
       "279  For the first 6 months of your baby's life the...   \n",
       "\n",
       "                                                   url  \n",
       "117  https://www.nhsinform.scot/illnesses-and-condi...  \n",
       "279  https://www.nhsinform.scot/illnesses-and-condi...  "
      ]
     },
     "execution_count": 11,
     "metadata": {},
     "output_type": "execute_result"
    }
   ],
   "source": [
    "df[df['disease'].isin([\"Foetal alcohol syndrome\",\"Sudden infant death syndrome (SIDS)\"])]"
   ]
  },
  {
   "cell_type": "code",
   "execution_count": 12,
   "id": "83e9c143",
   "metadata": {
    "ExecuteTime": {
     "end_time": "2022-06-16T14:20:08.144516Z",
     "start_time": "2022-06-16T14:20:08.133547Z"
    }
   },
   "outputs": [
    {
     "data": {
      "text/plain": [
       "disease     0\n",
       "text       15\n",
       "url         0\n",
       "dtype: int64"
      ]
     },
     "execution_count": 12,
     "metadata": {},
     "output_type": "execute_result"
    }
   ],
   "source": [
    "df.isna().sum()"
   ]
  },
  {
   "cell_type": "code",
   "execution_count": 13,
   "id": "ee9d231f",
   "metadata": {
    "ExecuteTime": {
     "end_time": "2022-06-16T14:20:08.159475Z",
     "start_time": "2022-06-16T14:20:08.146514Z"
    }
   },
   "outputs": [],
   "source": [
    "df.dropna(inplace=True)"
   ]
  },
  {
   "cell_type": "code",
   "execution_count": 14,
   "id": "bb4b52d3",
   "metadata": {
    "ExecuteTime": {
     "end_time": "2022-06-16T14:20:08.189801Z",
     "start_time": "2022-06-16T14:20:08.160473Z"
    }
   },
   "outputs": [
    {
     "data": {
      "text/plain": [
       "disease    0\n",
       "text       0\n",
       "url        0\n",
       "dtype: int64"
      ]
     },
     "execution_count": 14,
     "metadata": {},
     "output_type": "execute_result"
    }
   ],
   "source": [
    "df.isna().sum()"
   ]
  },
  {
   "cell_type": "code",
   "execution_count": 15,
   "id": "0375299d",
   "metadata": {
    "ExecuteTime": {
     "end_time": "2022-06-16T14:20:08.450095Z",
     "start_time": "2022-06-16T14:20:08.193742Z"
    },
    "scrolled": true
   },
   "outputs": [
    {
     "name": "stdout",
     "output_type": "stream",
     "text": [
      "Chest pain\n",
      "https://www.nhsinform.scot/illnesses-and-conditions/a-to-z/c/chest-pain\n",
      "Last updated:\n",
      "06 April 2022\n",
      "\n",
      "Chilblains\n",
      "https://www.nhsinform.scot/illnesses-and-conditions/a-to-z/c/chilblains\n",
      "Last updated:\n",
      "09 February 2022\n",
      "\n",
      "Chlamydia\n",
      "https://www.nhsinform.scot/illnesses-and-conditions/a-to-z/c/chlamydia\n",
      "Last updated:\n",
      "31 January 2022\n",
      "\n",
      "Common heart conditions\n",
      "https://www.nhsinform.scot/illnesses-and-conditions/a-to-z/c/common-heart-conditions\n",
      "Last updated:\n",
      "13 February 2020\n",
      "\n",
      "Cough\n",
      "https://www.nhsinform.scot/illnesses-and-conditions/a-to-z/c/cough\n",
      "Last updated:\n",
      "31 January 2022\n",
      "\n",
      "Dermatitis herpetiformis\n",
      "https://www.nhsinform.scot/illnesses-and-conditions/a-to-z/d/dermatitis-herpetiformis\n",
      "Last updated:\n",
      "09 February 2022\n",
      "\n",
      "Dizziness (Lightheadedness)\n",
      "https://www.nhsinform.scot/illnesses-and-conditions/a-to-z/d/dizziness-lightheadedness\n",
      "Last updated:\n",
      "19 October 2021\n",
      "\n",
      "Ectopic pregnancy\n",
      "https://www.nhsinform.scot/illnesses-and-conditions/a-to-z/e/ectopic-pregnancy\n",
      "How can we improve this page?\n",
      "\n",
      "Endometriosis\n",
      "https://www.nhsinform.scot/illnesses-and-conditions/a-to-z/e/endometriosis\n",
      "Last updated:\n",
      "19 May 2022\n",
      "\n",
      "Fever in adults\n",
      "https://www.nhsinform.scot/illnesses-and-conditions/a-to-z/f/fever-in-adults\n",
      "Last updated:\n",
      "19 May 2022\n",
      "\n",
      "Fibroids\n",
      "https://www.nhsinform.scot/illnesses-and-conditions/a-to-z/f/fibroids\n",
      "Last updated:\n",
      "12 May 2022\n",
      "\n",
      "Gonorrhoea\n",
      "https://www.nhsinform.scot/illnesses-and-conditions/a-to-z/g/gonorrhoea\n",
      "Last updated:\n",
      "31 January 2022\n",
      "\n",
      "Headaches\n",
      "https://www.nhsinform.scot/illnesses-and-conditions/a-to-z/h/headaches\n",
      "Last updated:\n",
      "22 October 2021\n",
      "\n",
      "Inherited heart conditions\n",
      "https://www.nhsinform.scot/illnesses-and-conditions/a-to-z/i/inherited-heart-conditions\n",
      "Last updated:\n",
      "09 November 2021\n",
      "\n",
      "Lymphogranuloma venereum (LGV)\n",
      "https://www.nhsinform.scot/illnesses-and-conditions/a-to-z/l/lymphogranuloma-venereum-lgv\n",
      "Last updated:\n",
      "31 January 2022\n",
      "\n",
      "Miscarriage\n",
      "https://www.nhsinform.scot/illnesses-and-conditions/a-to-z/m/miscarriage\n",
      "Last updated:\n",
      "03 August 2020\n",
      "\n",
      "Pelvic inflammatory disease\n",
      "https://www.nhsinform.scot/illnesses-and-conditions/a-to-z/p/pelvic-inflammatory-disease\n",
      "Last updated:\n",
      "31 January 2022\n",
      "\n",
      "Pubic lice\n",
      "https://www.nhsinform.scot/illnesses-and-conditions/a-to-z/p/pubic-lice\n",
      "Last updated:\n",
      "31 January 2022\n",
      "\n",
      "Spleen problems and spleen removal\n",
      "https://www.nhsinform.scot/illnesses-and-conditions/a-to-z/s/spleen-problems-and-spleen-removal\n",
      "Last updated:\n",
      "24 February 2020\n",
      "\n",
      "Stillbirth\n",
      "https://www.nhsinform.scot/illnesses-and-conditions/a-to-z/s/stillbirth\n",
      "Last updated:\n",
      "07 March 2022\n",
      "\n",
      "Stomach ache and abdominal pain\n",
      "https://www.nhsinform.scot/illnesses-and-conditions/a-to-z/s/stomach-ache-and-abdominal-pain\n",
      "Last updated:\n",
      "01 April 2021\n",
      "\n",
      "Syphilis\n",
      "https://www.nhsinform.scot/illnesses-and-conditions/a-to-z/s/syphilis\n",
      "Last updated:\n",
      "31 January 2022\n",
      "\n",
      "Thrush\n",
      "https://www.nhsinform.scot/illnesses-and-conditions/a-to-z/t/thrush\n",
      "Last updated:\n",
      "31 January 2022\n",
      "\n",
      "Trichomonas infection\n",
      "https://www.nhsinform.scot/illnesses-and-conditions/a-to-z/t/trichomonas-infection\n",
      "Last updated:\n",
      "31 January 2022\n",
      "\n",
      "Yellow fever\n",
      "https://www.nhsinform.scot/illnesses-and-conditions/a-to-z/y/yellow-fever\n",
      "Last updated:\n",
      "02 June 2022\n",
      "\n"
     ]
    }
   ],
   "source": [
    "links,diseases = [],[]\n",
    "for i in range(len(df)):\n",
    "    if textstat.lexicon_count(df.iloc[i]['text'], removepunct=True) < 10:\n",
    "        print(df.iloc[i]['disease'])\n",
    "        print(df.iloc[i]['url'])\n",
    "        print(df.iloc[i]['text'])\n",
    "        links.append(df.iloc[i]['url'])\n",
    "        diseases.append(df.iloc[i]['disease'])\n",
    "        print()"
   ]
  },
  {
   "cell_type": "code",
   "execution_count": 16,
   "id": "33dac318",
   "metadata": {
    "ExecuteTime": {
     "end_time": "2022-06-16T14:21:30.944502Z",
     "start_time": "2022-06-16T14:20:08.451053Z"
    }
   },
   "outputs": [
    {
     "data": {
      "application/vnd.jupyter.widget-view+json": {
       "model_id": "9d8dbde176d742d99b0da82f90b3b8cd",
       "version_major": 2,
       "version_minor": 0
      },
      "text/plain": [
       "  0%|          | 0/25 [00:00<?, ?it/s]"
      ]
     },
     "metadata": {},
     "output_type": "display_data"
    }
   ],
   "source": [
    "texts = []\n",
    "\n",
    "for link in tqdm(links[:]):\n",
    "    \n",
    "    retry_count = 0\n",
    "    while retry_count < 3:\n",
    "        try:\n",
    "            driver.get(link)\n",
    "            #cookies\n",
    "            try:\n",
    "                driver.find_element_by_xpath('''//*[@id=\"ccc-notify-accept\"]''').click()\n",
    "            except:\n",
    "                pass\n",
    "\n",
    "            text = \"\"\n",
    "            try:\n",
    "                for x in range(100):\n",
    "                    ps = driver.find_element(By.XPATH,f'''//*[@id=\"maincontent\"]/div[2]/div/div[2]/div[1]/div[2]''').text.strip()\n",
    "                    text += ps\n",
    "                    driver.find_element_by_xpath('''//a[@class=\"js-guide__incremental--previous nav-incremental-link page-navigation__next\"]''').click()\n",
    "            except:\n",
    "                pass\n",
    "\n",
    "            if textstat.lexicon_count(text, removepunct=True) < 10:\n",
    "                print(link)\n",
    "                print(text)\n",
    "                retry_count += 1\n",
    "            else:\n",
    "                retry_count = 3\n",
    "        except:\n",
    "            pass\n",
    "\n",
    "    texts.append(text)"
   ]
  },
  {
   "cell_type": "code",
   "execution_count": 17,
   "id": "bf452222",
   "metadata": {
    "ExecuteTime": {
     "end_time": "2022-06-16T14:21:30.960100Z",
     "start_time": "2022-06-16T14:21:30.944502Z"
    }
   },
   "outputs": [],
   "source": [
    "#zippig all the data togather \n",
    "zipped = list(zip(diseases,texts,links))"
   ]
  },
  {
   "cell_type": "code",
   "execution_count": 18,
   "id": "27bece88",
   "metadata": {
    "ExecuteTime": {
     "end_time": "2022-06-16T14:21:30.985659Z",
     "start_time": "2022-06-16T14:21:30.962096Z"
    }
   },
   "outputs": [
    {
     "data": {
      "text/html": [
       "<div>\n",
       "<style scoped>\n",
       "    .dataframe tbody tr th:only-of-type {\n",
       "        vertical-align: middle;\n",
       "    }\n",
       "\n",
       "    .dataframe tbody tr th {\n",
       "        vertical-align: top;\n",
       "    }\n",
       "\n",
       "    .dataframe thead th {\n",
       "        text-align: right;\n",
       "    }\n",
       "</style>\n",
       "<table border=\"1\" class=\"dataframe\">\n",
       "  <thead>\n",
       "    <tr style=\"text-align: right;\">\n",
       "      <th></th>\n",
       "      <th>disease</th>\n",
       "      <th>text</th>\n",
       "      <th>url</th>\n",
       "    </tr>\n",
       "  </thead>\n",
       "  <tbody>\n",
       "    <tr>\n",
       "      <th>0</th>\n",
       "      <td>Chest pain</td>\n",
       "      <td>Immediate action required:\\nPhone 999 immediat...</td>\n",
       "      <td>https://www.nhsinform.scot/illnesses-and-condi...</td>\n",
       "    </tr>\n",
       "    <tr>\n",
       "      <th>1</th>\n",
       "      <td>Chilblains</td>\n",
       "      <td>Chilblains are small, itchy swellings on the s...</td>\n",
       "      <td>https://www.nhsinform.scot/illnesses-and-condi...</td>\n",
       "    </tr>\n",
       "    <tr>\n",
       "      <th>2</th>\n",
       "      <td>Chlamydia</td>\n",
       "      <td>Chlamydia is a bacterial infection. It's one o...</td>\n",
       "      <td>https://www.nhsinform.scot/illnesses-and-condi...</td>\n",
       "    </tr>\n",
       "    <tr>\n",
       "      <th>3</th>\n",
       "      <td>Common heart conditions</td>\n",
       "      <td>There are many different heart conditions and ...</td>\n",
       "      <td>https://www.nhsinform.scot/illnesses-and-condi...</td>\n",
       "    </tr>\n",
       "    <tr>\n",
       "      <th>4</th>\n",
       "      <td>Cough</td>\n",
       "      <td>A cough is a reflex action to clear your airwa...</td>\n",
       "      <td>https://www.nhsinform.scot/illnesses-and-condi...</td>\n",
       "    </tr>\n",
       "    <tr>\n",
       "      <th>5</th>\n",
       "      <td>Dermatitis herpetiformis</td>\n",
       "      <td>Dermatitis herpetiformis (DH) is an autoimmune...</td>\n",
       "      <td>https://www.nhsinform.scot/illnesses-and-condi...</td>\n",
       "    </tr>\n",
       "    <tr>\n",
       "      <th>6</th>\n",
       "      <td>Dizziness (Lightheadedness)</td>\n",
       "      <td>Dizziness (lightheadedness) is a common sympto...</td>\n",
       "      <td>https://www.nhsinform.scot/illnesses-and-condi...</td>\n",
       "    </tr>\n",
       "    <tr>\n",
       "      <th>7</th>\n",
       "      <td>Ectopic pregnancy</td>\n",
       "      <td>An ectopic pregnancy is when a fertilised egg ...</td>\n",
       "      <td>https://www.nhsinform.scot/illnesses-and-condi...</td>\n",
       "    </tr>\n",
       "    <tr>\n",
       "      <th>8</th>\n",
       "      <td>Endometriosis</td>\n",
       "      <td>Endometriosis is a long-term (chronic) conditi...</td>\n",
       "      <td>https://www.nhsinform.scot/illnesses-and-condi...</td>\n",
       "    </tr>\n",
       "    <tr>\n",
       "      <th>9</th>\n",
       "      <td>Fever in adults</td>\n",
       "      <td>Coronavirus (COVID-19)\\nIf you're worried abou...</td>\n",
       "      <td>https://www.nhsinform.scot/illnesses-and-condi...</td>\n",
       "    </tr>\n",
       "    <tr>\n",
       "      <th>10</th>\n",
       "      <td>Fibroids</td>\n",
       "      <td>Fibroids are non-cancerous growths that develo...</td>\n",
       "      <td>https://www.nhsinform.scot/illnesses-and-condi...</td>\n",
       "    </tr>\n",
       "    <tr>\n",
       "      <th>11</th>\n",
       "      <td>Gonorrhoea</td>\n",
       "      <td>Gonorrhoea is a sexually transmitted infection...</td>\n",
       "      <td>https://www.nhsinform.scot/illnesses-and-condi...</td>\n",
       "    </tr>\n",
       "    <tr>\n",
       "      <th>12</th>\n",
       "      <td>Headaches</td>\n",
       "      <td>Most headaches are not serious. In many cases,...</td>\n",
       "      <td>https://www.nhsinform.scot/illnesses-and-condi...</td>\n",
       "    </tr>\n",
       "    <tr>\n",
       "      <th>13</th>\n",
       "      <td>Inherited heart conditions</td>\n",
       "      <td>An inherited heart disease is one which has be...</td>\n",
       "      <td>https://www.nhsinform.scot/illnesses-and-condi...</td>\n",
       "    </tr>\n",
       "    <tr>\n",
       "      <th>14</th>\n",
       "      <td>Lymphogranuloma venereum (LGV)</td>\n",
       "      <td>Lymphogranuloma venereum (LGV) is a sexually t...</td>\n",
       "      <td>https://www.nhsinform.scot/illnesses-and-condi...</td>\n",
       "    </tr>\n",
       "    <tr>\n",
       "      <th>15</th>\n",
       "      <td>Miscarriage</td>\n",
       "      <td>A miscarriage is the loss of your baby before ...</td>\n",
       "      <td>https://www.nhsinform.scot/illnesses-and-condi...</td>\n",
       "    </tr>\n",
       "    <tr>\n",
       "      <th>16</th>\n",
       "      <td>Pelvic inflammatory disease</td>\n",
       "      <td>Pelvic inflammatory disease (PID) is an infect...</td>\n",
       "      <td>https://www.nhsinform.scot/illnesses-and-condi...</td>\n",
       "    </tr>\n",
       "    <tr>\n",
       "      <th>17</th>\n",
       "      <td>Pubic lice</td>\n",
       "      <td>Pubic lice, also known as crabs, are tiny inse...</td>\n",
       "      <td>https://www.nhsinform.scot/illnesses-and-condi...</td>\n",
       "    </tr>\n",
       "    <tr>\n",
       "      <th>18</th>\n",
       "      <td>Spleen problems and spleen removal</td>\n",
       "      <td>Some people are born without a spleen or need ...</td>\n",
       "      <td>https://www.nhsinform.scot/illnesses-and-condi...</td>\n",
       "    </tr>\n",
       "    <tr>\n",
       "      <th>19</th>\n",
       "      <td>Stillbirth</td>\n",
       "      <td>A stillbirth is when a baby dies after the 24t...</td>\n",
       "      <td>https://www.nhsinform.scot/illnesses-and-condi...</td>\n",
       "    </tr>\n",
       "    <tr>\n",
       "      <th>20</th>\n",
       "      <td>Stomach ache and abdominal pain</td>\n",
       "      <td>A stomach ache is cramps or a dull ache in the...</td>\n",
       "      <td>https://www.nhsinform.scot/illnesses-and-condi...</td>\n",
       "    </tr>\n",
       "    <tr>\n",
       "      <th>21</th>\n",
       "      <td>Syphilis</td>\n",
       "      <td>Syphilis is a sexually transmitted infection c...</td>\n",
       "      <td>https://www.nhsinform.scot/illnesses-and-condi...</td>\n",
       "    </tr>\n",
       "    <tr>\n",
       "      <th>22</th>\n",
       "      <td>Thrush</td>\n",
       "      <td>Thrush is usually caused by a yeast fungus cal...</td>\n",
       "      <td>https://www.nhsinform.scot/illnesses-and-condi...</td>\n",
       "    </tr>\n",
       "    <tr>\n",
       "      <th>23</th>\n",
       "      <td>Trichomonas infection</td>\n",
       "      <td>Trichomonas is a sexually transmitted infectio...</td>\n",
       "      <td>https://www.nhsinform.scot/illnesses-and-condi...</td>\n",
       "    </tr>\n",
       "    <tr>\n",
       "      <th>24</th>\n",
       "      <td>Yellow fever</td>\n",
       "      <td>Yellow fever is a serious viral infection that...</td>\n",
       "      <td>https://www.nhsinform.scot/illnesses-and-condi...</td>\n",
       "    </tr>\n",
       "  </tbody>\n",
       "</table>\n",
       "</div>"
      ],
      "text/plain": [
       "                               disease  \\\n",
       "0                           Chest pain   \n",
       "1                           Chilblains   \n",
       "2                            Chlamydia   \n",
       "3              Common heart conditions   \n",
       "4                                Cough   \n",
       "5             Dermatitis herpetiformis   \n",
       "6          Dizziness (Lightheadedness)   \n",
       "7                    Ectopic pregnancy   \n",
       "8                        Endometriosis   \n",
       "9                      Fever in adults   \n",
       "10                            Fibroids   \n",
       "11                          Gonorrhoea   \n",
       "12                           Headaches   \n",
       "13          Inherited heart conditions   \n",
       "14      Lymphogranuloma venereum (LGV)   \n",
       "15                         Miscarriage   \n",
       "16         Pelvic inflammatory disease   \n",
       "17                          Pubic lice   \n",
       "18  Spleen problems and spleen removal   \n",
       "19                          Stillbirth   \n",
       "20     Stomach ache and abdominal pain   \n",
       "21                            Syphilis   \n",
       "22                              Thrush   \n",
       "23               Trichomonas infection   \n",
       "24                        Yellow fever   \n",
       "\n",
       "                                                 text  \\\n",
       "0   Immediate action required:\\nPhone 999 immediat...   \n",
       "1   Chilblains are small, itchy swellings on the s...   \n",
       "2   Chlamydia is a bacterial infection. It's one o...   \n",
       "3   There are many different heart conditions and ...   \n",
       "4   A cough is a reflex action to clear your airwa...   \n",
       "5   Dermatitis herpetiformis (DH) is an autoimmune...   \n",
       "6   Dizziness (lightheadedness) is a common sympto...   \n",
       "7   An ectopic pregnancy is when a fertilised egg ...   \n",
       "8   Endometriosis is a long-term (chronic) conditi...   \n",
       "9   Coronavirus (COVID-19)\\nIf you're worried abou...   \n",
       "10  Fibroids are non-cancerous growths that develo...   \n",
       "11  Gonorrhoea is a sexually transmitted infection...   \n",
       "12  Most headaches are not serious. In many cases,...   \n",
       "13  An inherited heart disease is one which has be...   \n",
       "14  Lymphogranuloma venereum (LGV) is a sexually t...   \n",
       "15  A miscarriage is the loss of your baby before ...   \n",
       "16  Pelvic inflammatory disease (PID) is an infect...   \n",
       "17  Pubic lice, also known as crabs, are tiny inse...   \n",
       "18  Some people are born without a spleen or need ...   \n",
       "19  A stillbirth is when a baby dies after the 24t...   \n",
       "20  A stomach ache is cramps or a dull ache in the...   \n",
       "21  Syphilis is a sexually transmitted infection c...   \n",
       "22  Thrush is usually caused by a yeast fungus cal...   \n",
       "23  Trichomonas is a sexually transmitted infectio...   \n",
       "24  Yellow fever is a serious viral infection that...   \n",
       "\n",
       "                                                  url  \n",
       "0   https://www.nhsinform.scot/illnesses-and-condi...  \n",
       "1   https://www.nhsinform.scot/illnesses-and-condi...  \n",
       "2   https://www.nhsinform.scot/illnesses-and-condi...  \n",
       "3   https://www.nhsinform.scot/illnesses-and-condi...  \n",
       "4   https://www.nhsinform.scot/illnesses-and-condi...  \n",
       "5   https://www.nhsinform.scot/illnesses-and-condi...  \n",
       "6   https://www.nhsinform.scot/illnesses-and-condi...  \n",
       "7   https://www.nhsinform.scot/illnesses-and-condi...  \n",
       "8   https://www.nhsinform.scot/illnesses-and-condi...  \n",
       "9   https://www.nhsinform.scot/illnesses-and-condi...  \n",
       "10  https://www.nhsinform.scot/illnesses-and-condi...  \n",
       "11  https://www.nhsinform.scot/illnesses-and-condi...  \n",
       "12  https://www.nhsinform.scot/illnesses-and-condi...  \n",
       "13  https://www.nhsinform.scot/illnesses-and-condi...  \n",
       "14  https://www.nhsinform.scot/illnesses-and-condi...  \n",
       "15  https://www.nhsinform.scot/illnesses-and-condi...  \n",
       "16  https://www.nhsinform.scot/illnesses-and-condi...  \n",
       "17  https://www.nhsinform.scot/illnesses-and-condi...  \n",
       "18  https://www.nhsinform.scot/illnesses-and-condi...  \n",
       "19  https://www.nhsinform.scot/illnesses-and-condi...  \n",
       "20  https://www.nhsinform.scot/illnesses-and-condi...  \n",
       "21  https://www.nhsinform.scot/illnesses-and-condi...  \n",
       "22  https://www.nhsinform.scot/illnesses-and-condi...  \n",
       "23  https://www.nhsinform.scot/illnesses-and-condi...  \n",
       "24  https://www.nhsinform.scot/illnesses-and-condi...  "
      ]
     },
     "execution_count": 18,
     "metadata": {},
     "output_type": "execute_result"
    }
   ],
   "source": [
    "df_na2 = pd.DataFrame(zipped,columns=['disease','text','url'])\n",
    "df_na2"
   ]
  },
  {
   "cell_type": "code",
   "execution_count": 19,
   "id": "bba0bfbb",
   "metadata": {
    "ExecuteTime": {
     "end_time": "2022-06-16T14:21:31.001901Z",
     "start_time": "2022-06-16T14:21:30.987653Z"
    }
   },
   "outputs": [],
   "source": [
    "df.reset_index(drop=True,inplace=True)"
   ]
  },
  {
   "cell_type": "code",
   "execution_count": 20,
   "id": "fa1ceaa2",
   "metadata": {
    "ExecuteTime": {
     "end_time": "2022-06-16T14:21:31.017322Z",
     "start_time": "2022-06-16T14:21:31.003361Z"
    }
   },
   "outputs": [
    {
     "data": {
      "text/html": [
       "<div>\n",
       "<style scoped>\n",
       "    .dataframe tbody tr th:only-of-type {\n",
       "        vertical-align: middle;\n",
       "    }\n",
       "\n",
       "    .dataframe tbody tr th {\n",
       "        vertical-align: top;\n",
       "    }\n",
       "\n",
       "    .dataframe thead th {\n",
       "        text-align: right;\n",
       "    }\n",
       "</style>\n",
       "<table border=\"1\" class=\"dataframe\">\n",
       "  <thead>\n",
       "    <tr style=\"text-align: right;\">\n",
       "      <th></th>\n",
       "      <th>disease</th>\n",
       "      <th>text</th>\n",
       "      <th>url</th>\n",
       "    </tr>\n",
       "  </thead>\n",
       "  <tbody>\n",
       "    <tr>\n",
       "      <th>0</th>\n",
       "      <td>Abdominal aortic aneurysm</td>\n",
       "      <td>About abdominal aortic aneurysms\\nAn abdominal...</td>\n",
       "      <td>https://www.nhsinform.scot/illnesses-and-condi...</td>\n",
       "    </tr>\n",
       "    <tr>\n",
       "      <th>1</th>\n",
       "      <td>Acne</td>\n",
       "      <td>About acne\\nAcne is a common skin condition th...</td>\n",
       "      <td>https://www.nhsinform.scot/illnesses-and-condi...</td>\n",
       "    </tr>\n",
       "    <tr>\n",
       "      <th>2</th>\n",
       "      <td>Acute cholecystitis</td>\n",
       "      <td>About acute cholecystitis\\nAcute cholecystitis...</td>\n",
       "      <td>https://www.nhsinform.scot/illnesses-and-condi...</td>\n",
       "    </tr>\n",
       "    <tr>\n",
       "      <th>3</th>\n",
       "      <td>Acute lymphoblastic leukaemia</td>\n",
       "      <td>About acute lymphoblastic leukaemia\\nLeukaemia...</td>\n",
       "      <td>https://www.nhsinform.scot/illnesses-and-condi...</td>\n",
       "    </tr>\n",
       "    <tr>\n",
       "      <th>4</th>\n",
       "      <td>Acute lymphoblastic leukaemia: Children</td>\n",
       "      <td>Introduction\\nAcute lymphoblastic leukaemia (A...</td>\n",
       "      <td>https://www.nhsinform.scot/illnesses-and-condi...</td>\n",
       "    </tr>\n",
       "    <tr>\n",
       "      <th>...</th>\n",
       "      <td>...</td>\n",
       "      <td>...</td>\n",
       "      <td>...</td>\n",
       "    </tr>\n",
       "    <tr>\n",
       "      <th>302</th>\n",
       "      <td>Warts and verrucas</td>\n",
       "      <td>About warts and verrucas\\nWarts are small lump...</td>\n",
       "      <td>https://www.nhsinform.scot/illnesses-and-condi...</td>\n",
       "    </tr>\n",
       "    <tr>\n",
       "      <th>303</th>\n",
       "      <td>Whooping cough</td>\n",
       "      <td>About whooping cough\\nWhooping cough, also cal...</td>\n",
       "      <td>https://www.nhsinform.scot/illnesses-and-condi...</td>\n",
       "    </tr>\n",
       "    <tr>\n",
       "      <th>304</th>\n",
       "      <td>Wilms’ tumour</td>\n",
       "      <td>Introduction\\nWilms’ tumour is a type of kidne...</td>\n",
       "      <td>https://www.nhsinform.scot/illnesses-and-condi...</td>\n",
       "    </tr>\n",
       "    <tr>\n",
       "      <th>305</th>\n",
       "      <td>Womb (uterus) cancer</td>\n",
       "      <td>About womb cancer\\nCancer of the womb (uterus)...</td>\n",
       "      <td>https://www.nhsinform.scot/illnesses-and-condi...</td>\n",
       "    </tr>\n",
       "    <tr>\n",
       "      <th>306</th>\n",
       "      <td>Yellow fever</td>\n",
       "      <td>Last updated:\\n02 June 2022</td>\n",
       "      <td>https://www.nhsinform.scot/illnesses-and-condi...</td>\n",
       "    </tr>\n",
       "  </tbody>\n",
       "</table>\n",
       "<p>307 rows × 3 columns</p>\n",
       "</div>"
      ],
      "text/plain": [
       "                                     disease  \\\n",
       "0                  Abdominal aortic aneurysm   \n",
       "1                                       Acne   \n",
       "2                        Acute cholecystitis   \n",
       "3              Acute lymphoblastic leukaemia   \n",
       "4    Acute lymphoblastic leukaemia: Children   \n",
       "..                                       ...   \n",
       "302                       Warts and verrucas   \n",
       "303                           Whooping cough   \n",
       "304                            Wilms’ tumour   \n",
       "305                     Womb (uterus) cancer   \n",
       "306                             Yellow fever   \n",
       "\n",
       "                                                  text  \\\n",
       "0    About abdominal aortic aneurysms\\nAn abdominal...   \n",
       "1    About acne\\nAcne is a common skin condition th...   \n",
       "2    About acute cholecystitis\\nAcute cholecystitis...   \n",
       "3    About acute lymphoblastic leukaemia\\nLeukaemia...   \n",
       "4    Introduction\\nAcute lymphoblastic leukaemia (A...   \n",
       "..                                                 ...   \n",
       "302  About warts and verrucas\\nWarts are small lump...   \n",
       "303  About whooping cough\\nWhooping cough, also cal...   \n",
       "304  Introduction\\nWilms’ tumour is a type of kidne...   \n",
       "305  About womb cancer\\nCancer of the womb (uterus)...   \n",
       "306                        Last updated:\\n02 June 2022   \n",
       "\n",
       "                                                   url  \n",
       "0    https://www.nhsinform.scot/illnesses-and-condi...  \n",
       "1    https://www.nhsinform.scot/illnesses-and-condi...  \n",
       "2    https://www.nhsinform.scot/illnesses-and-condi...  \n",
       "3    https://www.nhsinform.scot/illnesses-and-condi...  \n",
       "4    https://www.nhsinform.scot/illnesses-and-condi...  \n",
       "..                                                 ...  \n",
       "302  https://www.nhsinform.scot/illnesses-and-condi...  \n",
       "303  https://www.nhsinform.scot/illnesses-and-condi...  \n",
       "304  https://www.nhsinform.scot/illnesses-and-condi...  \n",
       "305  https://www.nhsinform.scot/illnesses-and-condi...  \n",
       "306  https://www.nhsinform.scot/illnesses-and-condi...  \n",
       "\n",
       "[307 rows x 3 columns]"
      ]
     },
     "execution_count": 20,
     "metadata": {},
     "output_type": "execute_result"
    }
   ],
   "source": [
    "df"
   ]
  },
  {
   "cell_type": "code",
   "execution_count": 21,
   "id": "6fa00ef1",
   "metadata": {
    "ExecuteTime": {
     "end_time": "2022-06-16T14:21:31.065515Z",
     "start_time": "2022-06-16T14:21:31.020316Z"
    }
   },
   "outputs": [
    {
     "data": {
      "application/vnd.jupyter.widget-view+json": {
       "model_id": "89f87b817db84efa8d1d4a7d261453af",
       "version_major": 2,
       "version_minor": 0
      },
      "text/plain": [
       "  0%|          | 0/25 [00:00<?, ?it/s]"
      ]
     },
     "metadata": {},
     "output_type": "display_data"
    }
   ],
   "source": [
    "for i in tqdm(range(len(df_na2))): \n",
    "    ii = df[df['url'] == df_na2.iloc[i]['url']].index[0]\n",
    "    df.iloc[ii]['text'] = df_na2.iloc[i]['text'] "
   ]
  },
  {
   "cell_type": "code",
   "execution_count": 22,
   "id": "dfe4ba03",
   "metadata": {
    "ExecuteTime": {
     "end_time": "2022-06-16T14:21:31.235787Z",
     "start_time": "2022-06-16T14:21:31.067551Z"
    }
   },
   "outputs": [],
   "source": [
    "for i in range(len(df)):\n",
    "    if textstat.lexicon_count(df.iloc[i]['text'], removepunct=True) < 10:\n",
    "        print(df.iloc[i]['disease'])\n",
    "        print(df.iloc[i]['url'])\n",
    "        print(df.iloc[i]['text'])\n",
    "        print()"
   ]
  },
  {
   "cell_type": "code",
   "execution_count": 23,
   "id": "3118323d",
   "metadata": {
    "ExecuteTime": {
     "end_time": "2022-06-16T14:21:31.251033Z",
     "start_time": "2022-06-16T14:21:31.237634Z"
    }
   },
   "outputs": [
    {
     "data": {
      "text/html": [
       "<div>\n",
       "<style scoped>\n",
       "    .dataframe tbody tr th:only-of-type {\n",
       "        vertical-align: middle;\n",
       "    }\n",
       "\n",
       "    .dataframe tbody tr th {\n",
       "        vertical-align: top;\n",
       "    }\n",
       "\n",
       "    .dataframe thead th {\n",
       "        text-align: right;\n",
       "    }\n",
       "</style>\n",
       "<table border=\"1\" class=\"dataframe\">\n",
       "  <thead>\n",
       "    <tr style=\"text-align: right;\">\n",
       "      <th></th>\n",
       "      <th>disease</th>\n",
       "      <th>text</th>\n",
       "      <th>url</th>\n",
       "    </tr>\n",
       "  </thead>\n",
       "  <tbody>\n",
       "    <tr>\n",
       "      <th>0</th>\n",
       "      <td>Abdominal aortic aneurysm</td>\n",
       "      <td>About abdominal aortic aneurysms\\nAn abdominal...</td>\n",
       "      <td>https://www.nhsinform.scot/illnesses-and-condi...</td>\n",
       "    </tr>\n",
       "    <tr>\n",
       "      <th>1</th>\n",
       "      <td>Acne</td>\n",
       "      <td>About acne\\nAcne is a common skin condition th...</td>\n",
       "      <td>https://www.nhsinform.scot/illnesses-and-condi...</td>\n",
       "    </tr>\n",
       "    <tr>\n",
       "      <th>2</th>\n",
       "      <td>Acute cholecystitis</td>\n",
       "      <td>About acute cholecystitis\\nAcute cholecystitis...</td>\n",
       "      <td>https://www.nhsinform.scot/illnesses-and-condi...</td>\n",
       "    </tr>\n",
       "    <tr>\n",
       "      <th>3</th>\n",
       "      <td>Acute lymphoblastic leukaemia</td>\n",
       "      <td>About acute lymphoblastic leukaemia\\nLeukaemia...</td>\n",
       "      <td>https://www.nhsinform.scot/illnesses-and-condi...</td>\n",
       "    </tr>\n",
       "    <tr>\n",
       "      <th>4</th>\n",
       "      <td>Acute lymphoblastic leukaemia: Children</td>\n",
       "      <td>Introduction\\nAcute lymphoblastic leukaemia (A...</td>\n",
       "      <td>https://www.nhsinform.scot/illnesses-and-condi...</td>\n",
       "    </tr>\n",
       "    <tr>\n",
       "      <th>...</th>\n",
       "      <td>...</td>\n",
       "      <td>...</td>\n",
       "      <td>...</td>\n",
       "    </tr>\n",
       "    <tr>\n",
       "      <th>302</th>\n",
       "      <td>Warts and verrucas</td>\n",
       "      <td>About warts and verrucas\\nWarts are small lump...</td>\n",
       "      <td>https://www.nhsinform.scot/illnesses-and-condi...</td>\n",
       "    </tr>\n",
       "    <tr>\n",
       "      <th>303</th>\n",
       "      <td>Whooping cough</td>\n",
       "      <td>About whooping cough\\nWhooping cough, also cal...</td>\n",
       "      <td>https://www.nhsinform.scot/illnesses-and-condi...</td>\n",
       "    </tr>\n",
       "    <tr>\n",
       "      <th>304</th>\n",
       "      <td>Wilms’ tumour</td>\n",
       "      <td>Introduction\\nWilms’ tumour is a type of kidne...</td>\n",
       "      <td>https://www.nhsinform.scot/illnesses-and-condi...</td>\n",
       "    </tr>\n",
       "    <tr>\n",
       "      <th>305</th>\n",
       "      <td>Womb (uterus) cancer</td>\n",
       "      <td>About womb cancer\\nCancer of the womb (uterus)...</td>\n",
       "      <td>https://www.nhsinform.scot/illnesses-and-condi...</td>\n",
       "    </tr>\n",
       "    <tr>\n",
       "      <th>306</th>\n",
       "      <td>Yellow fever</td>\n",
       "      <td>Yellow fever is a serious viral infection that...</td>\n",
       "      <td>https://www.nhsinform.scot/illnesses-and-condi...</td>\n",
       "    </tr>\n",
       "  </tbody>\n",
       "</table>\n",
       "<p>307 rows × 3 columns</p>\n",
       "</div>"
      ],
      "text/plain": [
       "                                     disease  \\\n",
       "0                  Abdominal aortic aneurysm   \n",
       "1                                       Acne   \n",
       "2                        Acute cholecystitis   \n",
       "3              Acute lymphoblastic leukaemia   \n",
       "4    Acute lymphoblastic leukaemia: Children   \n",
       "..                                       ...   \n",
       "302                       Warts and verrucas   \n",
       "303                           Whooping cough   \n",
       "304                            Wilms’ tumour   \n",
       "305                     Womb (uterus) cancer   \n",
       "306                             Yellow fever   \n",
       "\n",
       "                                                  text  \\\n",
       "0    About abdominal aortic aneurysms\\nAn abdominal...   \n",
       "1    About acne\\nAcne is a common skin condition th...   \n",
       "2    About acute cholecystitis\\nAcute cholecystitis...   \n",
       "3    About acute lymphoblastic leukaemia\\nLeukaemia...   \n",
       "4    Introduction\\nAcute lymphoblastic leukaemia (A...   \n",
       "..                                                 ...   \n",
       "302  About warts and verrucas\\nWarts are small lump...   \n",
       "303  About whooping cough\\nWhooping cough, also cal...   \n",
       "304  Introduction\\nWilms’ tumour is a type of kidne...   \n",
       "305  About womb cancer\\nCancer of the womb (uterus)...   \n",
       "306  Yellow fever is a serious viral infection that...   \n",
       "\n",
       "                                                   url  \n",
       "0    https://www.nhsinform.scot/illnesses-and-condi...  \n",
       "1    https://www.nhsinform.scot/illnesses-and-condi...  \n",
       "2    https://www.nhsinform.scot/illnesses-and-condi...  \n",
       "3    https://www.nhsinform.scot/illnesses-and-condi...  \n",
       "4    https://www.nhsinform.scot/illnesses-and-condi...  \n",
       "..                                                 ...  \n",
       "302  https://www.nhsinform.scot/illnesses-and-condi...  \n",
       "303  https://www.nhsinform.scot/illnesses-and-condi...  \n",
       "304  https://www.nhsinform.scot/illnesses-and-condi...  \n",
       "305  https://www.nhsinform.scot/illnesses-and-condi...  \n",
       "306  https://www.nhsinform.scot/illnesses-and-condi...  \n",
       "\n",
       "[307 rows x 3 columns]"
      ]
     },
     "execution_count": 23,
     "metadata": {},
     "output_type": "execute_result"
    }
   ],
   "source": [
    "df"
   ]
  },
  {
   "cell_type": "code",
   "execution_count": 24,
   "id": "9d2ab07a",
   "metadata": {
    "ExecuteTime": {
     "end_time": "2022-06-16T14:21:31.377605Z",
     "start_time": "2022-06-16T14:21:31.252973Z"
    }
   },
   "outputs": [],
   "source": [
    "df.to_csv(\"NHSinform disease_data_missing_dealt.csv\",index=False)"
   ]
  },
  {
   "cell_type": "code",
   "execution_count": 25,
   "id": "d4f621a4",
   "metadata": {
    "ExecuteTime": {
     "end_time": "2022-06-16T14:21:32.615951Z",
     "start_time": "2022-06-16T14:21:31.379234Z"
    }
   },
   "outputs": [
    {
     "data": {
      "application/vnd.jupyter.widget-view+json": {
       "model_id": "7f4d4ab176924cd0acf3dffa784bcdd4",
       "version_major": 2,
       "version_minor": 0
      },
      "text/plain": [
       "  0%|          | 0/307 [00:00<?, ?it/s]"
      ]
     },
     "metadata": {},
     "output_type": "display_data"
    }
   ],
   "source": [
    "import contextlib\n",
    "\n",
    "#data to text files\n",
    "for x in tqdm(range(len(df))):\n",
    "    disease = df.iloc[x]['disease']\n",
    "    text = df.iloc[x]['text']\n",
    "    \n",
    "    #saving the file to desired location \n",
    "    file_path = f'C:/Users/AKSHAY SATPUTE/Jupyter notebook/web scraping/nhsinform-a-z-disease-data/text_files/{disease}.txt'\n",
    "    \n",
    "    with open(file_path, \"w\") as o:\n",
    "        with contextlib.redirect_stdout(o):\n",
    "            print(f\"{disease}\\n\\n{text}\")"
   ]
  },
  {
   "cell_type": "code",
   "execution_count": 29,
   "id": "a24b2f58",
   "metadata": {
    "ExecuteTime": {
     "end_time": "2022-06-16T14:22:04.967422Z",
     "start_time": "2022-06-16T14:22:04.953460Z"
    }
   },
   "outputs": [],
   "source": [
    "def remove_esc_chars(string):\n",
    "    review = re.sub('''[^a-zA-Z0-9!\"#$%&'()*+,-./:;<=>?@[\\]^_`{|}~]''', ' ',string)\n",
    "    review = review.split()\n",
    "    review = ' '.join(review)\n",
    "    return review"
   ]
  },
  {
   "cell_type": "code",
   "execution_count": 30,
   "id": "f9bc0e77",
   "metadata": {
    "ExecuteTime": {
     "end_time": "2022-06-16T14:22:07.660295Z",
     "start_time": "2022-06-16T14:22:07.569597Z"
    }
   },
   "outputs": [],
   "source": [
    "import pandas as pd\n",
    "df = pd.read_csv(\"NHSinform disease_data_missing_dealt.csv\")"
   ]
  },
  {
   "cell_type": "code",
   "execution_count": 31,
   "id": "8e8368db",
   "metadata": {
    "ExecuteTime": {
     "end_time": "2022-06-16T14:22:08.449782Z",
     "start_time": "2022-06-16T14:22:08.432866Z"
    },
    "scrolled": true
   },
   "outputs": [
    {
     "data": {
      "text/plain": [
       "'About abdominal aortic aneurysms An abdominal aortic aneurysm (AAA) is a swelling (aneurysm) of the aorta the main blood vessel that leads away from the heart, down through the abdomen to the rest of the body. The abdominal aorta is the largest blood vessel in the body and is usually around 2cm wide roughly the width of a garden hose. However, it can swell to over 5.5cm what doctors class as a large AAA. Large aneurysms are rare, but can be very serious. If a large aneurysm bursts, it causes huge internal bleeding and is usually fatal. The bulging occurs when the wall of the aorta weakens. Although what causes this weakness is unclear, smoking and high blood pressure are thought to increase the risk of an aneurysm. AAAs are most common in men aged over 65. A rupture accounts for more than 1 in 50 of all deaths in this group. This is why all men are invited for a screening test when they turn 65. The test involves a simple ultrasound scan, which takes around 10-15 minutes. Symptoms of an AAA In most cases, an AAA causes no noticeable symptoms. However, if it becomes large, some people may develop a pain or a pulsating feeling in their abdomen (tummy) or persistent back pain. An AAA doesn t usually pose a serious threat to health, but there s a risk that a larger aneurysm could burst (rupture). A ruptured aneurysm can cause massive internal bleeding, which is usually fatal. Around 8 out of 10 people with a rupture either die before they reach hospital or don t survive surgery. The most common symptom of a ruptured aortic aneurysm is sudden and severe pain in the abdomen. If you suspect that you or someone else has had a ruptured aneurysm, call 999 immediately and ask for an ambulance. Read more about the symptoms of an AAA. Causes of an AAA It\\'s not known exactly what causes the aortic wall to weaken, although increasing age and being male are known to be the biggest risk factors. There are other risk factors you can do something about, including smoking and having high blood pressure and cholesterol level. Having a family history of aortic aneurysms also means that you have an increased risk of developing one yourself. Read more about the causes of an AAA. Diagnosing an AAA Because AAAs usually cause no symptoms, they tend to be diagnosed either as a result of screening or during a routine examination for example, if a GP notices a pulsating sensation in your abdomen. The screening test is an ultrasound scan, which allows the size of your abdominal aorta to be measured on a monitor. This is also how an aneurysm will be diagnosed if your doctor suspects you have one. Read more about diagnosing an AAA. Treating an AAA If a large AAA is detected before it ruptures, most people will be advised to have treatment, to prevent it rupturing. This is usually done with surgery to replace the weakened section of the blood vessel with a piece of synthetic tubing. If surgery is not advisable or if you decide not to have it there are a number of non-surgical treatments that can reduce the risk of an aneurysm rupturing. They include medications to lower your cholesterol and blood pressure, and quitting smoking. You will also have the size of your aneurysm checked regularly with ultrasound scanning. Read more about treating AAAs. Prevention The best way to prevent getting an aneurysm or reduce the risk of an aneurysm growing bigger and possibly rupturing is to avoid anything that could damage your blood vessels, such as: smoking eating a high-fat diet not exercising regularly being overweight or obese Read more about preventing aneurysms. Screening Read more about screening for an AAA. Part 2 Symptoms of an abdominal aortic aneurysmSymptoms of an abdominal aortic aneurysm In most cases, an unruptured abdominal aortic aneurysm (AAA) will cause no symptoms, unless it becomes particularly large. Symptoms of an unruptured AAA may include: a pulsating feeling in your stomach (abdomen), usually near your belly button, that\\'s usually only noticeable when you touch it persistent back pain persistent abdominal pain If you have any of the symptoms above, you should see your GP as soon as possible. Ruptured AAA If your aortic aneurysm ruptures, you will feel a sudden and severe pain in the middle or side of your abdomen. In men, the pain can also radiate down into the scrotum. Other symptoms include: dizziness sweaty and clammy skin rapid heartbeat (tachycardia) shortness of breath feeling faint loss of consciousness Medical emergency A ruptured aortic aneurysm is a medical emergency, and it s important to get to hospital as soon as possible. Around 80% of people with a rupture die before they reach hospital or don t survive emergency surgery. This is why the NHS AAA Screening Programme was introduced, so dangerously large aneurysms can be treated before they burst. If you suspect that you or someone in your care has had a ruptured aneurysm, call 999 immediately and ask for an ambulance. Part 1 About abdominal aortic aneurysms Part 3 Causes of an abdominal aortic aneurysmCauses of an abdominal aortic aneurysm The aorta is the largest blood vessel in the body. It transports oxygen-rich blood away from the heart to the rest of the body. An abdominal aortic aneurysm (AAA) occurs when part of the aorta wall becomes weakened and the large amount of blood that passes through it puts pressure on the weak spot, causing it to bulge outwards to form an aneurysm. The abdominal aorta is usually around 2cm wide about the width of a garden hosepipe but can swell to over 5.5cm, which is what doctors classify as a large aneurysm. Risk factors for an AAA It\\'s not known exactly what causes the aortic wall to weaken, although increasing age and being male are known to be the biggest risk factors. One study found that people aged over 75 are seven times more likely to be diagnosed with an AAA than people under 55 years old. Men are around six times more likely to be diagnosed with an AAA than women. However, there are other risk factors that you can do something about described below the most important of which is smoking. Smoking Research has found that smokers are seven times more likely to develop an AAA than people who have never smoked. The more you smoke, the greater your risk of developing an AAA. People who regularly smoke more than 20 cigarettes a day may have more than 10 times the risk of non-smokers. The risk may increase because tobacco smoke contains harmful substances that can damage and weaken the wall of the aorta. Atherosclerosis Atherosclerosis is a potentially serious condition where arteries become clogged up by fatty deposits, such as cholesterol. An AAA is thought to develop because these deposits (called plaques) cause the aorta to widen in an attempt to keep blood flowing through it. As it widens, it also gets weaker. Smoking, eating a high-fat diet and high blood pressure all increase your risk of developing atherosclerosis. High blood pressure As well as contributing to atherosclerosis, high blood pressure (hypertension) can place increased pressure on the aorta\\'s wall. Family history Having a family history of AAAs means that you have an increased risk of developing one. One study found that people who had a brother or sister with an AAA were eight times more likely to develop one than people whose siblings were unaffected. This suggests that certain genes you inherit from your parents may make you more vulnerable to developing an AAA. However, no specific genes have yet been identified. Read about how to reduce your risk of developing an AAA. Part 2 Symptoms of an abdominal aortic aneurysm Part 4 Diagnosing an abdominal aortic aneurysmDiagnosing an abdominal aortic aneurysm An abdominal aortic aneurysm (AAA) usually causes no symptoms. Therefore, they tend to be diagnosed as a result of screening, or during a routine physical examination when a GP notices a distinctive pulsating sensation in your abdomen. A diagnosis can be confirmed using an ultrasound scan. Ultrasound can also determine the size of the aneurysm, which is an important factor in deciding on a course of treatment. Screening All men in the UK who are 65 or over are offered an ultrasound scan to check for AAAs. All men should receive an invitation in the year they turn 65 years old. Men who are older than 65 can refer themselves for screening by contacting their local NHS AAA screening service. For more information, visit our page on AAA screening. Part 3 Causes of an abdominal aortic aneurysm Part 5 Treating an abdominal aortic aneurysmTreating an abdominal aortic aneurysm Treatment for an abdominal aortic aneurysm (AAA) depends on several factors, including the aneurysm\\'s size, your age and general health. In general, if you have a large aneurysm (5.5cm or larger) you will be advised to have surgery, either to strengthen the swollen section of the aorta or to replace it with a piece of synthetic tubing. This is because the risk of the aneurysm rupturing is usually greater than the risk of having it repaired. If you have a small (3.0-4.4cm) or medium (4.5-5.4cm) aneurysm, you will be offered regular scans to check its size. You will also be given advice on how to slow its growth and reduce the risk of it rupturing for example, stopping smoking and perhaps medications to reduce your blood pressure and cholesterol level. If you have a large AAA If you are diagnosed with an AAA that is 5.5cm or larger, you will be referred to a vascular surgeon (a surgeon who specialises in diseases of the blood vessels), who may recommend an operation. The surgeon will discuss treatment options with you, taking into account your general health and fitness, as well as the size of your aneurysm. If it\\'s decided that surgery isn t suitable for you, it s still possible to reduce the risk of the aneurysm bursting, and you will have regular scans to check its size in the same way people with small or medium aneurysms are treated. See below for more information on treating small and medium aneurysms. There are two surgical techniques used to treat a large aneurysm: endovascular surgery open surgery Although both techniques are equally effective at reducing the risk of the aneurysm bursting, each has its own advantages and disadvantages. The surgeon will discuss with you which is most suitable. Endovascular surgery Endovascular surgery is a type of \"keyhole\" surgery where the surgeon makes small cuts in your groin. A small piece of tubing called a graft made of metal mesh lined with fabric is then guided up through the leg artery, into the swollen section of aorta, and sealed to the wall of the aorta at both ends. This reinforces the aorta, reducing the risk of it bursting. This is the safest of the two types of surgery available. Around 98-99% of patients make a full recovery, and recovery time from the operation is shorter than if you have open surgery. There are also fewer major complications, such as wound infection or deep vein thrombosis (DVT). However, the way the graft is attached is not as secure as open surgery. You ll need regular scans to make sure the graft hasn t slipped, and in some patients, the seal at each end of the graft starts to leak and will need to be resealed. You will need to have surgery again if either of these occurs. Open surgery In open surgery, the surgeon cuts into your stomach (abdomen) to reach the abdominal aorta and replaces the enlarged section with a graft. This type of graft is a tube made of a synthetic material. Because the graft is stitched (sutured) into place by the surgeon, it s more likely to stay in place, and will usually work well for the rest of your life. The risk of complications linked to the graft after surgery is lower than in people who have endovascular surgery. Open surgery isn t usually recommended for people who are in poor health as it is a major operation. It is slightly more risky than endovascular surgery, with 93-97% of patients making a full recovery. The main risk of open surgery is death or heart attack, and recovery time is longer than with endovascular surgery. There is also a greater risk of complications, such as wound infection, chest infection and DVT. If you have a small or medium AAA If you are diagnosed with a small (3.0-4.4cm) or medium (4.5-5.4cm) aneurysm, you won t be referred to see a vascular surgeon, as it s unlikely you d benefit from surgery. You ll be invited back for regular scans to check the size of the aneurysm, in case it gets bigger every year if you have a small aneurysm and every three months if you have a medium aneurysm. You will also be given advice on how to prevent the aneurysm from getting bigger, including: stopping smoking eating a balanced diet ensuring you maintain a healthy weight taking regular exercise If you smoke, the most important change you can make is to quit. Aneurysms have been shown to grow faster in smokers than in non-smokers. Read more about stopping smoking and nicotine replacement therapies (NRTs) that can make it easier to stop smoking. Your GP will be sent your test result and may decide to change your current medication or start you on a new one, especially if you have: high blood pressure which you will probably be treated for with a medication called an angiotensin-converting enzyme (ACE) inhibitor high cholesterol which you will probably be treated for with a medication called a statin Treating a ruptured AAA Emergency treatment for a ruptured AAA is based on the same principle as preventative treatment. Grafts are used to repair the ruptured aneurysm. The decision on whether to perform open or endovascular surgery is made on a case-by-case basis by the surgeon carrying out the operation. Part 4 Diagnosing an abdominal aortic aneurysm Part 6 Preventing an abdominal aortic aneurysmPreventing an abdominal aortic aneurysm The best way to prevent getting an aneurysm, or reduce the risk of an aneurysm growing bigger and possibly rupturing, is to avoid anything that could damage your blood vessels. This includes: smoking eating a high-fat diet not exercising regularly being overweight or obese If your GP finds out you have high blood pressure or a high cholesterol level, you may be prescribed medication for both. This will reduce the risk of developing an abdominal aortic aneurysm (AAA). Smoking Smoking is a major risk factor for aneurysms because it causes atherosclerosis (hardening of the arteries) and raises your blood pressure. Tobacco smoke contains substances that can damage the walls of the arteries. It is known that smokers are seven times more likely than non-smokers to develop an AAA. The more you smoke, the greater your risk. People who regularly smoke more than 20 cigarettes a day may have more than 10 times the risk of non-smokers. If you want to stop smoking, your GP will be able to refer you to an NHS Stop Smoking Service, which will give you dedicated help and advice about the best ways to quit. You can also call or chat online with Quit Your Way Scotland. The specially trained helpline staff can offer you free expert advice and encouragement. Read more about stopping smoking and nicotine replacement therapies (NRTs), which can make it easier to quit. Diet Eating a high-fat diet increases your risk of atherosclerosis. It s especially important to limit the amount of foods you eat that are high in saturated fat, such as biscuits, cakes, butter, sausages and bacon. This is because eating too much saturated fat can lead to high cholesterol, which can build up in the artery walls. Read more about high cholesterol. Find out more about healthy eating and how to reduce the amount of saturated fat you eat. Exercise Being active and doing regular exercise lowers blood pressure by keeping your heart and blood vessels in good condition. Regular exercise can also help you lose weight, which will also help lower your blood pressure. Adults should do at least 150 minutes (two hours and 30 minutes) of moderate-intensity aerobic activity every week. Examples of moderate intensity activity include cycling or fast walking. For it to count, the activity should make you feel warm and slightly out of breath. Someone who is overweight may only have to walk up a slope to get this feeling. Physical activity can include anything from sport to walking and gardening. Get more ideas on being active. Weight Being overweight forces your heart to work harder to pump blood around your body. This can raise your blood pressure, which in turn puts pressure on your arteries. Use a BMI healthy weight calculator to find out if you need to lose weight. If you need to shed some weight, it\\'s worth remembering that losing just a few pounds will make a big difference to your blood pressure and overall health. Get tips on losing weight safely and read more about preventing high blood pressure. Part 5 Treating an abdominal aortic aneurysm'"
      ]
     },
     "execution_count": 31,
     "metadata": {},
     "output_type": "execute_result"
    }
   ],
   "source": [
    "remove_esc_chars(df.iloc[0]['text'])"
   ]
  },
  {
   "cell_type": "code",
   "execution_count": 32,
   "id": "6d76e309",
   "metadata": {
    "ExecuteTime": {
     "end_time": "2022-06-16T14:22:14.555834Z",
     "start_time": "2022-06-16T14:22:12.296490Z"
    }
   },
   "outputs": [],
   "source": [
    "driver.quit()"
   ]
  }
 ],
 "metadata": {
  "kernelspec": {
   "display_name": "Python 3 (ipykernel)",
   "language": "python",
   "name": "python3"
  },
  "language_info": {
   "codemirror_mode": {
    "name": "ipython",
    "version": 3
   },
   "file_extension": ".py",
   "mimetype": "text/x-python",
   "name": "python",
   "nbconvert_exporter": "python",
   "pygments_lexer": "ipython3",
   "version": "3.9.7"
  },
  "toc": {
   "base_numbering": 1,
   "nav_menu": {},
   "number_sections": true,
   "sideBar": true,
   "skip_h1_title": false,
   "title_cell": "Table of Contents",
   "title_sidebar": "Contents",
   "toc_cell": false,
   "toc_position": {},
   "toc_section_display": true,
   "toc_window_display": false
  }
 },
 "nbformat": 4,
 "nbformat_minor": 5
}
