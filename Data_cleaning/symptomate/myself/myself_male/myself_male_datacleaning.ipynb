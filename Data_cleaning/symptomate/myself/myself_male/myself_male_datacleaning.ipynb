{
 "cells": [
  {
   "cell_type": "code",
   "execution_count": 1,
   "id": "ba2016c1",
   "metadata": {
    "ExecuteTime": {
     "end_time": "2022-05-28T17:37:05.611529Z",
     "start_time": "2022-05-28T17:37:05.080750Z"
    }
   },
   "outputs": [
    {
     "data": {
      "application/javascript": [
       "IPython.notebook.set_autosave_interval(1000)"
      ]
     },
     "metadata": {},
     "output_type": "display_data"
    },
    {
     "name": "stdout",
     "output_type": "stream",
     "text": [
      "Autosaving every 1 seconds\n"
     ]
    }
   ],
   "source": [
    "import pandas as pd,numpy as np,re\n",
    "\n",
    "import warnings\n",
    "warnings.filterwarnings(\"ignore\")\n",
    "\n",
    "%autosave 1"
   ]
  },
  {
   "cell_type": "code",
   "execution_count": 2,
   "id": "336fe076",
   "metadata": {
    "ExecuteTime": {
     "end_time": "2022-05-28T17:37:05.641250Z",
     "start_time": "2022-05-28T17:37:05.613575Z"
    }
   },
   "outputs": [],
   "source": [
    "data1_final = pd.read_csv(\"data1_final.csv\")\n",
    "data2_final = pd.read_csv(\"data2_final.csv\")\n",
    "data3_final = pd.read_csv(\"data3_final.csv\")"
   ]
  },
  {
   "cell_type": "code",
   "execution_count": 3,
   "id": "f67b9427",
   "metadata": {
    "ExecuteTime": {
     "end_time": "2022-05-28T17:37:05.672171Z",
     "start_time": "2022-05-28T17:37:05.644221Z"
    }
   },
   "outputs": [
    {
     "data": {
      "text/html": [
       "<div>\n",
       "<style scoped>\n",
       "    .dataframe tbody tr th:only-of-type {\n",
       "        vertical-align: middle;\n",
       "    }\n",
       "\n",
       "    .dataframe tbody tr th {\n",
       "        vertical-align: top;\n",
       "    }\n",
       "\n",
       "    .dataframe thead th {\n",
       "        text-align: right;\n",
       "    }\n",
       "</style>\n",
       "<table border=\"1\" class=\"dataframe\">\n",
       "  <thead>\n",
       "    <tr style=\"text-align: right;\">\n",
       "      <th></th>\n",
       "      <th>name</th>\n",
       "      <th>common_name</th>\n",
       "      <th>sex_filter</th>\n",
       "      <th>category</th>\n",
       "      <th>seriousness</th>\n",
       "    </tr>\n",
       "  </thead>\n",
       "  <tbody>\n",
       "    <tr>\n",
       "      <th>0</th>\n",
       "      <td>Abdominal injury</td>\n",
       "      <td>Recent abdominal injury</td>\n",
       "      <td>both</td>\n",
       "      <td>Risk factors</td>\n",
       "      <td>normal</td>\n",
       "    </tr>\n",
       "    <tr>\n",
       "      <th>1</th>\n",
       "      <td>Absent COVID-19 vaccination</td>\n",
       "      <td>Absent COVID-19 vaccination</td>\n",
       "      <td>both</td>\n",
       "      <td>Risk factors</td>\n",
       "      <td>normal</td>\n",
       "    </tr>\n",
       "    <tr>\n",
       "      <th>2</th>\n",
       "      <td>Acceleration-deceleration injury</td>\n",
       "      <td>Whiplash injury</td>\n",
       "      <td>both</td>\n",
       "      <td>Risk factors</td>\n",
       "      <td>serious</td>\n",
       "    </tr>\n",
       "    <tr>\n",
       "      <th>3</th>\n",
       "      <td>Animal bite</td>\n",
       "      <td>Animal bite</td>\n",
       "      <td>both</td>\n",
       "      <td>Risk factors</td>\n",
       "      <td>serious</td>\n",
       "    </tr>\n",
       "    <tr>\n",
       "      <th>4</th>\n",
       "      <td>Ankle injury</td>\n",
       "      <td>Ankle injury</td>\n",
       "      <td>both</td>\n",
       "      <td>Risk factors</td>\n",
       "      <td>normal</td>\n",
       "    </tr>\n",
       "    <tr>\n",
       "      <th>...</th>\n",
       "      <td>...</td>\n",
       "      <td>...</td>\n",
       "      <td>...</td>\n",
       "      <td>...</td>\n",
       "      <td>...</td>\n",
       "    </tr>\n",
       "    <tr>\n",
       "      <th>180</th>\n",
       "      <td>Upper limb injury</td>\n",
       "      <td>Upper limb injury</td>\n",
       "      <td>both</td>\n",
       "      <td>Risk factors</td>\n",
       "      <td>normal</td>\n",
       "    </tr>\n",
       "    <tr>\n",
       "      <th>181</th>\n",
       "      <td>Weather sensitivity</td>\n",
       "      <td>Weather change sensitivity</td>\n",
       "      <td>both</td>\n",
       "      <td>Risk factors</td>\n",
       "      <td>normal</td>\n",
       "    </tr>\n",
       "    <tr>\n",
       "      <th>182</th>\n",
       "      <td>Wild mushroom consumption</td>\n",
       "      <td>Wild mushroom consumption</td>\n",
       "      <td>both</td>\n",
       "      <td>Risk factors</td>\n",
       "      <td>normal</td>\n",
       "    </tr>\n",
       "    <tr>\n",
       "      <th>183</th>\n",
       "      <td>Woman</td>\n",
       "      <td>Woman</td>\n",
       "      <td>both</td>\n",
       "      <td>Risk factors</td>\n",
       "      <td>normal</td>\n",
       "    </tr>\n",
       "    <tr>\n",
       "      <th>184</th>\n",
       "      <td>Wrist injury</td>\n",
       "      <td>Wrist injury</td>\n",
       "      <td>both</td>\n",
       "      <td>Risk factors</td>\n",
       "      <td>normal</td>\n",
       "    </tr>\n",
       "  </tbody>\n",
       "</table>\n",
       "<p>185 rows × 5 columns</p>\n",
       "</div>"
      ],
      "text/plain": [
       "                                 name                  common_name sex_filter  \\\n",
       "0                    Abdominal injury      Recent abdominal injury       both   \n",
       "1         Absent COVID-19 vaccination  Absent COVID-19 vaccination       both   \n",
       "2    Acceleration-deceleration injury              Whiplash injury       both   \n",
       "3                         Animal bite                  Animal bite       both   \n",
       "4                        Ankle injury                 Ankle injury       both   \n",
       "..                                ...                          ...        ...   \n",
       "180                 Upper limb injury            Upper limb injury       both   \n",
       "181               Weather sensitivity   Weather change sensitivity       both   \n",
       "182         Wild mushroom consumption    Wild mushroom consumption       both   \n",
       "183                             Woman                        Woman       both   \n",
       "184                      Wrist injury                 Wrist injury       both   \n",
       "\n",
       "         category seriousness  \n",
       "0    Risk factors      normal  \n",
       "1    Risk factors      normal  \n",
       "2    Risk factors     serious  \n",
       "3    Risk factors     serious  \n",
       "4    Risk factors      normal  \n",
       "..            ...         ...  \n",
       "180  Risk factors      normal  \n",
       "181  Risk factors      normal  \n",
       "182  Risk factors      normal  \n",
       "183  Risk factors      normal  \n",
       "184  Risk factors      normal  \n",
       "\n",
       "[185 rows x 5 columns]"
      ]
     },
     "execution_count": 3,
     "metadata": {},
     "output_type": "execute_result"
    }
   ],
   "source": [
    "data1_clean = data1_final.drop([\"id\"],axis = 1)\n",
    "data1_clean"
   ]
  },
  {
   "cell_type": "code",
   "execution_count": 4,
   "id": "4fffd837",
   "metadata": {
    "ExecuteTime": {
     "end_time": "2022-05-28T17:37:05.687098Z",
     "start_time": "2022-05-28T17:37:05.674144Z"
    }
   },
   "outputs": [
    {
     "data": {
      "text/html": [
       "<div>\n",
       "<style scoped>\n",
       "    .dataframe tbody tr th:only-of-type {\n",
       "        vertical-align: middle;\n",
       "    }\n",
       "\n",
       "    .dataframe tbody tr th {\n",
       "        vertical-align: top;\n",
       "    }\n",
       "\n",
       "    .dataframe thead th {\n",
       "        text-align: right;\n",
       "    }\n",
       "</style>\n",
       "<table border=\"1\" class=\"dataframe\">\n",
       "  <thead>\n",
       "    <tr style=\"text-align: right;\">\n",
       "      <th></th>\n",
       "      <th>id</th>\n",
       "      <th>name</th>\n",
       "      <th>common_name</th>\n",
       "      <th>sex_filter</th>\n",
       "      <th>categories</th>\n",
       "      <th>prevalence</th>\n",
       "      <th>acuteness</th>\n",
       "      <th>severity</th>\n",
       "      <th>triage_level</th>\n",
       "      <th>recommended_channel</th>\n",
       "    </tr>\n",
       "  </thead>\n",
       "  <tbody>\n",
       "    <tr>\n",
       "      <th>0</th>\n",
       "      <td>c_926</td>\n",
       "      <td>ACE inhibitor-induced cough</td>\n",
       "      <td>ACE inhibitor-induced cough</td>\n",
       "      <td>both</td>\n",
       "      <td>['Cardiology']</td>\n",
       "      <td>very_rare</td>\n",
       "      <td>acute_potentially_chronic</td>\n",
       "      <td>mild</td>\n",
       "      <td>consultation</td>\n",
       "      <td>audio_teleconsultation</td>\n",
       "    </tr>\n",
       "    <tr>\n",
       "      <th>1</th>\n",
       "      <td>c_764</td>\n",
       "      <td>Abdominal aortic aneurysm</td>\n",
       "      <td>Abdominal aortic aneurysm</td>\n",
       "      <td>both</td>\n",
       "      <td>['Surgery']</td>\n",
       "      <td>very_rare</td>\n",
       "      <td>chronic</td>\n",
       "      <td>severe</td>\n",
       "      <td>consultation_24</td>\n",
       "      <td>personal_visit</td>\n",
       "    </tr>\n",
       "    <tr>\n",
       "      <th>2</th>\n",
       "      <td>c_885</td>\n",
       "      <td>Abdominal aortic dissection</td>\n",
       "      <td>Abdominal aortic dissection</td>\n",
       "      <td>both</td>\n",
       "      <td>['Surgery']</td>\n",
       "      <td>very_rare</td>\n",
       "      <td>acute_potentially_chronic</td>\n",
       "      <td>severe</td>\n",
       "      <td>emergency_ambulance</td>\n",
       "      <td>personal_visit</td>\n",
       "    </tr>\n",
       "    <tr>\n",
       "      <th>3</th>\n",
       "      <td>c_969</td>\n",
       "      <td>Abdominal pain, unspecified</td>\n",
       "      <td>Unspecific abdominal pain</td>\n",
       "      <td>both</td>\n",
       "      <td>['Gastroenterology']</td>\n",
       "      <td>common</td>\n",
       "      <td>acute</td>\n",
       "      <td>mild</td>\n",
       "      <td>self_care</td>\n",
       "      <td>text_teleconsultation</td>\n",
       "    </tr>\n",
       "    <tr>\n",
       "      <th>4</th>\n",
       "      <td>c_547</td>\n",
       "      <td>Abducens nerve palsy</td>\n",
       "      <td>Sixth nerve palsy</td>\n",
       "      <td>both</td>\n",
       "      <td>['Ophthalmology']</td>\n",
       "      <td>very_rare</td>\n",
       "      <td>chronic</td>\n",
       "      <td>mild</td>\n",
       "      <td>consultation</td>\n",
       "      <td>personal_visit</td>\n",
       "    </tr>\n",
       "  </tbody>\n",
       "</table>\n",
       "</div>"
      ],
      "text/plain": [
       "      id                         name                  common_name sex_filter  \\\n",
       "0  c_926  ACE inhibitor-induced cough  ACE inhibitor-induced cough       both   \n",
       "1  c_764    Abdominal aortic aneurysm    Abdominal aortic aneurysm       both   \n",
       "2  c_885  Abdominal aortic dissection  Abdominal aortic dissection       both   \n",
       "3  c_969  Abdominal pain, unspecified    Unspecific abdominal pain       both   \n",
       "4  c_547         Abducens nerve palsy            Sixth nerve palsy       both   \n",
       "\n",
       "             categories prevalence                  acuteness severity  \\\n",
       "0        ['Cardiology']  very_rare  acute_potentially_chronic     mild   \n",
       "1           ['Surgery']  very_rare                    chronic   severe   \n",
       "2           ['Surgery']  very_rare  acute_potentially_chronic   severe   \n",
       "3  ['Gastroenterology']     common                      acute     mild   \n",
       "4     ['Ophthalmology']  very_rare                    chronic     mild   \n",
       "\n",
       "          triage_level     recommended_channel  \n",
       "0         consultation  audio_teleconsultation  \n",
       "1      consultation_24          personal_visit  \n",
       "2  emergency_ambulance          personal_visit  \n",
       "3            self_care   text_teleconsultation  \n",
       "4         consultation          personal_visit  "
      ]
     },
     "execution_count": 4,
     "metadata": {},
     "output_type": "execute_result"
    }
   ],
   "source": [
    "data3_final.head()"
   ]
  },
  {
   "cell_type": "code",
   "execution_count": 5,
   "id": "18cd74cc",
   "metadata": {
    "ExecuteTime": {
     "end_time": "2022-05-28T17:37:05.703058Z",
     "start_time": "2022-05-28T17:37:05.689091Z"
    }
   },
   "outputs": [
    {
     "name": "stdout",
     "output_type": "stream",
     "text": [
      "sex_filter = ['both' 'female' 'male']\n",
      "category = ['Risk factors']\n",
      "seriousness = ['normal' 'serious' 'emergency_ambulance' 'emergency']\n"
     ]
    }
   ],
   "source": [
    "#unique data  \n",
    "for x in data1_final.columns[-3:]:\n",
    "    print(f\"{x} = {data1_final[x].unique()}\")"
   ]
  },
  {
   "cell_type": "markdown",
   "id": "3a397c47",
   "metadata": {},
   "source": [
    "--------"
   ]
  },
  {
   "cell_type": "code",
   "execution_count": 6,
   "id": "da2a86be",
   "metadata": {
    "ExecuteTime": {
     "end_time": "2022-05-28T17:37:05.734576Z",
     "start_time": "2022-05-28T17:37:05.706044Z"
    }
   },
   "outputs": [
    {
     "data": {
      "text/html": [
       "<div>\n",
       "<style scoped>\n",
       "    .dataframe tbody tr th:only-of-type {\n",
       "        vertical-align: middle;\n",
       "    }\n",
       "\n",
       "    .dataframe tbody tr th {\n",
       "        vertical-align: top;\n",
       "    }\n",
       "\n",
       "    .dataframe thead th {\n",
       "        text-align: right;\n",
       "    }\n",
       "</style>\n",
       "<table border=\"1\" class=\"dataframe\">\n",
       "  <thead>\n",
       "    <tr style=\"text-align: right;\">\n",
       "      <th></th>\n",
       "      <th>name</th>\n",
       "      <th>common_name</th>\n",
       "      <th>sex_filter</th>\n",
       "      <th>categories</th>\n",
       "      <th>prevalence</th>\n",
       "      <th>acuteness</th>\n",
       "      <th>severity</th>\n",
       "      <th>triage_level</th>\n",
       "      <th>recommended_channel</th>\n",
       "    </tr>\n",
       "    <tr>\n",
       "      <th>id</th>\n",
       "      <th></th>\n",
       "      <th></th>\n",
       "      <th></th>\n",
       "      <th></th>\n",
       "      <th></th>\n",
       "      <th></th>\n",
       "      <th></th>\n",
       "      <th></th>\n",
       "      <th></th>\n",
       "    </tr>\n",
       "  </thead>\n",
       "  <tbody>\n",
       "    <tr>\n",
       "      <th>c_926</th>\n",
       "      <td>ACE inhibitor-induced cough</td>\n",
       "      <td>ACE inhibitor-induced cough</td>\n",
       "      <td>both</td>\n",
       "      <td>['Cardiology']</td>\n",
       "      <td>very_rare</td>\n",
       "      <td>acute_potentially_chronic</td>\n",
       "      <td>mild</td>\n",
       "      <td>consultation</td>\n",
       "      <td>audio_teleconsultation</td>\n",
       "    </tr>\n",
       "    <tr>\n",
       "      <th>c_764</th>\n",
       "      <td>Abdominal aortic aneurysm</td>\n",
       "      <td>Abdominal aortic aneurysm</td>\n",
       "      <td>both</td>\n",
       "      <td>['Surgery']</td>\n",
       "      <td>very_rare</td>\n",
       "      <td>chronic</td>\n",
       "      <td>severe</td>\n",
       "      <td>consultation_24</td>\n",
       "      <td>personal_visit</td>\n",
       "    </tr>\n",
       "    <tr>\n",
       "      <th>c_885</th>\n",
       "      <td>Abdominal aortic dissection</td>\n",
       "      <td>Abdominal aortic dissection</td>\n",
       "      <td>both</td>\n",
       "      <td>['Surgery']</td>\n",
       "      <td>very_rare</td>\n",
       "      <td>acute_potentially_chronic</td>\n",
       "      <td>severe</td>\n",
       "      <td>emergency_ambulance</td>\n",
       "      <td>personal_visit</td>\n",
       "    </tr>\n",
       "    <tr>\n",
       "      <th>c_969</th>\n",
       "      <td>Abdominal pain, unspecified</td>\n",
       "      <td>Unspecific abdominal pain</td>\n",
       "      <td>both</td>\n",
       "      <td>['Gastroenterology']</td>\n",
       "      <td>common</td>\n",
       "      <td>acute</td>\n",
       "      <td>mild</td>\n",
       "      <td>self_care</td>\n",
       "      <td>text_teleconsultation</td>\n",
       "    </tr>\n",
       "    <tr>\n",
       "      <th>c_547</th>\n",
       "      <td>Abducens nerve palsy</td>\n",
       "      <td>Sixth nerve palsy</td>\n",
       "      <td>both</td>\n",
       "      <td>['Ophthalmology']</td>\n",
       "      <td>very_rare</td>\n",
       "      <td>chronic</td>\n",
       "      <td>mild</td>\n",
       "      <td>consultation</td>\n",
       "      <td>personal_visit</td>\n",
       "    </tr>\n",
       "  </tbody>\n",
       "</table>\n",
       "</div>"
      ],
      "text/plain": [
       "                              name                  common_name sex_filter  \\\n",
       "id                                                                           \n",
       "c_926  ACE inhibitor-induced cough  ACE inhibitor-induced cough       both   \n",
       "c_764    Abdominal aortic aneurysm    Abdominal aortic aneurysm       both   \n",
       "c_885  Abdominal aortic dissection  Abdominal aortic dissection       both   \n",
       "c_969  Abdominal pain, unspecified    Unspecific abdominal pain       both   \n",
       "c_547         Abducens nerve palsy            Sixth nerve palsy       both   \n",
       "\n",
       "                 categories prevalence                  acuteness severity  \\\n",
       "id                                                                           \n",
       "c_926        ['Cardiology']  very_rare  acute_potentially_chronic     mild   \n",
       "c_764           ['Surgery']  very_rare                    chronic   severe   \n",
       "c_885           ['Surgery']  very_rare  acute_potentially_chronic   severe   \n",
       "c_969  ['Gastroenterology']     common                      acute     mild   \n",
       "c_547     ['Ophthalmology']  very_rare                    chronic     mild   \n",
       "\n",
       "              triage_level     recommended_channel  \n",
       "id                                                  \n",
       "c_926         consultation  audio_teleconsultation  \n",
       "c_764      consultation_24          personal_visit  \n",
       "c_885  emergency_ambulance          personal_visit  \n",
       "c_969            self_care   text_teleconsultation  \n",
       "c_547         consultation          personal_visit  "
      ]
     },
     "execution_count": 6,
     "metadata": {},
     "output_type": "execute_result"
    }
   ],
   "source": [
    "data3_final.set_index('id',inplace = True)\n",
    "data3_final.head()"
   ]
  },
  {
   "cell_type": "code",
   "execution_count": 7,
   "id": "5123136a",
   "metadata": {
    "ExecuteTime": {
     "end_time": "2022-05-28T17:37:06.207311Z",
     "start_time": "2022-05-28T17:37:05.739570Z"
    }
   },
   "outputs": [
    {
     "data": {
      "text/plain": [
       "id\n",
       "c_926           Cardiology\n",
       "c_764              Surgery\n",
       "c_885              Surgery\n",
       "c_969     Gastroenterology\n",
       "c_547        Ophthalmology\n",
       "                ...       \n",
       "c_1043        Traumatology\n",
       "c_1027        Traumatology\n",
       "c_244         Infectiology\n",
       "c_906         Infectiology\n",
       "c_213     Gastroenterology\n",
       "Name: categories, Length: 720, dtype: object"
      ]
     },
     "execution_count": 7,
     "metadata": {},
     "output_type": "execute_result"
    }
   ],
   "source": [
    "trim = \"[']\"\n",
    "for x in trim:\n",
    "    data3_final['categories'] = data3_final['categories'].str.replace(x,\"\")\n",
    "data3_final['categories']"
   ]
  },
  {
   "cell_type": "code",
   "execution_count": 8,
   "id": "e64d239b",
   "metadata": {
    "ExecuteTime": {
     "end_time": "2022-05-28T17:37:06.239227Z",
     "start_time": "2022-05-28T17:37:06.209310Z"
    }
   },
   "outputs": [
    {
     "data": {
      "text/html": [
       "<div>\n",
       "<style scoped>\n",
       "    .dataframe tbody tr th:only-of-type {\n",
       "        vertical-align: middle;\n",
       "    }\n",
       "\n",
       "    .dataframe tbody tr th {\n",
       "        vertical-align: top;\n",
       "    }\n",
       "\n",
       "    .dataframe thead th {\n",
       "        text-align: right;\n",
       "    }\n",
       "</style>\n",
       "<table border=\"1\" class=\"dataframe\">\n",
       "  <thead>\n",
       "    <tr style=\"text-align: right;\">\n",
       "      <th></th>\n",
       "      <th>name</th>\n",
       "      <th>common_name</th>\n",
       "      <th>sex_filter</th>\n",
       "      <th>categories</th>\n",
       "      <th>prevalence</th>\n",
       "      <th>acuteness</th>\n",
       "      <th>severity</th>\n",
       "      <th>triage_level</th>\n",
       "      <th>recommended_channel</th>\n",
       "    </tr>\n",
       "    <tr>\n",
       "      <th>id</th>\n",
       "      <th></th>\n",
       "      <th></th>\n",
       "      <th></th>\n",
       "      <th></th>\n",
       "      <th></th>\n",
       "      <th></th>\n",
       "      <th></th>\n",
       "      <th></th>\n",
       "      <th></th>\n",
       "    </tr>\n",
       "  </thead>\n",
       "  <tbody>\n",
       "    <tr>\n",
       "      <th>c_926</th>\n",
       "      <td>ACE inhibitor-induced cough</td>\n",
       "      <td>ACE inhibitor-induced cough</td>\n",
       "      <td>both</td>\n",
       "      <td>Cardiology</td>\n",
       "      <td>very_rare</td>\n",
       "      <td>acute_potentially_chronic</td>\n",
       "      <td>mild</td>\n",
       "      <td>consultation</td>\n",
       "      <td>audio_teleconsultation</td>\n",
       "    </tr>\n",
       "    <tr>\n",
       "      <th>c_764</th>\n",
       "      <td>Abdominal aortic aneurysm</td>\n",
       "      <td>Abdominal aortic aneurysm</td>\n",
       "      <td>both</td>\n",
       "      <td>Surgery</td>\n",
       "      <td>very_rare</td>\n",
       "      <td>chronic</td>\n",
       "      <td>severe</td>\n",
       "      <td>consultation_24</td>\n",
       "      <td>personal_visit</td>\n",
       "    </tr>\n",
       "    <tr>\n",
       "      <th>c_885</th>\n",
       "      <td>Abdominal aortic dissection</td>\n",
       "      <td>Abdominal aortic dissection</td>\n",
       "      <td>both</td>\n",
       "      <td>Surgery</td>\n",
       "      <td>very_rare</td>\n",
       "      <td>acute_potentially_chronic</td>\n",
       "      <td>severe</td>\n",
       "      <td>emergency_ambulance</td>\n",
       "      <td>personal_visit</td>\n",
       "    </tr>\n",
       "    <tr>\n",
       "      <th>c_969</th>\n",
       "      <td>Abdominal pain, unspecified</td>\n",
       "      <td>Unspecific abdominal pain</td>\n",
       "      <td>both</td>\n",
       "      <td>Gastroenterology</td>\n",
       "      <td>common</td>\n",
       "      <td>acute</td>\n",
       "      <td>mild</td>\n",
       "      <td>self_care</td>\n",
       "      <td>text_teleconsultation</td>\n",
       "    </tr>\n",
       "    <tr>\n",
       "      <th>c_547</th>\n",
       "      <td>Abducens nerve palsy</td>\n",
       "      <td>Sixth nerve palsy</td>\n",
       "      <td>both</td>\n",
       "      <td>Ophthalmology</td>\n",
       "      <td>very_rare</td>\n",
       "      <td>chronic</td>\n",
       "      <td>mild</td>\n",
       "      <td>consultation</td>\n",
       "      <td>personal_visit</td>\n",
       "    </tr>\n",
       "  </tbody>\n",
       "</table>\n",
       "</div>"
      ],
      "text/plain": [
       "                              name                  common_name sex_filter  \\\n",
       "id                                                                           \n",
       "c_926  ACE inhibitor-induced cough  ACE inhibitor-induced cough       both   \n",
       "c_764    Abdominal aortic aneurysm    Abdominal aortic aneurysm       both   \n",
       "c_885  Abdominal aortic dissection  Abdominal aortic dissection       both   \n",
       "c_969  Abdominal pain, unspecified    Unspecific abdominal pain       both   \n",
       "c_547         Abducens nerve palsy            Sixth nerve palsy       both   \n",
       "\n",
       "             categories prevalence                  acuteness severity  \\\n",
       "id                                                                       \n",
       "c_926        Cardiology  very_rare  acute_potentially_chronic     mild   \n",
       "c_764           Surgery  very_rare                    chronic   severe   \n",
       "c_885           Surgery  very_rare  acute_potentially_chronic   severe   \n",
       "c_969  Gastroenterology     common                      acute     mild   \n",
       "c_547     Ophthalmology  very_rare                    chronic     mild   \n",
       "\n",
       "              triage_level     recommended_channel  \n",
       "id                                                  \n",
       "c_926         consultation  audio_teleconsultation  \n",
       "c_764      consultation_24          personal_visit  \n",
       "c_885  emergency_ambulance          personal_visit  \n",
       "c_969            self_care   text_teleconsultation  \n",
       "c_547         consultation          personal_visit  "
      ]
     },
     "execution_count": 8,
     "metadata": {},
     "output_type": "execute_result"
    }
   ],
   "source": [
    "data3_final.head()"
   ]
  },
  {
   "cell_type": "code",
   "execution_count": 9,
   "id": "f9c10d26",
   "metadata": {
    "ExecuteTime": {
     "end_time": "2022-05-28T17:37:06.255183Z",
     "start_time": "2022-05-28T17:37:06.242220Z"
    }
   },
   "outputs": [
    {
     "name": "stdout",
     "output_type": "stream",
     "text": [
      "sex_filter = ['both' 'female' 'male']\n",
      "categories = ['Cardiology' 'Surgery' 'Gastroenterology' 'Ophthalmology' 'Toxicology'\n",
      " 'Orthopedics' 'Traumatology' 'Dermatology' 'Infectiology' 'Endocrinology'\n",
      " 'Otorhinolaryngology' 'Pulmonology' 'Urology' 'Nephrology' 'Hematology'\n",
      " 'Genetics' 'Psychiatry' 'Gynecology' 'Oncology' 'Allergology'\n",
      " 'Rheumatology' 'Neurology' 'Venereology' 'Dentistry' 'Other'\n",
      " 'Internal Medicine' 'Angiology' 'Diabetology' 'Pediatrics']\n",
      "prevalence = ['very_rare' 'common' 'moderate' 'rare']\n",
      "acuteness = ['acute_potentially_chronic' 'chronic' 'acute'\n",
      " 'chronic_with_exacerbations']\n",
      "severity = ['mild' 'severe' 'moderate']\n",
      "triage_level = ['consultation' 'consultation_24' 'emergency_ambulance' 'self_care'\n",
      " 'emergency']\n",
      "recommended_channel = ['audio_teleconsultation' 'personal_visit' 'text_teleconsultation'\n",
      " 'video_teleconsultation']\n"
     ]
    }
   ],
   "source": [
    "#unique data  \n",
    "for x in data3_final.columns[2:]:\n",
    "    print(f\"{x} = {data3_final[x].unique()}\")"
   ]
  },
  {
   "cell_type": "code",
   "execution_count": 10,
   "id": "369e1d01",
   "metadata": {
    "ExecuteTime": {
     "end_time": "2022-05-28T17:37:06.285105Z",
     "start_time": "2022-05-28T17:37:06.257179Z"
    }
   },
   "outputs": [
    {
     "data": {
      "text/html": [
       "<div>\n",
       "<style scoped>\n",
       "    .dataframe tbody tr th:only-of-type {\n",
       "        vertical-align: middle;\n",
       "    }\n",
       "\n",
       "    .dataframe tbody tr th {\n",
       "        vertical-align: top;\n",
       "    }\n",
       "\n",
       "    .dataframe thead th {\n",
       "        text-align: right;\n",
       "    }\n",
       "</style>\n",
       "<table border=\"1\" class=\"dataframe\">\n",
       "  <thead>\n",
       "    <tr style=\"text-align: right;\">\n",
       "      <th></th>\n",
       "      <th>name</th>\n",
       "      <th>common_name</th>\n",
       "      <th>sex_filter</th>\n",
       "      <th>categories</th>\n",
       "      <th>prevalence</th>\n",
       "      <th>acuteness</th>\n",
       "      <th>severity</th>\n",
       "      <th>triage_level</th>\n",
       "      <th>recommended_channel</th>\n",
       "    </tr>\n",
       "    <tr>\n",
       "      <th>id</th>\n",
       "      <th></th>\n",
       "      <th></th>\n",
       "      <th></th>\n",
       "      <th></th>\n",
       "      <th></th>\n",
       "      <th></th>\n",
       "      <th></th>\n",
       "      <th></th>\n",
       "      <th></th>\n",
       "    </tr>\n",
       "  </thead>\n",
       "  <tbody>\n",
       "    <tr>\n",
       "      <th>c_926</th>\n",
       "      <td>ACE inhibitor-induced cough</td>\n",
       "      <td>ACE inhibitor-induced cough</td>\n",
       "      <td>both</td>\n",
       "      <td>Cardiology</td>\n",
       "      <td>very_rare</td>\n",
       "      <td>acute_potentially_chronic</td>\n",
       "      <td>mild</td>\n",
       "      <td>consultation</td>\n",
       "      <td>audio_teleconsultation</td>\n",
       "    </tr>\n",
       "    <tr>\n",
       "      <th>c_764</th>\n",
       "      <td>Abdominal aortic aneurysm</td>\n",
       "      <td>Abdominal aortic aneurysm</td>\n",
       "      <td>both</td>\n",
       "      <td>Surgery</td>\n",
       "      <td>very_rare</td>\n",
       "      <td>chronic</td>\n",
       "      <td>severe</td>\n",
       "      <td>consultation_24</td>\n",
       "      <td>personal_visit</td>\n",
       "    </tr>\n",
       "    <tr>\n",
       "      <th>c_885</th>\n",
       "      <td>Abdominal aortic dissection</td>\n",
       "      <td>Abdominal aortic dissection</td>\n",
       "      <td>both</td>\n",
       "      <td>Surgery</td>\n",
       "      <td>very_rare</td>\n",
       "      <td>acute_potentially_chronic</td>\n",
       "      <td>severe</td>\n",
       "      <td>emergency_ambulance</td>\n",
       "      <td>personal_visit</td>\n",
       "    </tr>\n",
       "    <tr>\n",
       "      <th>c_969</th>\n",
       "      <td>Abdominal pain, unspecified</td>\n",
       "      <td>Unspecific abdominal pain</td>\n",
       "      <td>both</td>\n",
       "      <td>Gastroenterology</td>\n",
       "      <td>common</td>\n",
       "      <td>acute</td>\n",
       "      <td>mild</td>\n",
       "      <td>self_care</td>\n",
       "      <td>text_teleconsultation</td>\n",
       "    </tr>\n",
       "    <tr>\n",
       "      <th>c_547</th>\n",
       "      <td>Abducens nerve palsy</td>\n",
       "      <td>Sixth nerve palsy</td>\n",
       "      <td>both</td>\n",
       "      <td>Ophthalmology</td>\n",
       "      <td>very_rare</td>\n",
       "      <td>chronic</td>\n",
       "      <td>mild</td>\n",
       "      <td>consultation</td>\n",
       "      <td>personal_visit</td>\n",
       "    </tr>\n",
       "  </tbody>\n",
       "</table>\n",
       "</div>"
      ],
      "text/plain": [
       "                              name                  common_name sex_filter  \\\n",
       "id                                                                           \n",
       "c_926  ACE inhibitor-induced cough  ACE inhibitor-induced cough       both   \n",
       "c_764    Abdominal aortic aneurysm    Abdominal aortic aneurysm       both   \n",
       "c_885  Abdominal aortic dissection  Abdominal aortic dissection       both   \n",
       "c_969  Abdominal pain, unspecified    Unspecific abdominal pain       both   \n",
       "c_547         Abducens nerve palsy            Sixth nerve palsy       both   \n",
       "\n",
       "             categories prevalence                  acuteness severity  \\\n",
       "id                                                                       \n",
       "c_926        Cardiology  very_rare  acute_potentially_chronic     mild   \n",
       "c_764           Surgery  very_rare                    chronic   severe   \n",
       "c_885           Surgery  very_rare  acute_potentially_chronic   severe   \n",
       "c_969  Gastroenterology     common                      acute     mild   \n",
       "c_547     Ophthalmology  very_rare                    chronic     mild   \n",
       "\n",
       "              triage_level     recommended_channel  \n",
       "id                                                  \n",
       "c_926         consultation  audio_teleconsultation  \n",
       "c_764      consultation_24          personal_visit  \n",
       "c_885  emergency_ambulance          personal_visit  \n",
       "c_969            self_care   text_teleconsultation  \n",
       "c_547         consultation          personal_visit  "
      ]
     },
     "execution_count": 10,
     "metadata": {},
     "output_type": "execute_result"
    }
   ],
   "source": [
    "data3_clean = data3_final\n",
    "data3_clean.head()"
   ]
  },
  {
   "cell_type": "code",
   "execution_count": 11,
   "id": "d5f7ab11",
   "metadata": {
    "ExecuteTime": {
     "end_time": "2022-05-28T17:37:06.317019Z",
     "start_time": "2022-05-28T17:37:06.291094Z"
    }
   },
   "outputs": [],
   "source": [
    "data1_group = data1_clean.groupby(['name','common_name']).first()\n",
    "data3_group = data3_clean.groupby(['name','common_name']).first()"
   ]
  },
  {
   "cell_type": "code",
   "execution_count": 12,
   "id": "14da9d61",
   "metadata": {
    "ExecuteTime": {
     "end_time": "2022-05-28T17:37:06.331978Z",
     "start_time": "2022-05-28T17:37:06.323013Z"
    }
   },
   "outputs": [
    {
     "data": {
      "text/plain": [
       "(True, True)"
      ]
     },
     "execution_count": 12,
     "metadata": {},
     "output_type": "execute_result"
    }
   ],
   "source": [
    "data1_group.shape[0] == data1_clean.shape[0],data3_group.shape[0] == data3_clean.shape[0]"
   ]
  },
  {
   "cell_type": "code",
   "execution_count": 13,
   "id": "e4a711b3",
   "metadata": {
    "ExecuteTime": {
     "end_time": "2022-05-28T17:37:07.378433Z",
     "start_time": "2022-05-28T17:37:06.333974Z"
    }
   },
   "outputs": [
    {
     "data": {
      "text/html": [
       "<style type=\"text/css\">\n",
       "#T_41464_row0_col0, #T_41464_row0_col1, #T_41464_row1_col0, #T_41464_row1_col1, #T_41464_row2_col1 {\n",
       "  background-color: yellow;\n",
       "}\n",
       "#T_41464_row0_col2, #T_41464_row0_col3, #T_41464_row0_col4, #T_41464_row0_col5, #T_41464_row0_col6, #T_41464_row0_col7, #T_41464_row0_col8, #T_41464_row1_col2, #T_41464_row1_col3, #T_41464_row1_col4, #T_41464_row1_col5, #T_41464_row1_col6, #T_41464_row1_col7, #T_41464_row1_col8, #T_41464_row2_col0, #T_41464_row2_col2, #T_41464_row2_col3, #T_41464_row2_col4, #T_41464_row2_col5, #T_41464_row2_col6, #T_41464_row2_col7, #T_41464_row2_col8 {\n",
       "  background-color: ;\n",
       "}\n",
       "</style>\n",
       "<table id=\"T_41464\">\n",
       "  <thead>\n",
       "    <tr>\n",
       "      <th class=\"blank level0\" >&nbsp;</th>\n",
       "      <th id=\"T_41464_level0_col0\" class=\"col_heading level0 col0\" >name</th>\n",
       "      <th id=\"T_41464_level0_col1\" class=\"col_heading level0 col1\" >common_name</th>\n",
       "      <th id=\"T_41464_level0_col2\" class=\"col_heading level0 col2\" >sex_filter</th>\n",
       "      <th id=\"T_41464_level0_col3\" class=\"col_heading level0 col3\" >categories</th>\n",
       "      <th id=\"T_41464_level0_col4\" class=\"col_heading level0 col4\" >prevalence</th>\n",
       "      <th id=\"T_41464_level0_col5\" class=\"col_heading level0 col5\" >acuteness</th>\n",
       "      <th id=\"T_41464_level0_col6\" class=\"col_heading level0 col6\" >severity</th>\n",
       "      <th id=\"T_41464_level0_col7\" class=\"col_heading level0 col7\" >triage_level</th>\n",
       "      <th id=\"T_41464_level0_col8\" class=\"col_heading level0 col8\" >recommended_channel</th>\n",
       "    </tr>\n",
       "    <tr>\n",
       "      <th class=\"index_name level0\" >id</th>\n",
       "      <th class=\"blank col0\" >&nbsp;</th>\n",
       "      <th class=\"blank col1\" >&nbsp;</th>\n",
       "      <th class=\"blank col2\" >&nbsp;</th>\n",
       "      <th class=\"blank col3\" >&nbsp;</th>\n",
       "      <th class=\"blank col4\" >&nbsp;</th>\n",
       "      <th class=\"blank col5\" >&nbsp;</th>\n",
       "      <th class=\"blank col6\" >&nbsp;</th>\n",
       "      <th class=\"blank col7\" >&nbsp;</th>\n",
       "      <th class=\"blank col8\" >&nbsp;</th>\n",
       "    </tr>\n",
       "  </thead>\n",
       "  <tbody>\n",
       "    <tr>\n",
       "      <th id=\"T_41464_level0_row0\" class=\"row_heading level0 row0\" >c_837</th>\n",
       "      <td id=\"T_41464_row0_col0\" class=\"data row0 col0\" >Cold urticaria</td>\n",
       "      <td id=\"T_41464_row0_col1\" class=\"data row0 col1\" >Cold urticaria</td>\n",
       "      <td id=\"T_41464_row0_col2\" class=\"data row0 col2\" >both</td>\n",
       "      <td id=\"T_41464_row0_col3\" class=\"data row0 col3\" >Dermatology</td>\n",
       "      <td id=\"T_41464_row0_col4\" class=\"data row0 col4\" >rare</td>\n",
       "      <td id=\"T_41464_row0_col5\" class=\"data row0 col5\" >chronic_with_exacerbations</td>\n",
       "      <td id=\"T_41464_row0_col6\" class=\"data row0 col6\" >moderate</td>\n",
       "      <td id=\"T_41464_row0_col7\" class=\"data row0 col7\" >self_care</td>\n",
       "      <td id=\"T_41464_row0_col8\" class=\"data row0 col8\" >video_teleconsultation</td>\n",
       "    </tr>\n",
       "    <tr>\n",
       "      <th id=\"T_41464_level0_row1\" class=\"row_heading level0 row1\" >c_87</th>\n",
       "      <td id=\"T_41464_row1_col0\" class=\"data row1 col0\" >Common cold</td>\n",
       "      <td id=\"T_41464_row1_col1\" class=\"data row1 col1\" >Common cold</td>\n",
       "      <td id=\"T_41464_row1_col2\" class=\"data row1 col2\" >both</td>\n",
       "      <td id=\"T_41464_row1_col3\" class=\"data row1 col3\" >Infectiology</td>\n",
       "      <td id=\"T_41464_row1_col4\" class=\"data row1 col4\" >common</td>\n",
       "      <td id=\"T_41464_row1_col5\" class=\"data row1 col5\" >acute</td>\n",
       "      <td id=\"T_41464_row1_col6\" class=\"data row1 col6\" >mild</td>\n",
       "      <td id=\"T_41464_row1_col7\" class=\"data row1 col7\" >self_care</td>\n",
       "      <td id=\"T_41464_row1_col8\" class=\"data row1 col8\" >text_teleconsultation</td>\n",
       "    </tr>\n",
       "    <tr>\n",
       "      <th id=\"T_41464_level0_row2\" class=\"row_heading level0 row2\" >c_67</th>\n",
       "      <td id=\"T_41464_row2_col0\" class=\"data row2 col0\" >Oral herpes</td>\n",
       "      <td id=\"T_41464_row2_col1\" class=\"data row2 col1\" >Cold sore</td>\n",
       "      <td id=\"T_41464_row2_col2\" class=\"data row2 col2\" >both</td>\n",
       "      <td id=\"T_41464_row2_col3\" class=\"data row2 col3\" >Dermatology</td>\n",
       "      <td id=\"T_41464_row2_col4\" class=\"data row2 col4\" >moderate</td>\n",
       "      <td id=\"T_41464_row2_col5\" class=\"data row2 col5\" >acute_potentially_chronic</td>\n",
       "      <td id=\"T_41464_row2_col6\" class=\"data row2 col6\" >mild</td>\n",
       "      <td id=\"T_41464_row2_col7\" class=\"data row2 col7\" >self_care</td>\n",
       "      <td id=\"T_41464_row2_col8\" class=\"data row2 col8\" >video_teleconsultation</td>\n",
       "    </tr>\n",
       "  </tbody>\n",
       "</table>\n"
      ],
      "text/plain": [
       "<pandas.io.formats.style.Styler at 0x1f1d76aac70>"
      ]
     },
     "execution_count": 13,
     "metadata": {},
     "output_type": "execute_result"
    }
   ],
   "source": [
    "#finding the disease\n",
    "def pattern (df,find):\n",
    "    temp_df = df[df.apply(lambda row: row.astype(str).str.contains(find,case=False).any(), axis=1)]\n",
    "    def color_negative_red(value):\n",
    "        val = value.lower()\n",
    "        color = 'yellow' if re.findall(find,val) else ''\n",
    "        return 'background-color: %s'% color\n",
    "\n",
    "    return temp_df.style.applymap(color_negative_red)\n",
    "\n",
    "pattern(data3_clean,'cold')"
   ]
  },
  {
   "cell_type": "code",
   "execution_count": 14,
   "id": "4b5404c7",
   "metadata": {
    "ExecuteTime": {
     "end_time": "2022-05-28T17:37:07.394354Z",
     "start_time": "2022-05-28T17:37:07.379394Z"
    }
   },
   "outputs": [],
   "source": [
    "data1_group.to_csv(\"data1_group_mm.csv\")"
   ]
  },
  {
   "cell_type": "code",
   "execution_count": 15,
   "id": "4fbe19f2",
   "metadata": {
    "ExecuteTime": {
     "end_time": "2022-05-28T17:37:07.426314Z",
     "start_time": "2022-05-28T17:37:07.398345Z"
    }
   },
   "outputs": [],
   "source": [
    "data3_group.to_csv(\"data3_group_mm.csv\")"
   ]
  }
 ],
 "metadata": {
  "kernelspec": {
   "display_name": "Python 3 (ipykernel)",
   "language": "python",
   "name": "python3"
  },
  "language_info": {
   "codemirror_mode": {
    "name": "ipython",
    "version": 3
   },
   "file_extension": ".py",
   "mimetype": "text/x-python",
   "name": "python",
   "nbconvert_exporter": "python",
   "pygments_lexer": "ipython3",
   "version": "3.9.7"
  },
  "toc": {
   "base_numbering": 1,
   "nav_menu": {},
   "number_sections": true,
   "sideBar": true,
   "skip_h1_title": false,
   "title_cell": "Table of Contents",
   "title_sidebar": "Contents",
   "toc_cell": false,
   "toc_position": {},
   "toc_section_display": true,
   "toc_window_display": false
  }
 },
 "nbformat": 4,
 "nbformat_minor": 5
}
