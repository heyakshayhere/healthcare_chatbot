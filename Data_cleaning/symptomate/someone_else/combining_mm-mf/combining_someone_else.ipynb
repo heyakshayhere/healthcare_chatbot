{
 "cells": [
  {
   "cell_type": "code",
   "execution_count": 1,
   "id": "c49e1b36",
   "metadata": {
    "ExecuteTime": {
     "end_time": "2022-06-07T14:21:18.750161Z",
     "start_time": "2022-06-07T14:21:18.221189Z"
    }
   },
   "outputs": [
    {
     "data": {
      "application/javascript": [
       "IPython.notebook.set_autosave_interval(1000)"
      ]
     },
     "metadata": {},
     "output_type": "display_data"
    },
    {
     "name": "stdout",
     "output_type": "stream",
     "text": [
      "Autosaving every 1 seconds\n"
     ]
    }
   ],
   "source": [
    "import pandas as pd,numpy as np,re\n",
    "\n",
    "import warnings\n",
    "warnings.filterwarnings(\"ignore\")\n",
    "\n",
    "%autosave 1"
   ]
  },
  {
   "cell_type": "code",
   "execution_count": 2,
   "id": "3746a479",
   "metadata": {
    "ExecuteTime": {
     "end_time": "2022-06-07T14:21:18.780740Z",
     "start_time": "2022-06-07T14:21:18.751160Z"
    }
   },
   "outputs": [],
   "source": [
    "data1_group_mm = pd.read_csv(\"data1_group_mm.csv\")\n",
    "data1_group_mf = pd.read_csv(\"data1_group_mf.csv\")\n",
    "data3_group_mm = pd.read_csv(\"data3_group_mm.csv\")\n",
    "data3_group_mf = pd.read_csv(\"data3_group_mf.csv\")\n",
    "data2_group_mf = pd.read_csv(\"data2_group_mf.csv\")"
   ]
  },
  {
   "cell_type": "code",
   "execution_count": 3,
   "id": "79afea59",
   "metadata": {
    "ExecuteTime": {
     "end_time": "2022-06-07T14:21:18.796948Z",
     "start_time": "2022-06-07T14:21:18.783462Z"
    }
   },
   "outputs": [],
   "source": [
    "class df_options:\n",
    "    def __init__ (self,df1,df2):\n",
    "        self.df1 = df1\n",
    "        self.df2 = df2\n",
    "    \n",
    "    def merged_data(self):\n",
    "        data_merged = pd.merge(self.df1, self.df2,how=\"outer\")\n",
    "        return data_merged\n",
    "    \n",
    "    def uncomman_data(self):\n",
    "        uncomman_data = self.df1.merge(self.df2, how = 'outer' ,indicator=True).loc[lambda x : x['_merge']=='left_only']\n",
    "        return uncomman_data\n",
    "    \n",
    "    @staticmethod\n",
    "    def pattern (df,find):\n",
    "        temp_df = df[df.apply(lambda row: row.astype(str).str.contains(find,case=False).any(), axis=1)]\n",
    "        def color_negative_red(val):\n",
    "            color = 'yellow' if re.search(find,val,flags = re.IGNORECASE) else ''\n",
    "            return 'background-color: %s'% color\n",
    "\n",
    "        return temp_df.style.applymap(color_negative_red)"
   ]
  },
  {
   "cell_type": "markdown",
   "id": "b2142f73",
   "metadata": {},
   "source": [
    "----"
   ]
  },
  {
   "cell_type": "code",
   "execution_count": 4,
   "id": "9796fa5f",
   "metadata": {
    "ExecuteTime": {
     "end_time": "2022-06-07T14:21:18.827931Z",
     "start_time": "2022-06-07T14:21:18.797735Z"
    }
   },
   "outputs": [
    {
     "data": {
      "text/html": [
       "<div>\n",
       "<style scoped>\n",
       "    .dataframe tbody tr th:only-of-type {\n",
       "        vertical-align: middle;\n",
       "    }\n",
       "\n",
       "    .dataframe tbody tr th {\n",
       "        vertical-align: top;\n",
       "    }\n",
       "\n",
       "    .dataframe thead th {\n",
       "        text-align: right;\n",
       "    }\n",
       "</style>\n",
       "<table border=\"1\" class=\"dataframe\">\n",
       "  <thead>\n",
       "    <tr style=\"text-align: right;\">\n",
       "      <th></th>\n",
       "      <th>name</th>\n",
       "      <th>common_name</th>\n",
       "      <th>sex_filter</th>\n",
       "      <th>category</th>\n",
       "      <th>seriousness</th>\n",
       "    </tr>\n",
       "  </thead>\n",
       "  <tbody>\n",
       "    <tr>\n",
       "      <th>0</th>\n",
       "      <td>Abdominal injury</td>\n",
       "      <td>Recent abdominal injury</td>\n",
       "      <td>both</td>\n",
       "      <td>Risk factors</td>\n",
       "      <td>normal</td>\n",
       "    </tr>\n",
       "    <tr>\n",
       "      <th>1</th>\n",
       "      <td>Absent COVID-19 vaccination</td>\n",
       "      <td>Absent COVID-19 vaccination</td>\n",
       "      <td>both</td>\n",
       "      <td>Risk factors</td>\n",
       "      <td>normal</td>\n",
       "    </tr>\n",
       "    <tr>\n",
       "      <th>2</th>\n",
       "      <td>Acceleration-deceleration injury</td>\n",
       "      <td>Whiplash injury</td>\n",
       "      <td>both</td>\n",
       "      <td>Risk factors</td>\n",
       "      <td>serious</td>\n",
       "    </tr>\n",
       "    <tr>\n",
       "      <th>3</th>\n",
       "      <td>Animal bite</td>\n",
       "      <td>Animal bite</td>\n",
       "      <td>both</td>\n",
       "      <td>Risk factors</td>\n",
       "      <td>serious</td>\n",
       "    </tr>\n",
       "    <tr>\n",
       "      <th>4</th>\n",
       "      <td>Ankle injury</td>\n",
       "      <td>Ankle injury</td>\n",
       "      <td>both</td>\n",
       "      <td>Risk factors</td>\n",
       "      <td>normal</td>\n",
       "    </tr>\n",
       "  </tbody>\n",
       "</table>\n",
       "</div>"
      ],
      "text/plain": [
       "                               name                  common_name sex_filter  \\\n",
       "0                  Abdominal injury      Recent abdominal injury       both   \n",
       "1       Absent COVID-19 vaccination  Absent COVID-19 vaccination       both   \n",
       "2  Acceleration-deceleration injury              Whiplash injury       both   \n",
       "3                       Animal bite                  Animal bite       both   \n",
       "4                      Ankle injury                 Ankle injury       both   \n",
       "\n",
       "       category seriousness  \n",
       "0  Risk factors      normal  \n",
       "1  Risk factors      normal  \n",
       "2  Risk factors     serious  \n",
       "3  Risk factors     serious  \n",
       "4  Risk factors      normal  "
      ]
     },
     "execution_count": 4,
     "metadata": {},
     "output_type": "execute_result"
    }
   ],
   "source": [
    "obj1 = df_options(data1_group_mm,data1_group_mf)\n",
    "data1 = obj1.merged_data()\n",
    "data1.head()"
   ]
  },
  {
   "cell_type": "code",
   "execution_count": 5,
   "id": "90c2b4c9",
   "metadata": {
    "ExecuteTime": {
     "end_time": "2022-06-07T14:21:18.858923Z",
     "start_time": "2022-06-07T14:21:18.828765Z"
    }
   },
   "outputs": [
    {
     "data": {
      "text/html": [
       "<div>\n",
       "<style scoped>\n",
       "    .dataframe tbody tr th:only-of-type {\n",
       "        vertical-align: middle;\n",
       "    }\n",
       "\n",
       "    .dataframe tbody tr th {\n",
       "        vertical-align: top;\n",
       "    }\n",
       "\n",
       "    .dataframe thead th {\n",
       "        text-align: right;\n",
       "    }\n",
       "</style>\n",
       "<table border=\"1\" class=\"dataframe\">\n",
       "  <thead>\n",
       "    <tr style=\"text-align: right;\">\n",
       "      <th></th>\n",
       "      <th>name</th>\n",
       "      <th>common_name</th>\n",
       "      <th>sex_filter</th>\n",
       "      <th>category</th>\n",
       "      <th>seriousness</th>\n",
       "      <th>_merge</th>\n",
       "    </tr>\n",
       "  </thead>\n",
       "  <tbody>\n",
       "  </tbody>\n",
       "</table>\n",
       "</div>"
      ],
      "text/plain": [
       "Empty DataFrame\n",
       "Columns: [name, common_name, sex_filter, category, seriousness, _merge]\n",
       "Index: []"
      ]
     },
     "execution_count": 5,
     "metadata": {},
     "output_type": "execute_result"
    }
   ],
   "source": [
    "obj1.uncomman_data()"
   ]
  },
  {
   "cell_type": "markdown",
   "id": "cf3aaf4f",
   "metadata": {},
   "source": [
    "--------------"
   ]
  },
  {
   "cell_type": "code",
   "execution_count": 6,
   "id": "9c75ae8e",
   "metadata": {
    "ExecuteTime": {
     "end_time": "2022-06-07T14:21:18.889948Z",
     "start_time": "2022-06-07T14:21:18.859920Z"
    }
   },
   "outputs": [
    {
     "data": {
      "text/html": [
       "<div>\n",
       "<style scoped>\n",
       "    .dataframe tbody tr th:only-of-type {\n",
       "        vertical-align: middle;\n",
       "    }\n",
       "\n",
       "    .dataframe tbody tr th {\n",
       "        vertical-align: top;\n",
       "    }\n",
       "\n",
       "    .dataframe thead th {\n",
       "        text-align: right;\n",
       "    }\n",
       "</style>\n",
       "<table border=\"1\" class=\"dataframe\">\n",
       "  <thead>\n",
       "    <tr style=\"text-align: right;\">\n",
       "      <th></th>\n",
       "      <th>name</th>\n",
       "      <th>common_name</th>\n",
       "      <th>sex_filter</th>\n",
       "      <th>categories</th>\n",
       "      <th>prevalence</th>\n",
       "      <th>acuteness</th>\n",
       "      <th>severity</th>\n",
       "      <th>triage_level</th>\n",
       "      <th>recommended_channel</th>\n",
       "    </tr>\n",
       "  </thead>\n",
       "  <tbody>\n",
       "    <tr>\n",
       "      <th>0</th>\n",
       "      <td>ACE inhibitor-induced cough</td>\n",
       "      <td>ACE inhibitor-induced cough</td>\n",
       "      <td>both</td>\n",
       "      <td>Cardiology</td>\n",
       "      <td>very_rare</td>\n",
       "      <td>acute_potentially_chronic</td>\n",
       "      <td>mild</td>\n",
       "      <td>consultation</td>\n",
       "      <td>audio_teleconsultation</td>\n",
       "    </tr>\n",
       "    <tr>\n",
       "      <th>1</th>\n",
       "      <td>Abdominal aortic aneurysm</td>\n",
       "      <td>Abdominal aortic aneurysm</td>\n",
       "      <td>both</td>\n",
       "      <td>Surgery</td>\n",
       "      <td>very_rare</td>\n",
       "      <td>chronic</td>\n",
       "      <td>severe</td>\n",
       "      <td>consultation_24</td>\n",
       "      <td>personal_visit</td>\n",
       "    </tr>\n",
       "    <tr>\n",
       "      <th>2</th>\n",
       "      <td>Abdominal aortic dissection</td>\n",
       "      <td>Abdominal aortic dissection</td>\n",
       "      <td>both</td>\n",
       "      <td>Surgery</td>\n",
       "      <td>very_rare</td>\n",
       "      <td>acute_potentially_chronic</td>\n",
       "      <td>severe</td>\n",
       "      <td>emergency_ambulance</td>\n",
       "      <td>personal_visit</td>\n",
       "    </tr>\n",
       "    <tr>\n",
       "      <th>3</th>\n",
       "      <td>Abdominal pain, unspecified</td>\n",
       "      <td>Unspecific abdominal pain</td>\n",
       "      <td>both</td>\n",
       "      <td>Gastroenterology</td>\n",
       "      <td>common</td>\n",
       "      <td>acute</td>\n",
       "      <td>mild</td>\n",
       "      <td>self_care</td>\n",
       "      <td>text_teleconsultation</td>\n",
       "    </tr>\n",
       "    <tr>\n",
       "      <th>4</th>\n",
       "      <td>Abducens nerve palsy</td>\n",
       "      <td>Sixth nerve palsy</td>\n",
       "      <td>both</td>\n",
       "      <td>Ophthalmology</td>\n",
       "      <td>very_rare</td>\n",
       "      <td>chronic</td>\n",
       "      <td>mild</td>\n",
       "      <td>consultation</td>\n",
       "      <td>personal_visit</td>\n",
       "    </tr>\n",
       "  </tbody>\n",
       "</table>\n",
       "</div>"
      ],
      "text/plain": [
       "                          name                  common_name sex_filter  \\\n",
       "0  ACE inhibitor-induced cough  ACE inhibitor-induced cough       both   \n",
       "1    Abdominal aortic aneurysm    Abdominal aortic aneurysm       both   \n",
       "2  Abdominal aortic dissection  Abdominal aortic dissection       both   \n",
       "3  Abdominal pain, unspecified    Unspecific abdominal pain       both   \n",
       "4         Abducens nerve palsy            Sixth nerve palsy       both   \n",
       "\n",
       "         categories prevalence                  acuteness severity  \\\n",
       "0        Cardiology  very_rare  acute_potentially_chronic     mild   \n",
       "1           Surgery  very_rare                    chronic   severe   \n",
       "2           Surgery  very_rare  acute_potentially_chronic   severe   \n",
       "3  Gastroenterology     common                      acute     mild   \n",
       "4     Ophthalmology  very_rare                    chronic     mild   \n",
       "\n",
       "          triage_level     recommended_channel  \n",
       "0         consultation  audio_teleconsultation  \n",
       "1      consultation_24          personal_visit  \n",
       "2  emergency_ambulance          personal_visit  \n",
       "3            self_care   text_teleconsultation  \n",
       "4         consultation          personal_visit  "
      ]
     },
     "execution_count": 6,
     "metadata": {},
     "output_type": "execute_result"
    }
   ],
   "source": [
    "obj3 = df_options(data3_group_mm,data3_group_mf)\n",
    "data3 = obj3.merged_data()\n",
    "data3.head()"
   ]
  },
  {
   "cell_type": "code",
   "execution_count": 7,
   "id": "58d357c4",
   "metadata": {
    "ExecuteTime": {
     "end_time": "2022-06-07T14:21:18.905923Z",
     "start_time": "2022-06-07T14:21:18.890910Z"
    }
   },
   "outputs": [
    {
     "data": {
      "text/html": [
       "<div>\n",
       "<style scoped>\n",
       "    .dataframe tbody tr th:only-of-type {\n",
       "        vertical-align: middle;\n",
       "    }\n",
       "\n",
       "    .dataframe tbody tr th {\n",
       "        vertical-align: top;\n",
       "    }\n",
       "\n",
       "    .dataframe thead th {\n",
       "        text-align: right;\n",
       "    }\n",
       "</style>\n",
       "<table border=\"1\" class=\"dataframe\">\n",
       "  <thead>\n",
       "    <tr style=\"text-align: right;\">\n",
       "      <th></th>\n",
       "      <th>name</th>\n",
       "      <th>common_name</th>\n",
       "      <th>sex_filter</th>\n",
       "      <th>categories</th>\n",
       "      <th>prevalence</th>\n",
       "      <th>acuteness</th>\n",
       "      <th>severity</th>\n",
       "      <th>triage_level</th>\n",
       "      <th>recommended_channel</th>\n",
       "      <th>_merge</th>\n",
       "    </tr>\n",
       "  </thead>\n",
       "  <tbody>\n",
       "  </tbody>\n",
       "</table>\n",
       "</div>"
      ],
      "text/plain": [
       "Empty DataFrame\n",
       "Columns: [name, common_name, sex_filter, categories, prevalence, acuteness, severity, triage_level, recommended_channel, _merge]\n",
       "Index: []"
      ]
     },
     "execution_count": 7,
     "metadata": {},
     "output_type": "execute_result"
    }
   ],
   "source": [
    "obj3.uncomman_data().head()"
   ]
  },
  {
   "cell_type": "markdown",
   "id": "44f1d58f",
   "metadata": {},
   "source": [
    "---------"
   ]
  },
  {
   "cell_type": "code",
   "execution_count": null,
   "id": "a6660eed",
   "metadata": {
    "ExecuteTime": {
     "start_time": "2022-06-07T14:21:18.210Z"
    }
   },
   "outputs": [],
   "source": [
    "df_options.pattern(data3,'cold')"
   ]
  },
  {
   "cell_type": "code",
   "execution_count": null,
   "id": "3e947744",
   "metadata": {
    "ExecuteTime": {
     "start_time": "2022-06-07T14:21:18.212Z"
    }
   },
   "outputs": [],
   "source": [
    "data2 = data2_group_mf\n",
    "data2.head()"
   ]
  },
  {
   "cell_type": "code",
   "execution_count": null,
   "id": "37d98d18",
   "metadata": {
    "ExecuteTime": {
     "start_time": "2022-06-07T14:21:18.214Z"
    }
   },
   "outputs": [],
   "source": [
    "data1.to_csv(\"symptomate_someone_else_risk_factor.csv\",index=False)\n",
    "data2.to_csv(\"symptomate_someone_else_signs_and_symptomes.csv\",index=False)\n",
    "data3.to_csv(\"symptomate_someone_else_remaining.csv\",index=False)"
   ]
  }
 ],
 "metadata": {
  "kernelspec": {
   "display_name": "Python 3 (ipykernel)",
   "language": "python",
   "name": "python3"
  },
  "language_info": {
   "codemirror_mode": {
    "name": "ipython",
    "version": 3
   },
   "file_extension": ".py",
   "mimetype": "text/x-python",
   "name": "python",
   "nbconvert_exporter": "python",
   "pygments_lexer": "ipython3",
   "version": "3.9.7"
  },
  "toc": {
   "base_numbering": 1,
   "nav_menu": {},
   "number_sections": true,
   "sideBar": true,
   "skip_h1_title": false,
   "title_cell": "Table of Contents",
   "title_sidebar": "Contents",
   "toc_cell": false,
   "toc_position": {},
   "toc_section_display": true,
   "toc_window_display": false
  }
 },
 "nbformat": 4,
 "nbformat_minor": 5
}
