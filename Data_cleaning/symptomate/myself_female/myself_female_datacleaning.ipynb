{
 "cells": [
  {
   "cell_type": "code",
   "execution_count": 1,
   "id": "6e8cea7b",
   "metadata": {
    "ExecuteTime": {
     "end_time": "2022-05-26T17:43:27.858542Z",
     "start_time": "2022-05-26T17:43:27.353402Z"
    }
   },
   "outputs": [
    {
     "data": {
      "application/javascript": [
       "IPython.notebook.set_autosave_interval(1000)"
      ]
     },
     "metadata": {},
     "output_type": "display_data"
    },
    {
     "name": "stdout",
     "output_type": "stream",
     "text": [
      "Autosaving every 1 seconds\n"
     ]
    }
   ],
   "source": [
    "import pandas as pd,numpy as np\n",
    "\n",
    "import warnings\n",
    "warnings.filterwarnings(\"ignore\")\n",
    "\n",
    "%autosave 1"
   ]
  },
  {
   "cell_type": "code",
   "execution_count": 2,
   "id": "a42cacce",
   "metadata": {
    "ExecuteTime": {
     "end_time": "2022-05-26T17:43:27.888496Z",
     "start_time": "2022-05-26T17:43:27.860537Z"
    }
   },
   "outputs": [],
   "source": [
    "data1_final = pd.read_csv(\"data1_final.csv\")\n",
    "data2_final = pd.read_csv(\"data2_final.csv\")\n",
    "data3_final = pd.read_csv(\"data3_final.csv\")"
   ]
  },
  {
   "cell_type": "code",
   "execution_count": 3,
   "id": "7bce14ed",
   "metadata": {
    "ExecuteTime": {
     "end_time": "2022-05-26T17:43:27.918381Z",
     "start_time": "2022-05-26T17:43:27.891453Z"
    },
    "scrolled": false
   },
   "outputs": [
    {
     "data": {
      "text/html": [
       "<div>\n",
       "<style scoped>\n",
       "    .dataframe tbody tr th:only-of-type {\n",
       "        vertical-align: middle;\n",
       "    }\n",
       "\n",
       "    .dataframe tbody tr th {\n",
       "        vertical-align: top;\n",
       "    }\n",
       "\n",
       "    .dataframe thead th {\n",
       "        text-align: right;\n",
       "    }\n",
       "</style>\n",
       "<table border=\"1\" class=\"dataframe\">\n",
       "  <thead>\n",
       "    <tr style=\"text-align: right;\">\n",
       "      <th></th>\n",
       "      <th>name</th>\n",
       "      <th>common_name</th>\n",
       "      <th>sex_filter</th>\n",
       "      <th>category</th>\n",
       "      <th>seriousness</th>\n",
       "    </tr>\n",
       "  </thead>\n",
       "  <tbody>\n",
       "    <tr>\n",
       "      <th>0</th>\n",
       "      <td>Abdominal injury</td>\n",
       "      <td>Recent abdominal injury</td>\n",
       "      <td>both</td>\n",
       "      <td>Risk factors</td>\n",
       "      <td>normal</td>\n",
       "    </tr>\n",
       "    <tr>\n",
       "      <th>1</th>\n",
       "      <td>Absent COVID-19 vaccination</td>\n",
       "      <td>Absent COVID-19 vaccination</td>\n",
       "      <td>both</td>\n",
       "      <td>Risk factors</td>\n",
       "      <td>normal</td>\n",
       "    </tr>\n",
       "    <tr>\n",
       "      <th>2</th>\n",
       "      <td>Acceleration-deceleration injury</td>\n",
       "      <td>Whiplash injury</td>\n",
       "      <td>both</td>\n",
       "      <td>Risk factors</td>\n",
       "      <td>serious</td>\n",
       "    </tr>\n",
       "    <tr>\n",
       "      <th>3</th>\n",
       "      <td>Animal bite</td>\n",
       "      <td>Animal bite</td>\n",
       "      <td>both</td>\n",
       "      <td>Risk factors</td>\n",
       "      <td>serious</td>\n",
       "    </tr>\n",
       "    <tr>\n",
       "      <th>4</th>\n",
       "      <td>Ankle injury</td>\n",
       "      <td>Ankle injury</td>\n",
       "      <td>both</td>\n",
       "      <td>Risk factors</td>\n",
       "      <td>normal</td>\n",
       "    </tr>\n",
       "    <tr>\n",
       "      <th>...</th>\n",
       "      <td>...</td>\n",
       "      <td>...</td>\n",
       "      <td>...</td>\n",
       "      <td>...</td>\n",
       "      <td>...</td>\n",
       "    </tr>\n",
       "    <tr>\n",
       "      <th>172</th>\n",
       "      <td>Upper limb injury</td>\n",
       "      <td>Upper limb injury</td>\n",
       "      <td>both</td>\n",
       "      <td>Risk factors</td>\n",
       "      <td>normal</td>\n",
       "    </tr>\n",
       "    <tr>\n",
       "      <th>173</th>\n",
       "      <td>Weather sensitivity</td>\n",
       "      <td>Weather change sensitivity</td>\n",
       "      <td>both</td>\n",
       "      <td>Risk factors</td>\n",
       "      <td>normal</td>\n",
       "    </tr>\n",
       "    <tr>\n",
       "      <th>174</th>\n",
       "      <td>Wild mushroom consumption</td>\n",
       "      <td>Wild mushroom consumption</td>\n",
       "      <td>both</td>\n",
       "      <td>Risk factors</td>\n",
       "      <td>normal</td>\n",
       "    </tr>\n",
       "    <tr>\n",
       "      <th>175</th>\n",
       "      <td>Woman</td>\n",
       "      <td>Woman</td>\n",
       "      <td>both</td>\n",
       "      <td>Risk factors</td>\n",
       "      <td>normal</td>\n",
       "    </tr>\n",
       "    <tr>\n",
       "      <th>176</th>\n",
       "      <td>Wrist injury</td>\n",
       "      <td>Wrist injury</td>\n",
       "      <td>both</td>\n",
       "      <td>Risk factors</td>\n",
       "      <td>normal</td>\n",
       "    </tr>\n",
       "  </tbody>\n",
       "</table>\n",
       "<p>177 rows × 5 columns</p>\n",
       "</div>"
      ],
      "text/plain": [
       "                                 name                  common_name sex_filter  \\\n",
       "0                    Abdominal injury      Recent abdominal injury       both   \n",
       "1         Absent COVID-19 vaccination  Absent COVID-19 vaccination       both   \n",
       "2    Acceleration-deceleration injury              Whiplash injury       both   \n",
       "3                         Animal bite                  Animal bite       both   \n",
       "4                        Ankle injury                 Ankle injury       both   \n",
       "..                                ...                          ...        ...   \n",
       "172                 Upper limb injury            Upper limb injury       both   \n",
       "173               Weather sensitivity   Weather change sensitivity       both   \n",
       "174         Wild mushroom consumption    Wild mushroom consumption       both   \n",
       "175                             Woman                        Woman       both   \n",
       "176                      Wrist injury                 Wrist injury       both   \n",
       "\n",
       "         category seriousness  \n",
       "0    Risk factors      normal  \n",
       "1    Risk factors      normal  \n",
       "2    Risk factors     serious  \n",
       "3    Risk factors     serious  \n",
       "4    Risk factors      normal  \n",
       "..            ...         ...  \n",
       "172  Risk factors      normal  \n",
       "173  Risk factors      normal  \n",
       "174  Risk factors      normal  \n",
       "175  Risk factors      normal  \n",
       "176  Risk factors      normal  \n",
       "\n",
       "[177 rows x 5 columns]"
      ]
     },
     "execution_count": 3,
     "metadata": {},
     "output_type": "execute_result"
    }
   ],
   "source": [
    "data1_clean = data1_final.drop([\"id\"],axis = 1)\n",
    "data1_clean"
   ]
  },
  {
   "cell_type": "code",
   "execution_count": 4,
   "id": "e61f4162",
   "metadata": {
    "ExecuteTime": {
     "end_time": "2022-05-26T17:43:27.934373Z",
     "start_time": "2022-05-26T17:43:27.920377Z"
    }
   },
   "outputs": [
    {
     "data": {
      "text/plain": [
       "'Activities related to sudden pressure or altitude changes'"
      ]
     },
     "execution_count": 4,
     "metadata": {},
     "output_type": "execute_result"
    }
   ],
   "source": [
    "data1_final['common_name'][8]"
   ]
  },
  {
   "cell_type": "code",
   "execution_count": 5,
   "id": "60485d91",
   "metadata": {
    "ExecuteTime": {
     "end_time": "2022-05-26T17:43:27.950297Z",
     "start_time": "2022-05-26T17:43:27.936334Z"
    }
   },
   "outputs": [
    {
     "data": {
      "text/html": [
       "<div>\n",
       "<style scoped>\n",
       "    .dataframe tbody tr th:only-of-type {\n",
       "        vertical-align: middle;\n",
       "    }\n",
       "\n",
       "    .dataframe tbody tr th {\n",
       "        vertical-align: top;\n",
       "    }\n",
       "\n",
       "    .dataframe thead th {\n",
       "        text-align: right;\n",
       "    }\n",
       "</style>\n",
       "<table border=\"1\" class=\"dataframe\">\n",
       "  <thead>\n",
       "    <tr style=\"text-align: right;\">\n",
       "      <th></th>\n",
       "      <th>id</th>\n",
       "      <th>name</th>\n",
       "      <th>common_name</th>\n",
       "      <th>sex_filter</th>\n",
       "      <th>categories</th>\n",
       "      <th>prevalence</th>\n",
       "      <th>acuteness</th>\n",
       "      <th>severity</th>\n",
       "      <th>triage_level</th>\n",
       "      <th>recommended_channel</th>\n",
       "    </tr>\n",
       "  </thead>\n",
       "  <tbody>\n",
       "    <tr>\n",
       "      <th>0</th>\n",
       "      <td>c_926</td>\n",
       "      <td>ACE inhibitor-induced cough</td>\n",
       "      <td>ACE inhibitor-induced cough</td>\n",
       "      <td>both</td>\n",
       "      <td>['Cardiology']</td>\n",
       "      <td>very_rare</td>\n",
       "      <td>acute_potentially_chronic</td>\n",
       "      <td>mild</td>\n",
       "      <td>consultation</td>\n",
       "      <td>audio_teleconsultation</td>\n",
       "    </tr>\n",
       "    <tr>\n",
       "      <th>1</th>\n",
       "      <td>c_764</td>\n",
       "      <td>Abdominal aortic aneurysm</td>\n",
       "      <td>Abdominal aortic aneurysm</td>\n",
       "      <td>both</td>\n",
       "      <td>['Surgery']</td>\n",
       "      <td>very_rare</td>\n",
       "      <td>chronic</td>\n",
       "      <td>severe</td>\n",
       "      <td>consultation_24</td>\n",
       "      <td>personal_visit</td>\n",
       "    </tr>\n",
       "    <tr>\n",
       "      <th>2</th>\n",
       "      <td>c_885</td>\n",
       "      <td>Abdominal aortic dissection</td>\n",
       "      <td>Abdominal aortic dissection</td>\n",
       "      <td>both</td>\n",
       "      <td>['Surgery']</td>\n",
       "      <td>very_rare</td>\n",
       "      <td>acute_potentially_chronic</td>\n",
       "      <td>severe</td>\n",
       "      <td>emergency_ambulance</td>\n",
       "      <td>personal_visit</td>\n",
       "    </tr>\n",
       "    <tr>\n",
       "      <th>3</th>\n",
       "      <td>c_969</td>\n",
       "      <td>Abdominal pain, unspecified</td>\n",
       "      <td>Unspecific abdominal pain</td>\n",
       "      <td>both</td>\n",
       "      <td>['Gastroenterology']</td>\n",
       "      <td>common</td>\n",
       "      <td>acute</td>\n",
       "      <td>mild</td>\n",
       "      <td>self_care</td>\n",
       "      <td>text_teleconsultation</td>\n",
       "    </tr>\n",
       "    <tr>\n",
       "      <th>4</th>\n",
       "      <td>c_547</td>\n",
       "      <td>Abducens nerve palsy</td>\n",
       "      <td>Sixth nerve palsy</td>\n",
       "      <td>both</td>\n",
       "      <td>['Ophthalmology']</td>\n",
       "      <td>very_rare</td>\n",
       "      <td>chronic</td>\n",
       "      <td>mild</td>\n",
       "      <td>consultation</td>\n",
       "      <td>personal_visit</td>\n",
       "    </tr>\n",
       "  </tbody>\n",
       "</table>\n",
       "</div>"
      ],
      "text/plain": [
       "      id                         name                  common_name sex_filter  \\\n",
       "0  c_926  ACE inhibitor-induced cough  ACE inhibitor-induced cough       both   \n",
       "1  c_764    Abdominal aortic aneurysm    Abdominal aortic aneurysm       both   \n",
       "2  c_885  Abdominal aortic dissection  Abdominal aortic dissection       both   \n",
       "3  c_969  Abdominal pain, unspecified    Unspecific abdominal pain       both   \n",
       "4  c_547         Abducens nerve palsy            Sixth nerve palsy       both   \n",
       "\n",
       "             categories prevalence                  acuteness severity  \\\n",
       "0        ['Cardiology']  very_rare  acute_potentially_chronic     mild   \n",
       "1           ['Surgery']  very_rare                    chronic   severe   \n",
       "2           ['Surgery']  very_rare  acute_potentially_chronic   severe   \n",
       "3  ['Gastroenterology']     common                      acute     mild   \n",
       "4     ['Ophthalmology']  very_rare                    chronic     mild   \n",
       "\n",
       "          triage_level     recommended_channel  \n",
       "0         consultation  audio_teleconsultation  \n",
       "1      consultation_24          personal_visit  \n",
       "2  emergency_ambulance          personal_visit  \n",
       "3            self_care   text_teleconsultation  \n",
       "4         consultation          personal_visit  "
      ]
     },
     "execution_count": 5,
     "metadata": {},
     "output_type": "execute_result"
    }
   ],
   "source": [
    "data3_final.head()"
   ]
  },
  {
   "cell_type": "code",
   "execution_count": 6,
   "id": "7ea1e017",
   "metadata": {
    "ExecuteTime": {
     "end_time": "2022-05-26T17:43:27.966256Z",
     "start_time": "2022-05-26T17:43:27.955307Z"
    }
   },
   "outputs": [
    {
     "data": {
      "text/plain": [
       "array(['Risk factors'], dtype=object)"
      ]
     },
     "execution_count": 6,
     "metadata": {},
     "output_type": "execute_result"
    }
   ],
   "source": [
    "    data1_final.category.unique()"
   ]
  },
  {
   "cell_type": "code",
   "execution_count": 7,
   "id": "50e1ba1c",
   "metadata": {
    "ExecuteTime": {
     "end_time": "2022-05-26T17:43:27.997172Z",
     "start_time": "2022-05-26T17:43:27.971242Z"
    },
    "scrolled": false
   },
   "outputs": [
    {
     "name": "stdout",
     "output_type": "stream",
     "text": [
      "sex_filter = ['both' 'female' 'male']\n",
      "category = ['Risk factors']\n",
      "seriousness = ['normal' 'serious' 'emergency_ambulance' 'emergency']\n"
     ]
    }
   ],
   "source": [
    "#unique data  \n",
    "for x in data1_final.columns[-3:]:\n",
    "    print(f\"{x} = {data1_final[x].unique()}\")"
   ]
  },
  {
   "cell_type": "markdown",
   "id": "496b34b3",
   "metadata": {},
   "source": [
    "---"
   ]
  },
  {
   "cell_type": "code",
   "execution_count": 8,
   "id": "dc9a86e9",
   "metadata": {
    "ExecuteTime": {
     "end_time": "2022-05-26T17:43:28.013128Z",
     "start_time": "2022-05-26T17:43:28.002177Z"
    }
   },
   "outputs": [
    {
     "data": {
      "text/html": [
       "<div>\n",
       "<style scoped>\n",
       "    .dataframe tbody tr th:only-of-type {\n",
       "        vertical-align: middle;\n",
       "    }\n",
       "\n",
       "    .dataframe tbody tr th {\n",
       "        vertical-align: top;\n",
       "    }\n",
       "\n",
       "    .dataframe thead th {\n",
       "        text-align: right;\n",
       "    }\n",
       "</style>\n",
       "<table border=\"1\" class=\"dataframe\">\n",
       "  <thead>\n",
       "    <tr style=\"text-align: right;\">\n",
       "      <th></th>\n",
       "      <th>name</th>\n",
       "      <th>common_name</th>\n",
       "      <th>sex_filter</th>\n",
       "      <th>category</th>\n",
       "      <th>seriousness</th>\n",
       "    </tr>\n",
       "    <tr>\n",
       "      <th>id</th>\n",
       "      <th></th>\n",
       "      <th></th>\n",
       "      <th></th>\n",
       "      <th></th>\n",
       "      <th></th>\n",
       "    </tr>\n",
       "  </thead>\n",
       "  <tbody>\n",
       "    <tr>\n",
       "      <th>s_1558</th>\n",
       "      <td>Abdominal guarding</td>\n",
       "      <td>Abdominal guarding</td>\n",
       "      <td>both</td>\n",
       "      <td>Signs and symptoms</td>\n",
       "      <td>emergency</td>\n",
       "    </tr>\n",
       "    <tr>\n",
       "      <th>s_299</th>\n",
       "      <td>Abdominal mass</td>\n",
       "      <td>Lump in stomach</td>\n",
       "      <td>both</td>\n",
       "      <td>Signs and symptoms</td>\n",
       "      <td>normal</td>\n",
       "    </tr>\n",
       "    <tr>\n",
       "      <th>s_13</th>\n",
       "      <td>Abdominal pain</td>\n",
       "      <td>Stomach pain</td>\n",
       "      <td>both</td>\n",
       "      <td>Signs and symptoms</td>\n",
       "      <td>normal</td>\n",
       "    </tr>\n",
       "    <tr>\n",
       "      <th>s_1598</th>\n",
       "      <td>Abdominal pain, below belly button</td>\n",
       "      <td>Lower stomach pain</td>\n",
       "      <td>both</td>\n",
       "      <td>Signs and symptoms</td>\n",
       "      <td>normal</td>\n",
       "    </tr>\n",
       "    <tr>\n",
       "      <th>s_1802</th>\n",
       "      <td>Abdominal pain, burning or gnawing</td>\n",
       "      <td>Burning or gnawing stomach pain</td>\n",
       "      <td>both</td>\n",
       "      <td>Signs and symptoms</td>\n",
       "      <td>normal</td>\n",
       "    </tr>\n",
       "  </tbody>\n",
       "</table>\n",
       "</div>"
      ],
      "text/plain": [
       "                                      name                      common_name  \\\n",
       "id                                                                            \n",
       "s_1558                  Abdominal guarding               Abdominal guarding   \n",
       "s_299                       Abdominal mass                  Lump in stomach   \n",
       "s_13                        Abdominal pain                     Stomach pain   \n",
       "s_1598  Abdominal pain, below belly button               Lower stomach pain   \n",
       "s_1802  Abdominal pain, burning or gnawing  Burning or gnawing stomach pain   \n",
       "\n",
       "       sex_filter            category seriousness  \n",
       "id                                                 \n",
       "s_1558       both  Signs and symptoms   emergency  \n",
       "s_299        both  Signs and symptoms      normal  \n",
       "s_13         both  Signs and symptoms      normal  \n",
       "s_1598       both  Signs and symptoms      normal  \n",
       "s_1802       both  Signs and symptoms      normal  "
      ]
     },
     "execution_count": 8,
     "metadata": {},
     "output_type": "execute_result"
    }
   ],
   "source": [
    "data2_final.set_index('id',inplace = True)\n",
    "data2_final.head()"
   ]
  },
  {
   "cell_type": "code",
   "execution_count": 9,
   "id": "9e75139b",
   "metadata": {
    "ExecuteTime": {
     "end_time": "2022-05-26T17:43:28.045082Z",
     "start_time": "2022-05-26T17:43:28.015124Z"
    }
   },
   "outputs": [
    {
     "name": "stdout",
     "output_type": "stream",
     "text": [
      "sex_filter = ['both' 'female' 'male']\n",
      "category = ['Signs and symptoms' 'Other']\n",
      "seriousness = ['emergency' 'normal' 'serious' 'emergency_ambulance']\n"
     ]
    }
   ],
   "source": [
    "#unique data  \n",
    "for x in data2_final.columns[-3:]:\n",
    "    print(f\"{x} = {data2_final[x].unique()}\")"
   ]
  },
  {
   "cell_type": "code",
   "execution_count": null,
   "id": "903ec04a",
   "metadata": {},
   "outputs": [],
   "source": []
  },
  {
   "cell_type": "code",
   "execution_count": 10,
   "id": "48a556db",
   "metadata": {
    "ExecuteTime": {
     "end_time": "2022-05-26T17:43:28.061008Z",
     "start_time": "2022-05-26T17:43:28.046040Z"
    }
   },
   "outputs": [
    {
     "data": {
      "text/html": [
       "<div>\n",
       "<style scoped>\n",
       "    .dataframe tbody tr th:only-of-type {\n",
       "        vertical-align: middle;\n",
       "    }\n",
       "\n",
       "    .dataframe tbody tr th {\n",
       "        vertical-align: top;\n",
       "    }\n",
       "\n",
       "    .dataframe thead th {\n",
       "        text-align: right;\n",
       "    }\n",
       "</style>\n",
       "<table border=\"1\" class=\"dataframe\">\n",
       "  <thead>\n",
       "    <tr style=\"text-align: right;\">\n",
       "      <th></th>\n",
       "      <th>0</th>\n",
       "      <th>1</th>\n",
       "      <th>2</th>\n",
       "      <th>3</th>\n",
       "    </tr>\n",
       "    <tr>\n",
       "      <th>id</th>\n",
       "      <th></th>\n",
       "      <th></th>\n",
       "      <th></th>\n",
       "      <th></th>\n",
       "    </tr>\n",
       "  </thead>\n",
       "  <tbody>\n",
       "    <tr>\n",
       "      <th>s_1558</th>\n",
       "      <td>Abdominal guarding</td>\n",
       "      <td>None</td>\n",
       "      <td>None</td>\n",
       "      <td>None</td>\n",
       "    </tr>\n",
       "    <tr>\n",
       "      <th>s_299</th>\n",
       "      <td>Abdominal mass</td>\n",
       "      <td>None</td>\n",
       "      <td>None</td>\n",
       "      <td>None</td>\n",
       "    </tr>\n",
       "    <tr>\n",
       "      <th>s_13</th>\n",
       "      <td>Abdominal pain</td>\n",
       "      <td>None</td>\n",
       "      <td>None</td>\n",
       "      <td>None</td>\n",
       "    </tr>\n",
       "    <tr>\n",
       "      <th>s_1598</th>\n",
       "      <td>Abdominal pain</td>\n",
       "      <td>below belly button</td>\n",
       "      <td>None</td>\n",
       "      <td>None</td>\n",
       "    </tr>\n",
       "    <tr>\n",
       "      <th>s_1802</th>\n",
       "      <td>Abdominal pain</td>\n",
       "      <td>burning or gnawing</td>\n",
       "      <td>None</td>\n",
       "      <td>None</td>\n",
       "    </tr>\n",
       "  </tbody>\n",
       "</table>\n",
       "</div>"
      ],
      "text/plain": [
       "                         0                    1     2     3\n",
       "id                                                         \n",
       "s_1558  Abdominal guarding                 None  None  None\n",
       "s_299       Abdominal mass                 None  None  None\n",
       "s_13        Abdominal pain                 None  None  None\n",
       "s_1598      Abdominal pain   below belly button  None  None\n",
       "s_1802      Abdominal pain   burning or gnawing  None  None"
      ]
     },
     "execution_count": 10,
     "metadata": {},
     "output_type": "execute_result"
    }
   ],
   "source": [
    "data2_name = data2_final['name'].str.split(\",\",expand=True)\n",
    "data2_name.head()"
   ]
  },
  {
   "cell_type": "code",
   "execution_count": 11,
   "id": "1e12acbc",
   "metadata": {
    "ExecuteTime": {
     "end_time": "2022-05-26T17:43:28.092915Z",
     "start_time": "2022-05-26T17:43:28.063006Z"
    },
    "scrolled": false
   },
   "outputs": [
    {
     "data": {
      "text/html": [
       "<div>\n",
       "<style scoped>\n",
       "    .dataframe tbody tr th:only-of-type {\n",
       "        vertical-align: middle;\n",
       "    }\n",
       "\n",
       "    .dataframe tbody tr th {\n",
       "        vertical-align: top;\n",
       "    }\n",
       "\n",
       "    .dataframe thead th {\n",
       "        text-align: right;\n",
       "    }\n",
       "</style>\n",
       "<table border=\"1\" class=\"dataframe\">\n",
       "  <thead>\n",
       "    <tr style=\"text-align: right;\">\n",
       "      <th></th>\n",
       "      <th>0</th>\n",
       "      <th>1</th>\n",
       "      <th>2</th>\n",
       "      <th>3</th>\n",
       "    </tr>\n",
       "    <tr>\n",
       "      <th>id</th>\n",
       "      <th></th>\n",
       "      <th></th>\n",
       "      <th></th>\n",
       "      <th></th>\n",
       "    </tr>\n",
       "  </thead>\n",
       "  <tbody>\n",
       "    <tr>\n",
       "      <th>s_2088</th>\n",
       "      <td>Physical injury</td>\n",
       "      <td></td>\n",
       "      <td></td>\n",
       "      <td></td>\n",
       "    </tr>\n",
       "    <tr>\n",
       "      <th>s_2091</th>\n",
       "      <td>Pain in both upper limbs</td>\n",
       "      <td>both hands</td>\n",
       "      <td></td>\n",
       "      <td></td>\n",
       "    </tr>\n",
       "    <tr>\n",
       "      <th>s_1226</th>\n",
       "      <td>Genu varum</td>\n",
       "      <td></td>\n",
       "      <td></td>\n",
       "      <td></td>\n",
       "    </tr>\n",
       "    <tr>\n",
       "      <th>s_816</th>\n",
       "      <td>Risky alcohol consumption</td>\n",
       "      <td></td>\n",
       "      <td></td>\n",
       "      <td></td>\n",
       "    </tr>\n",
       "    <tr>\n",
       "      <th>s_67</th>\n",
       "      <td>Snoring</td>\n",
       "      <td></td>\n",
       "      <td></td>\n",
       "      <td></td>\n",
       "    </tr>\n",
       "    <tr>\n",
       "      <th>s_299</th>\n",
       "      <td>Abdominal mass</td>\n",
       "      <td></td>\n",
       "      <td></td>\n",
       "      <td></td>\n",
       "    </tr>\n",
       "    <tr>\n",
       "      <th>s_1855</th>\n",
       "      <td>Abdominal pain</td>\n",
       "      <td>right side</td>\n",
       "      <td></td>\n",
       "      <td></td>\n",
       "    </tr>\n",
       "    <tr>\n",
       "      <th>s_371</th>\n",
       "      <td>Overworked</td>\n",
       "      <td></td>\n",
       "      <td></td>\n",
       "      <td></td>\n",
       "    </tr>\n",
       "    <tr>\n",
       "      <th>s_1474</th>\n",
       "      <td>Skull lesions</td>\n",
       "      <td></td>\n",
       "      <td></td>\n",
       "      <td></td>\n",
       "    </tr>\n",
       "    <tr>\n",
       "      <th>s_2230</th>\n",
       "      <td>Recent self-injurious behaviour</td>\n",
       "      <td>major</td>\n",
       "      <td></td>\n",
       "      <td></td>\n",
       "    </tr>\n",
       "    <tr>\n",
       "      <th>s_973</th>\n",
       "      <td>Paresthesia</td>\n",
       "      <td>both upper limbs</td>\n",
       "      <td></td>\n",
       "      <td></td>\n",
       "    </tr>\n",
       "    <tr>\n",
       "      <th>s_2343</th>\n",
       "      <td>Paresis</td>\n",
       "      <td>both upper limbs</td>\n",
       "      <td></td>\n",
       "      <td></td>\n",
       "    </tr>\n",
       "    <tr>\n",
       "      <th>s_2071</th>\n",
       "      <td>Bone pain</td>\n",
       "      <td>lasting more than 1 week</td>\n",
       "      <td></td>\n",
       "      <td></td>\n",
       "    </tr>\n",
       "    <tr>\n",
       "      <th>s_2068</th>\n",
       "      <td>Upper limb pallor</td>\n",
       "      <td></td>\n",
       "      <td></td>\n",
       "      <td></td>\n",
       "    </tr>\n",
       "    <tr>\n",
       "      <th>s_343</th>\n",
       "      <td>Retraction or indentation of nipple</td>\n",
       "      <td></td>\n",
       "      <td></td>\n",
       "      <td></td>\n",
       "    </tr>\n",
       "    <tr>\n",
       "      <th>s_2056</th>\n",
       "      <td>Vomiting</td>\n",
       "      <td>less than 7 days</td>\n",
       "      <td></td>\n",
       "      <td></td>\n",
       "    </tr>\n",
       "    <tr>\n",
       "      <th>s_8</th>\n",
       "      <td>Diarrhea</td>\n",
       "      <td></td>\n",
       "      <td></td>\n",
       "      <td></td>\n",
       "    </tr>\n",
       "    <tr>\n",
       "      <th>s_1229</th>\n",
       "      <td>Diplopia with horizontal image dispersion</td>\n",
       "      <td></td>\n",
       "      <td></td>\n",
       "      <td></td>\n",
       "    </tr>\n",
       "    <tr>\n",
       "      <th>s_1532</th>\n",
       "      <td>Abdominal pain</td>\n",
       "      <td>periumbilical</td>\n",
       "      <td></td>\n",
       "      <td></td>\n",
       "    </tr>\n",
       "    <tr>\n",
       "      <th>s_348</th>\n",
       "      <td>Personality changes</td>\n",
       "      <td></td>\n",
       "      <td></td>\n",
       "      <td></td>\n",
       "    </tr>\n",
       "  </tbody>\n",
       "</table>\n",
       "</div>"
      ],
      "text/plain": [
       "                                                0                          1  \\\n",
       "id                                                                             \n",
       "s_2088                            Physical injury                              \n",
       "s_2091                   Pain in both upper limbs                 both hands   \n",
       "s_1226                                 Genu varum                              \n",
       "s_816                   Risky alcohol consumption                              \n",
       "s_67                                      Snoring                              \n",
       "s_299                              Abdominal mass                              \n",
       "s_1855                             Abdominal pain                 right side   \n",
       "s_371                                  Overworked                              \n",
       "s_1474                              Skull lesions                              \n",
       "s_2230            Recent self-injurious behaviour                      major   \n",
       "s_973                                 Paresthesia           both upper limbs   \n",
       "s_2343                                    Paresis           both upper limbs   \n",
       "s_2071                                  Bone pain   lasting more than 1 week   \n",
       "s_2068                          Upper limb pallor                              \n",
       "s_343         Retraction or indentation of nipple                              \n",
       "s_2056                                   Vomiting           less than 7 days   \n",
       "s_8                                      Diarrhea                              \n",
       "s_1229  Diplopia with horizontal image dispersion                              \n",
       "s_1532                             Abdominal pain              periumbilical   \n",
       "s_348                         Personality changes                              \n",
       "\n",
       "       2 3  \n",
       "id          \n",
       "s_2088      \n",
       "s_2091      \n",
       "s_1226      \n",
       "s_816       \n",
       "s_67        \n",
       "s_299       \n",
       "s_1855      \n",
       "s_371       \n",
       "s_1474      \n",
       "s_2230      \n",
       "s_973       \n",
       "s_2343      \n",
       "s_2071      \n",
       "s_2068      \n",
       "s_343       \n",
       "s_2056      \n",
       "s_8         \n",
       "s_1229      \n",
       "s_1532      \n",
       "s_348       "
      ]
     },
     "execution_count": 11,
     "metadata": {},
     "output_type": "execute_result"
    }
   ],
   "source": [
    "data2_name.fillna('',inplace = True)\n",
    "data2_name.sample(20)"
   ]
  },
  {
   "cell_type": "code",
   "execution_count": 12,
   "id": "e55b0a14",
   "metadata": {
    "ExecuteTime": {
     "end_time": "2022-05-26T17:43:28.108873Z",
     "start_time": "2022-05-26T17:43:28.095906Z"
    }
   },
   "outputs": [
    {
     "data": {
      "text/plain": [
       "array(['', ' or cosmetics', ' or shape', ' or physical exercises',\n",
       "       ' or wearing wool', ' new neurological problem'], dtype=object)"
      ]
     },
     "execution_count": 12,
     "metadata": {},
     "output_type": "execute_result"
    }
   ],
   "source": [
    "data2_name[3].unique()"
   ]
  },
  {
   "cell_type": "code",
   "execution_count": 13,
   "id": "45c884c2",
   "metadata": {
    "ExecuteTime": {
     "end_time": "2022-05-26T17:43:28.124830Z",
     "start_time": "2022-05-26T17:43:28.110867Z"
    }
   },
   "outputs": [
    {
     "data": {
      "text/html": [
       "<div>\n",
       "<style scoped>\n",
       "    .dataframe tbody tr th:only-of-type {\n",
       "        vertical-align: middle;\n",
       "    }\n",
       "\n",
       "    .dataframe tbody tr th {\n",
       "        vertical-align: top;\n",
       "    }\n",
       "\n",
       "    .dataframe thead th {\n",
       "        text-align: right;\n",
       "    }\n",
       "</style>\n",
       "<table border=\"1\" class=\"dataframe\">\n",
       "  <thead>\n",
       "    <tr style=\"text-align: right;\">\n",
       "      <th></th>\n",
       "      <th>name</th>\n",
       "      <th>disease_specify1</th>\n",
       "      <th>disease_specify2</th>\n",
       "      <th>disease_specify3</th>\n",
       "    </tr>\n",
       "    <tr>\n",
       "      <th>id</th>\n",
       "      <th></th>\n",
       "      <th></th>\n",
       "      <th></th>\n",
       "      <th></th>\n",
       "    </tr>\n",
       "  </thead>\n",
       "  <tbody>\n",
       "    <tr>\n",
       "      <th>s_1558</th>\n",
       "      <td>Abdominal guarding</td>\n",
       "      <td></td>\n",
       "      <td></td>\n",
       "      <td></td>\n",
       "    </tr>\n",
       "    <tr>\n",
       "      <th>s_299</th>\n",
       "      <td>Abdominal mass</td>\n",
       "      <td></td>\n",
       "      <td></td>\n",
       "      <td></td>\n",
       "    </tr>\n",
       "    <tr>\n",
       "      <th>s_13</th>\n",
       "      <td>Abdominal pain</td>\n",
       "      <td></td>\n",
       "      <td></td>\n",
       "      <td></td>\n",
       "    </tr>\n",
       "    <tr>\n",
       "      <th>s_1598</th>\n",
       "      <td>Abdominal pain</td>\n",
       "      <td>below belly button</td>\n",
       "      <td></td>\n",
       "      <td></td>\n",
       "    </tr>\n",
       "    <tr>\n",
       "      <th>s_1802</th>\n",
       "      <td>Abdominal pain</td>\n",
       "      <td>burning or gnawing</td>\n",
       "      <td></td>\n",
       "      <td></td>\n",
       "    </tr>\n",
       "  </tbody>\n",
       "</table>\n",
       "</div>"
      ],
      "text/plain": [
       "                      name     disease_specify1 disease_specify2  \\\n",
       "id                                                                 \n",
       "s_1558  Abdominal guarding                                         \n",
       "s_299       Abdominal mass                                         \n",
       "s_13        Abdominal pain                                         \n",
       "s_1598      Abdominal pain   below belly button                    \n",
       "s_1802      Abdominal pain   burning or gnawing                    \n",
       "\n",
       "       disease_specify3  \n",
       "id                       \n",
       "s_1558                   \n",
       "s_299                    \n",
       "s_13                     \n",
       "s_1598                   \n",
       "s_1802                   "
      ]
     },
     "execution_count": 13,
     "metadata": {},
     "output_type": "execute_result"
    }
   ],
   "source": [
    "data2_name.columns = ['name','disease_specify1','disease_specify2','disease_specify3']\n",
    "data2_name.head()"
   ]
  },
  {
   "cell_type": "code",
   "execution_count": 14,
   "id": "356e0e2a",
   "metadata": {
    "ExecuteTime": {
     "end_time": "2022-05-26T17:43:28.156822Z",
     "start_time": "2022-05-26T17:43:28.126825Z"
    },
    "scrolled": false
   },
   "outputs": [
    {
     "data": {
      "text/html": [
       "<div>\n",
       "<style scoped>\n",
       "    .dataframe tbody tr th:only-of-type {\n",
       "        vertical-align: middle;\n",
       "    }\n",
       "\n",
       "    .dataframe tbody tr th {\n",
       "        vertical-align: top;\n",
       "    }\n",
       "\n",
       "    .dataframe thead th {\n",
       "        text-align: right;\n",
       "    }\n",
       "</style>\n",
       "<table border=\"1\" class=\"dataframe\">\n",
       "  <thead>\n",
       "    <tr style=\"text-align: right;\">\n",
       "      <th></th>\n",
       "      <th>name_x</th>\n",
       "      <th>common_name</th>\n",
       "      <th>sex_filter</th>\n",
       "      <th>category</th>\n",
       "      <th>seriousness</th>\n",
       "      <th>name_y</th>\n",
       "      <th>disease_specify1</th>\n",
       "      <th>disease_specify2</th>\n",
       "      <th>disease_specify3</th>\n",
       "    </tr>\n",
       "    <tr>\n",
       "      <th>id</th>\n",
       "      <th></th>\n",
       "      <th></th>\n",
       "      <th></th>\n",
       "      <th></th>\n",
       "      <th></th>\n",
       "      <th></th>\n",
       "      <th></th>\n",
       "      <th></th>\n",
       "      <th></th>\n",
       "    </tr>\n",
       "  </thead>\n",
       "  <tbody>\n",
       "    <tr>\n",
       "      <th>s_1558</th>\n",
       "      <td>Abdominal guarding</td>\n",
       "      <td>Abdominal guarding</td>\n",
       "      <td>both</td>\n",
       "      <td>Signs and symptoms</td>\n",
       "      <td>emergency</td>\n",
       "      <td>Abdominal guarding</td>\n",
       "      <td></td>\n",
       "      <td></td>\n",
       "      <td></td>\n",
       "    </tr>\n",
       "    <tr>\n",
       "      <th>s_299</th>\n",
       "      <td>Abdominal mass</td>\n",
       "      <td>Lump in stomach</td>\n",
       "      <td>both</td>\n",
       "      <td>Signs and symptoms</td>\n",
       "      <td>normal</td>\n",
       "      <td>Abdominal mass</td>\n",
       "      <td></td>\n",
       "      <td></td>\n",
       "      <td></td>\n",
       "    </tr>\n",
       "    <tr>\n",
       "      <th>s_13</th>\n",
       "      <td>Abdominal pain</td>\n",
       "      <td>Stomach pain</td>\n",
       "      <td>both</td>\n",
       "      <td>Signs and symptoms</td>\n",
       "      <td>normal</td>\n",
       "      <td>Abdominal pain</td>\n",
       "      <td></td>\n",
       "      <td></td>\n",
       "      <td></td>\n",
       "    </tr>\n",
       "    <tr>\n",
       "      <th>s_1598</th>\n",
       "      <td>Abdominal pain, below belly button</td>\n",
       "      <td>Lower stomach pain</td>\n",
       "      <td>both</td>\n",
       "      <td>Signs and symptoms</td>\n",
       "      <td>normal</td>\n",
       "      <td>Abdominal pain</td>\n",
       "      <td>below belly button</td>\n",
       "      <td></td>\n",
       "      <td></td>\n",
       "    </tr>\n",
       "    <tr>\n",
       "      <th>s_1802</th>\n",
       "      <td>Abdominal pain, burning or gnawing</td>\n",
       "      <td>Burning or gnawing stomach pain</td>\n",
       "      <td>both</td>\n",
       "      <td>Signs and symptoms</td>\n",
       "      <td>normal</td>\n",
       "      <td>Abdominal pain</td>\n",
       "      <td>burning or gnawing</td>\n",
       "      <td></td>\n",
       "      <td></td>\n",
       "    </tr>\n",
       "  </tbody>\n",
       "</table>\n",
       "</div>"
      ],
      "text/plain": [
       "                                    name_x                      common_name  \\\n",
       "id                                                                            \n",
       "s_1558                  Abdominal guarding               Abdominal guarding   \n",
       "s_299                       Abdominal mass                  Lump in stomach   \n",
       "s_13                        Abdominal pain                     Stomach pain   \n",
       "s_1598  Abdominal pain, below belly button               Lower stomach pain   \n",
       "s_1802  Abdominal pain, burning or gnawing  Burning or gnawing stomach pain   \n",
       "\n",
       "       sex_filter            category seriousness              name_y  \\\n",
       "id                                                                      \n",
       "s_1558       both  Signs and symptoms   emergency  Abdominal guarding   \n",
       "s_299        both  Signs and symptoms      normal      Abdominal mass   \n",
       "s_13         both  Signs and symptoms      normal      Abdominal pain   \n",
       "s_1598       both  Signs and symptoms      normal      Abdominal pain   \n",
       "s_1802       both  Signs and symptoms      normal      Abdominal pain   \n",
       "\n",
       "           disease_specify1 disease_specify2 disease_specify3  \n",
       "id                                                             \n",
       "s_1558                                                         \n",
       "s_299                                                          \n",
       "s_13                                                           \n",
       "s_1598   below belly button                                    \n",
       "s_1802   burning or gnawing                                    "
      ]
     },
     "execution_count": 14,
     "metadata": {},
     "output_type": "execute_result"
    }
   ],
   "source": [
    "data2_clean = data2_final.merge(data2_name,how='left',on='id')\n",
    "data2_clean.head()"
   ]
  },
  {
   "cell_type": "code",
   "execution_count": 15,
   "id": "43edd82f",
   "metadata": {
    "ExecuteTime": {
     "end_time": "2022-05-26T17:43:28.172701Z",
     "start_time": "2022-05-26T17:43:28.158738Z"
    }
   },
   "outputs": [],
   "source": [
    "data2_clean.drop('name_x',axis=1,inplace=True)"
   ]
  },
  {
   "cell_type": "code",
   "execution_count": 16,
   "id": "81c2e48c",
   "metadata": {
    "ExecuteTime": {
     "end_time": "2022-05-26T17:43:28.187696Z",
     "start_time": "2022-05-26T17:43:28.175695Z"
    }
   },
   "outputs": [],
   "source": [
    "data2_clean.rename(columns = {\"name_y\": \"name\"}, \n",
    "          inplace = True)"
   ]
  },
  {
   "cell_type": "code",
   "execution_count": 17,
   "id": "4ea5fc69",
   "metadata": {
    "ExecuteTime": {
     "end_time": "2022-05-26T17:43:28.202659Z",
     "start_time": "2022-05-26T17:43:28.189656Z"
    }
   },
   "outputs": [
    {
     "data": {
      "text/plain": [
       "Index(['common_name', 'sex_filter', 'category', 'seriousness', 'name',\n",
       "       'disease_specify1', 'disease_specify2', 'disease_specify3'],\n",
       "      dtype='object')"
      ]
     },
     "execution_count": 17,
     "metadata": {},
     "output_type": "execute_result"
    }
   ],
   "source": [
    "data2_clean.columns"
   ]
  },
  {
   "cell_type": "code",
   "execution_count": 18,
   "id": "bd7983d4",
   "metadata": {
    "ExecuteTime": {
     "end_time": "2022-05-26T17:43:28.232577Z",
     "start_time": "2022-05-26T17:43:28.205615Z"
    }
   },
   "outputs": [],
   "source": [
    "data2_clean = data2_clean.reindex(columns=['name','disease_specify1', 'disease_specify2', 'disease_specify3','common_name', 'sex_filter', 'category', 'seriousness'])"
   ]
  },
  {
   "cell_type": "code",
   "execution_count": 19,
   "id": "e4bc853f",
   "metadata": {
    "ExecuteTime": {
     "end_time": "2022-05-26T17:43:28.248507Z",
     "start_time": "2022-05-26T17:43:28.234537Z"
    }
   },
   "outputs": [
    {
     "data": {
      "text/html": [
       "<div>\n",
       "<style scoped>\n",
       "    .dataframe tbody tr th:only-of-type {\n",
       "        vertical-align: middle;\n",
       "    }\n",
       "\n",
       "    .dataframe tbody tr th {\n",
       "        vertical-align: top;\n",
       "    }\n",
       "\n",
       "    .dataframe thead th {\n",
       "        text-align: right;\n",
       "    }\n",
       "</style>\n",
       "<table border=\"1\" class=\"dataframe\">\n",
       "  <thead>\n",
       "    <tr style=\"text-align: right;\">\n",
       "      <th></th>\n",
       "      <th>name</th>\n",
       "      <th>disease_specify1</th>\n",
       "      <th>disease_specify2</th>\n",
       "      <th>disease_specify3</th>\n",
       "      <th>common_name</th>\n",
       "      <th>sex_filter</th>\n",
       "      <th>category</th>\n",
       "      <th>seriousness</th>\n",
       "    </tr>\n",
       "    <tr>\n",
       "      <th>id</th>\n",
       "      <th></th>\n",
       "      <th></th>\n",
       "      <th></th>\n",
       "      <th></th>\n",
       "      <th></th>\n",
       "      <th></th>\n",
       "      <th></th>\n",
       "      <th></th>\n",
       "    </tr>\n",
       "  </thead>\n",
       "  <tbody>\n",
       "    <tr>\n",
       "      <th>s_1558</th>\n",
       "      <td>Abdominal guarding</td>\n",
       "      <td></td>\n",
       "      <td></td>\n",
       "      <td></td>\n",
       "      <td>Abdominal guarding</td>\n",
       "      <td>both</td>\n",
       "      <td>Signs and symptoms</td>\n",
       "      <td>emergency</td>\n",
       "    </tr>\n",
       "    <tr>\n",
       "      <th>s_299</th>\n",
       "      <td>Abdominal mass</td>\n",
       "      <td></td>\n",
       "      <td></td>\n",
       "      <td></td>\n",
       "      <td>Lump in stomach</td>\n",
       "      <td>both</td>\n",
       "      <td>Signs and symptoms</td>\n",
       "      <td>normal</td>\n",
       "    </tr>\n",
       "    <tr>\n",
       "      <th>s_13</th>\n",
       "      <td>Abdominal pain</td>\n",
       "      <td></td>\n",
       "      <td></td>\n",
       "      <td></td>\n",
       "      <td>Stomach pain</td>\n",
       "      <td>both</td>\n",
       "      <td>Signs and symptoms</td>\n",
       "      <td>normal</td>\n",
       "    </tr>\n",
       "    <tr>\n",
       "      <th>s_1598</th>\n",
       "      <td>Abdominal pain</td>\n",
       "      <td>below belly button</td>\n",
       "      <td></td>\n",
       "      <td></td>\n",
       "      <td>Lower stomach pain</td>\n",
       "      <td>both</td>\n",
       "      <td>Signs and symptoms</td>\n",
       "      <td>normal</td>\n",
       "    </tr>\n",
       "    <tr>\n",
       "      <th>s_1802</th>\n",
       "      <td>Abdominal pain</td>\n",
       "      <td>burning or gnawing</td>\n",
       "      <td></td>\n",
       "      <td></td>\n",
       "      <td>Burning or gnawing stomach pain</td>\n",
       "      <td>both</td>\n",
       "      <td>Signs and symptoms</td>\n",
       "      <td>normal</td>\n",
       "    </tr>\n",
       "  </tbody>\n",
       "</table>\n",
       "</div>"
      ],
      "text/plain": [
       "                      name     disease_specify1 disease_specify2  \\\n",
       "id                                                                 \n",
       "s_1558  Abdominal guarding                                         \n",
       "s_299       Abdominal mass                                         \n",
       "s_13        Abdominal pain                                         \n",
       "s_1598      Abdominal pain   below belly button                    \n",
       "s_1802      Abdominal pain   burning or gnawing                    \n",
       "\n",
       "       disease_specify3                      common_name sex_filter  \\\n",
       "id                                                                    \n",
       "s_1558                                Abdominal guarding       both   \n",
       "s_299                                    Lump in stomach       both   \n",
       "s_13                                        Stomach pain       both   \n",
       "s_1598                                Lower stomach pain       both   \n",
       "s_1802                   Burning or gnawing stomach pain       both   \n",
       "\n",
       "                  category seriousness  \n",
       "id                                      \n",
       "s_1558  Signs and symptoms   emergency  \n",
       "s_299   Signs and symptoms      normal  \n",
       "s_13    Signs and symptoms      normal  \n",
       "s_1598  Signs and symptoms      normal  \n",
       "s_1802  Signs and symptoms      normal  "
      ]
     },
     "execution_count": 19,
     "metadata": {},
     "output_type": "execute_result"
    }
   ],
   "source": [
    "data2_clean.head()"
   ]
  },
  {
   "cell_type": "markdown",
   "id": "3b88f83e",
   "metadata": {},
   "source": [
    "---"
   ]
  },
  {
   "cell_type": "code",
   "execution_count": 20,
   "id": "4e39ef45",
   "metadata": {
    "ExecuteTime": {
     "end_time": "2022-05-26T17:43:28.264497Z",
     "start_time": "2022-05-26T17:43:28.251492Z"
    }
   },
   "outputs": [
    {
     "data": {
      "text/html": [
       "<div>\n",
       "<style scoped>\n",
       "    .dataframe tbody tr th:only-of-type {\n",
       "        vertical-align: middle;\n",
       "    }\n",
       "\n",
       "    .dataframe tbody tr th {\n",
       "        vertical-align: top;\n",
       "    }\n",
       "\n",
       "    .dataframe thead th {\n",
       "        text-align: right;\n",
       "    }\n",
       "</style>\n",
       "<table border=\"1\" class=\"dataframe\">\n",
       "  <thead>\n",
       "    <tr style=\"text-align: right;\">\n",
       "      <th></th>\n",
       "      <th>name</th>\n",
       "      <th>common_name</th>\n",
       "      <th>sex_filter</th>\n",
       "      <th>categories</th>\n",
       "      <th>prevalence</th>\n",
       "      <th>acuteness</th>\n",
       "      <th>severity</th>\n",
       "      <th>triage_level</th>\n",
       "      <th>recommended_channel</th>\n",
       "    </tr>\n",
       "    <tr>\n",
       "      <th>id</th>\n",
       "      <th></th>\n",
       "      <th></th>\n",
       "      <th></th>\n",
       "      <th></th>\n",
       "      <th></th>\n",
       "      <th></th>\n",
       "      <th></th>\n",
       "      <th></th>\n",
       "      <th></th>\n",
       "    </tr>\n",
       "  </thead>\n",
       "  <tbody>\n",
       "    <tr>\n",
       "      <th>c_926</th>\n",
       "      <td>ACE inhibitor-induced cough</td>\n",
       "      <td>ACE inhibitor-induced cough</td>\n",
       "      <td>both</td>\n",
       "      <td>['Cardiology']</td>\n",
       "      <td>very_rare</td>\n",
       "      <td>acute_potentially_chronic</td>\n",
       "      <td>mild</td>\n",
       "      <td>consultation</td>\n",
       "      <td>audio_teleconsultation</td>\n",
       "    </tr>\n",
       "    <tr>\n",
       "      <th>c_764</th>\n",
       "      <td>Abdominal aortic aneurysm</td>\n",
       "      <td>Abdominal aortic aneurysm</td>\n",
       "      <td>both</td>\n",
       "      <td>['Surgery']</td>\n",
       "      <td>very_rare</td>\n",
       "      <td>chronic</td>\n",
       "      <td>severe</td>\n",
       "      <td>consultation_24</td>\n",
       "      <td>personal_visit</td>\n",
       "    </tr>\n",
       "    <tr>\n",
       "      <th>c_885</th>\n",
       "      <td>Abdominal aortic dissection</td>\n",
       "      <td>Abdominal aortic dissection</td>\n",
       "      <td>both</td>\n",
       "      <td>['Surgery']</td>\n",
       "      <td>very_rare</td>\n",
       "      <td>acute_potentially_chronic</td>\n",
       "      <td>severe</td>\n",
       "      <td>emergency_ambulance</td>\n",
       "      <td>personal_visit</td>\n",
       "    </tr>\n",
       "    <tr>\n",
       "      <th>c_969</th>\n",
       "      <td>Abdominal pain, unspecified</td>\n",
       "      <td>Unspecific abdominal pain</td>\n",
       "      <td>both</td>\n",
       "      <td>['Gastroenterology']</td>\n",
       "      <td>common</td>\n",
       "      <td>acute</td>\n",
       "      <td>mild</td>\n",
       "      <td>self_care</td>\n",
       "      <td>text_teleconsultation</td>\n",
       "    </tr>\n",
       "    <tr>\n",
       "      <th>c_547</th>\n",
       "      <td>Abducens nerve palsy</td>\n",
       "      <td>Sixth nerve palsy</td>\n",
       "      <td>both</td>\n",
       "      <td>['Ophthalmology']</td>\n",
       "      <td>very_rare</td>\n",
       "      <td>chronic</td>\n",
       "      <td>mild</td>\n",
       "      <td>consultation</td>\n",
       "      <td>personal_visit</td>\n",
       "    </tr>\n",
       "  </tbody>\n",
       "</table>\n",
       "</div>"
      ],
      "text/plain": [
       "                              name                  common_name sex_filter  \\\n",
       "id                                                                           \n",
       "c_926  ACE inhibitor-induced cough  ACE inhibitor-induced cough       both   \n",
       "c_764    Abdominal aortic aneurysm    Abdominal aortic aneurysm       both   \n",
       "c_885  Abdominal aortic dissection  Abdominal aortic dissection       both   \n",
       "c_969  Abdominal pain, unspecified    Unspecific abdominal pain       both   \n",
       "c_547         Abducens nerve palsy            Sixth nerve palsy       both   \n",
       "\n",
       "                 categories prevalence                  acuteness severity  \\\n",
       "id                                                                           \n",
       "c_926        ['Cardiology']  very_rare  acute_potentially_chronic     mild   \n",
       "c_764           ['Surgery']  very_rare                    chronic   severe   \n",
       "c_885           ['Surgery']  very_rare  acute_potentially_chronic   severe   \n",
       "c_969  ['Gastroenterology']     common                      acute     mild   \n",
       "c_547     ['Ophthalmology']  very_rare                    chronic     mild   \n",
       "\n",
       "              triage_level     recommended_channel  \n",
       "id                                                  \n",
       "c_926         consultation  audio_teleconsultation  \n",
       "c_764      consultation_24          personal_visit  \n",
       "c_885  emergency_ambulance          personal_visit  \n",
       "c_969            self_care   text_teleconsultation  \n",
       "c_547         consultation          personal_visit  "
      ]
     },
     "execution_count": 20,
     "metadata": {},
     "output_type": "execute_result"
    }
   ],
   "source": [
    "data3_final.set_index('id',inplace = True)\n",
    "data3_final.head()"
   ]
  },
  {
   "cell_type": "code",
   "execution_count": 21,
   "id": "3f71567f",
   "metadata": {
    "ExecuteTime": {
     "end_time": "2022-05-26T17:43:28.758936Z",
     "start_time": "2022-05-26T17:43:28.267449Z"
    },
    "scrolled": true
   },
   "outputs": [
    {
     "data": {
      "text/plain": [
       "id\n",
       "c_926           Cardiology\n",
       "c_764              Surgery\n",
       "c_885              Surgery\n",
       "c_969     Gastroenterology\n",
       "c_547        Ophthalmology\n",
       "                ...       \n",
       "c_1043        Traumatology\n",
       "c_1027        Traumatology\n",
       "c_244         Infectiology\n",
       "c_906         Infectiology\n",
       "c_213     Gastroenterology\n",
       "Name: categories, Length: 709, dtype: object"
      ]
     },
     "execution_count": 21,
     "metadata": {},
     "output_type": "execute_result"
    }
   ],
   "source": [
    "trim = \"[']\"\n",
    "for x in trim:\n",
    "    data3_final['categories'] = data3_final['categories'].str.replace(x,\"\")\n",
    "data3_final['categories']"
   ]
  },
  {
   "cell_type": "code",
   "execution_count": 22,
   "id": "d8b6e19d",
   "metadata": {
    "ExecuteTime": {
     "end_time": "2022-05-26T17:43:28.773921Z",
     "start_time": "2022-05-26T17:43:28.760932Z"
    }
   },
   "outputs": [
    {
     "data": {
      "text/html": [
       "<div>\n",
       "<style scoped>\n",
       "    .dataframe tbody tr th:only-of-type {\n",
       "        vertical-align: middle;\n",
       "    }\n",
       "\n",
       "    .dataframe tbody tr th {\n",
       "        vertical-align: top;\n",
       "    }\n",
       "\n",
       "    .dataframe thead th {\n",
       "        text-align: right;\n",
       "    }\n",
       "</style>\n",
       "<table border=\"1\" class=\"dataframe\">\n",
       "  <thead>\n",
       "    <tr style=\"text-align: right;\">\n",
       "      <th></th>\n",
       "      <th>name</th>\n",
       "      <th>common_name</th>\n",
       "      <th>sex_filter</th>\n",
       "      <th>categories</th>\n",
       "      <th>prevalence</th>\n",
       "      <th>acuteness</th>\n",
       "      <th>severity</th>\n",
       "      <th>triage_level</th>\n",
       "      <th>recommended_channel</th>\n",
       "    </tr>\n",
       "    <tr>\n",
       "      <th>id</th>\n",
       "      <th></th>\n",
       "      <th></th>\n",
       "      <th></th>\n",
       "      <th></th>\n",
       "      <th></th>\n",
       "      <th></th>\n",
       "      <th></th>\n",
       "      <th></th>\n",
       "      <th></th>\n",
       "    </tr>\n",
       "  </thead>\n",
       "  <tbody>\n",
       "    <tr>\n",
       "      <th>c_926</th>\n",
       "      <td>ACE inhibitor-induced cough</td>\n",
       "      <td>ACE inhibitor-induced cough</td>\n",
       "      <td>both</td>\n",
       "      <td>Cardiology</td>\n",
       "      <td>very_rare</td>\n",
       "      <td>acute_potentially_chronic</td>\n",
       "      <td>mild</td>\n",
       "      <td>consultation</td>\n",
       "      <td>audio_teleconsultation</td>\n",
       "    </tr>\n",
       "    <tr>\n",
       "      <th>c_764</th>\n",
       "      <td>Abdominal aortic aneurysm</td>\n",
       "      <td>Abdominal aortic aneurysm</td>\n",
       "      <td>both</td>\n",
       "      <td>Surgery</td>\n",
       "      <td>very_rare</td>\n",
       "      <td>chronic</td>\n",
       "      <td>severe</td>\n",
       "      <td>consultation_24</td>\n",
       "      <td>personal_visit</td>\n",
       "    </tr>\n",
       "    <tr>\n",
       "      <th>c_885</th>\n",
       "      <td>Abdominal aortic dissection</td>\n",
       "      <td>Abdominal aortic dissection</td>\n",
       "      <td>both</td>\n",
       "      <td>Surgery</td>\n",
       "      <td>very_rare</td>\n",
       "      <td>acute_potentially_chronic</td>\n",
       "      <td>severe</td>\n",
       "      <td>emergency_ambulance</td>\n",
       "      <td>personal_visit</td>\n",
       "    </tr>\n",
       "    <tr>\n",
       "      <th>c_969</th>\n",
       "      <td>Abdominal pain, unspecified</td>\n",
       "      <td>Unspecific abdominal pain</td>\n",
       "      <td>both</td>\n",
       "      <td>Gastroenterology</td>\n",
       "      <td>common</td>\n",
       "      <td>acute</td>\n",
       "      <td>mild</td>\n",
       "      <td>self_care</td>\n",
       "      <td>text_teleconsultation</td>\n",
       "    </tr>\n",
       "    <tr>\n",
       "      <th>c_547</th>\n",
       "      <td>Abducens nerve palsy</td>\n",
       "      <td>Sixth nerve palsy</td>\n",
       "      <td>both</td>\n",
       "      <td>Ophthalmology</td>\n",
       "      <td>very_rare</td>\n",
       "      <td>chronic</td>\n",
       "      <td>mild</td>\n",
       "      <td>consultation</td>\n",
       "      <td>personal_visit</td>\n",
       "    </tr>\n",
       "  </tbody>\n",
       "</table>\n",
       "</div>"
      ],
      "text/plain": [
       "                              name                  common_name sex_filter  \\\n",
       "id                                                                           \n",
       "c_926  ACE inhibitor-induced cough  ACE inhibitor-induced cough       both   \n",
       "c_764    Abdominal aortic aneurysm    Abdominal aortic aneurysm       both   \n",
       "c_885  Abdominal aortic dissection  Abdominal aortic dissection       both   \n",
       "c_969  Abdominal pain, unspecified    Unspecific abdominal pain       both   \n",
       "c_547         Abducens nerve palsy            Sixth nerve palsy       both   \n",
       "\n",
       "             categories prevalence                  acuteness severity  \\\n",
       "id                                                                       \n",
       "c_926        Cardiology  very_rare  acute_potentially_chronic     mild   \n",
       "c_764           Surgery  very_rare                    chronic   severe   \n",
       "c_885           Surgery  very_rare  acute_potentially_chronic   severe   \n",
       "c_969  Gastroenterology     common                      acute     mild   \n",
       "c_547     Ophthalmology  very_rare                    chronic     mild   \n",
       "\n",
       "              triage_level     recommended_channel  \n",
       "id                                                  \n",
       "c_926         consultation  audio_teleconsultation  \n",
       "c_764      consultation_24          personal_visit  \n",
       "c_885  emergency_ambulance          personal_visit  \n",
       "c_969            self_care   text_teleconsultation  \n",
       "c_547         consultation          personal_visit  "
      ]
     },
     "execution_count": 22,
     "metadata": {},
     "output_type": "execute_result"
    }
   ],
   "source": [
    "data3_final.head()"
   ]
  },
  {
   "cell_type": "code",
   "execution_count": 23,
   "id": "9f9f2ce9",
   "metadata": {
    "ExecuteTime": {
     "end_time": "2022-05-26T17:43:28.788855Z",
     "start_time": "2022-05-26T17:43:28.776889Z"
    }
   },
   "outputs": [
    {
     "name": "stdout",
     "output_type": "stream",
     "text": [
      "sex_filter = ['both' 'female' 'male']\n",
      "categories = ['Cardiology' 'Surgery' 'Gastroenterology' 'Ophthalmology' 'Toxicology'\n",
      " 'Orthopedics' 'Traumatology' 'Dermatology' 'Infectiology' 'Endocrinology'\n",
      " 'Otorhinolaryngology' 'Pulmonology' 'Urology' 'Nephrology' 'Hematology'\n",
      " 'Genetics' 'Psychiatry' 'Gynecology' 'Oncology' 'Allergology'\n",
      " 'Rheumatology' 'Neurology' 'Venereology' 'Dentistry' 'Other'\n",
      " 'Internal Medicine' 'Angiology' 'Diabetology' 'Pediatrics']\n",
      "prevalence = ['very_rare' 'common' 'moderate' 'rare']\n",
      "acuteness = ['acute_potentially_chronic' 'chronic' 'acute'\n",
      " 'chronic_with_exacerbations']\n",
      "severity = ['mild' 'severe' 'moderate']\n",
      "triage_level = ['consultation' 'consultation_24' 'emergency_ambulance' 'self_care'\n",
      " 'emergency']\n",
      "recommended_channel = ['audio_teleconsultation' 'personal_visit' 'text_teleconsultation'\n",
      " 'video_teleconsultation']\n"
     ]
    }
   ],
   "source": [
    "#unique data  \n",
    "for x in data3_final.columns[2:]:\n",
    "    print(f\"{x} = {data3_final[x].unique()}\")"
   ]
  },
  {
   "cell_type": "code",
   "execution_count": 24,
   "id": "1db155c0",
   "metadata": {
    "ExecuteTime": {
     "end_time": "2022-05-26T17:43:28.818811Z",
     "start_time": "2022-05-26T17:43:28.790849Z"
    }
   },
   "outputs": [
    {
     "data": {
      "text/html": [
       "<div>\n",
       "<style scoped>\n",
       "    .dataframe tbody tr th:only-of-type {\n",
       "        vertical-align: middle;\n",
       "    }\n",
       "\n",
       "    .dataframe tbody tr th {\n",
       "        vertical-align: top;\n",
       "    }\n",
       "\n",
       "    .dataframe thead th {\n",
       "        text-align: right;\n",
       "    }\n",
       "</style>\n",
       "<table border=\"1\" class=\"dataframe\">\n",
       "  <thead>\n",
       "    <tr style=\"text-align: right;\">\n",
       "      <th></th>\n",
       "      <th>name</th>\n",
       "      <th>common_name</th>\n",
       "      <th>sex_filter</th>\n",
       "      <th>categories</th>\n",
       "      <th>prevalence</th>\n",
       "      <th>acuteness</th>\n",
       "      <th>severity</th>\n",
       "      <th>triage_level</th>\n",
       "      <th>recommended_channel</th>\n",
       "    </tr>\n",
       "    <tr>\n",
       "      <th>id</th>\n",
       "      <th></th>\n",
       "      <th></th>\n",
       "      <th></th>\n",
       "      <th></th>\n",
       "      <th></th>\n",
       "      <th></th>\n",
       "      <th></th>\n",
       "      <th></th>\n",
       "      <th></th>\n",
       "    </tr>\n",
       "  </thead>\n",
       "  <tbody>\n",
       "    <tr>\n",
       "      <th>c_926</th>\n",
       "      <td>ACE inhibitor-induced cough</td>\n",
       "      <td>ACE inhibitor-induced cough</td>\n",
       "      <td>both</td>\n",
       "      <td>Cardiology</td>\n",
       "      <td>very_rare</td>\n",
       "      <td>acute_potentially_chronic</td>\n",
       "      <td>mild</td>\n",
       "      <td>consultation</td>\n",
       "      <td>audio_teleconsultation</td>\n",
       "    </tr>\n",
       "    <tr>\n",
       "      <th>c_764</th>\n",
       "      <td>Abdominal aortic aneurysm</td>\n",
       "      <td>Abdominal aortic aneurysm</td>\n",
       "      <td>both</td>\n",
       "      <td>Surgery</td>\n",
       "      <td>very_rare</td>\n",
       "      <td>chronic</td>\n",
       "      <td>severe</td>\n",
       "      <td>consultation_24</td>\n",
       "      <td>personal_visit</td>\n",
       "    </tr>\n",
       "    <tr>\n",
       "      <th>c_885</th>\n",
       "      <td>Abdominal aortic dissection</td>\n",
       "      <td>Abdominal aortic dissection</td>\n",
       "      <td>both</td>\n",
       "      <td>Surgery</td>\n",
       "      <td>very_rare</td>\n",
       "      <td>acute_potentially_chronic</td>\n",
       "      <td>severe</td>\n",
       "      <td>emergency_ambulance</td>\n",
       "      <td>personal_visit</td>\n",
       "    </tr>\n",
       "    <tr>\n",
       "      <th>c_969</th>\n",
       "      <td>Abdominal pain, unspecified</td>\n",
       "      <td>Unspecific abdominal pain</td>\n",
       "      <td>both</td>\n",
       "      <td>Gastroenterology</td>\n",
       "      <td>common</td>\n",
       "      <td>acute</td>\n",
       "      <td>mild</td>\n",
       "      <td>self_care</td>\n",
       "      <td>text_teleconsultation</td>\n",
       "    </tr>\n",
       "    <tr>\n",
       "      <th>c_547</th>\n",
       "      <td>Abducens nerve palsy</td>\n",
       "      <td>Sixth nerve palsy</td>\n",
       "      <td>both</td>\n",
       "      <td>Ophthalmology</td>\n",
       "      <td>very_rare</td>\n",
       "      <td>chronic</td>\n",
       "      <td>mild</td>\n",
       "      <td>consultation</td>\n",
       "      <td>personal_visit</td>\n",
       "    </tr>\n",
       "  </tbody>\n",
       "</table>\n",
       "</div>"
      ],
      "text/plain": [
       "                              name                  common_name sex_filter  \\\n",
       "id                                                                           \n",
       "c_926  ACE inhibitor-induced cough  ACE inhibitor-induced cough       both   \n",
       "c_764    Abdominal aortic aneurysm    Abdominal aortic aneurysm       both   \n",
       "c_885  Abdominal aortic dissection  Abdominal aortic dissection       both   \n",
       "c_969  Abdominal pain, unspecified    Unspecific abdominal pain       both   \n",
       "c_547         Abducens nerve palsy            Sixth nerve palsy       both   \n",
       "\n",
       "             categories prevalence                  acuteness severity  \\\n",
       "id                                                                       \n",
       "c_926        Cardiology  very_rare  acute_potentially_chronic     mild   \n",
       "c_764           Surgery  very_rare                    chronic   severe   \n",
       "c_885           Surgery  very_rare  acute_potentially_chronic   severe   \n",
       "c_969  Gastroenterology     common                      acute     mild   \n",
       "c_547     Ophthalmology  very_rare                    chronic     mild   \n",
       "\n",
       "              triage_level     recommended_channel  \n",
       "id                                                  \n",
       "c_926         consultation  audio_teleconsultation  \n",
       "c_764      consultation_24          personal_visit  \n",
       "c_885  emergency_ambulance          personal_visit  \n",
       "c_969            self_care   text_teleconsultation  \n",
       "c_547         consultation          personal_visit  "
      ]
     },
     "execution_count": 24,
     "metadata": {},
     "output_type": "execute_result"
    }
   ],
   "source": [
    "data3_clean = data3_final\n",
    "data3_clean.head()"
   ]
  },
  {
   "cell_type": "markdown",
   "id": "92044dba",
   "metadata": {},
   "source": [
    "---"
   ]
  },
  {
   "cell_type": "code",
   "execution_count": 25,
   "id": "9b126382",
   "metadata": {
    "ExecuteTime": {
     "end_time": "2022-05-26T17:43:28.834731Z",
     "start_time": "2022-05-26T17:43:28.820805Z"
    }
   },
   "outputs": [],
   "source": [
    "data1_group = data1_clean.groupby(['name','common_name']).first()\n",
    "data2_group = data2_clean.groupby(['name','common_name']).first()\n",
    "data3_group = data3_clean.groupby(['name','common_name']).first()"
   ]
  },
  {
   "cell_type": "code",
   "execution_count": null,
   "id": "2da30481",
   "metadata": {
    "ExecuteTime": {
     "start_time": "2022-05-26T17:43:27.380Z"
    },
    "scrolled": true
   },
   "outputs": [
    {
     "data": {
      "text/plain": [
       "(True, True, True)"
      ]
     },
     "execution_count": 26,
     "metadata": {},
     "output_type": "execute_result"
    }
   ],
   "source": [
    "data1_group.shape[0] == data1_clean.shape[0],data2_group.shape[0] == data2_clean.shape[0],data3_group.shape[0] == data3_clean.shape[0]"
   ]
  },
  {
   "cell_type": "code",
   "execution_count": null,
   "id": "a355d774",
   "metadata": {
    "ExecuteTime": {
     "start_time": "2022-05-26T17:43:27.382Z"
    }
   },
   "outputs": [],
   "source": [
    "#finding the disease\n",
    "def pattern (df,pat):\n",
    "    return df[df.apply(lambda row: row.astype(str).str.contains(pat,case=False).any(), axis=1)]\n",
    "    \n",
    "pattern(data2_clean,'cold')"
   ]
  },
  {
   "cell_type": "code",
   "execution_count": null,
   "id": "bafa5cb6",
   "metadata": {
    "ExecuteTime": {
     "start_time": "2022-05-26T17:43:27.383Z"
    }
   },
   "outputs": [],
   "source": [
    "data1_group"
   ]
  },
  {
   "cell_type": "code",
   "execution_count": null,
   "id": "f1bff2bb",
   "metadata": {
    "ExecuteTime": {
     "start_time": "2022-05-26T17:43:27.385Z"
    }
   },
   "outputs": [],
   "source": [
    "data2_group"
   ]
  },
  {
   "cell_type": "code",
   "execution_count": null,
   "id": "ddfe9e9b",
   "metadata": {
    "ExecuteTime": {
     "start_time": "2022-05-26T17:43:27.387Z"
    }
   },
   "outputs": [],
   "source": [
    "data3_group"
   ]
  }
 ],
 "metadata": {
  "kernelspec": {
   "display_name": "Python 3 (ipykernel)",
   "language": "python",
   "name": "python3"
  },
  "language_info": {
   "codemirror_mode": {
    "name": "ipython",
    "version": 3
   },
   "file_extension": ".py",
   "mimetype": "text/x-python",
   "name": "python",
   "nbconvert_exporter": "python",
   "pygments_lexer": "ipython3",
   "version": "3.9.7"
  },
  "toc": {
   "base_numbering": 1,
   "nav_menu": {},
   "number_sections": true,
   "sideBar": true,
   "skip_h1_title": false,
   "title_cell": "Table of Contents",
   "title_sidebar": "Contents",
   "toc_cell": false,
   "toc_position": {},
   "toc_section_display": true,
   "toc_window_display": false
  }
 },
 "nbformat": 4,
 "nbformat_minor": 5
}
